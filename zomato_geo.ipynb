{
  "nbformat": 4,
  "nbformat_minor": 0,
  "metadata": {
    "colab": {
      "name": "zomato_geo.ipynb",
      "provenance": [],
      "collapsed_sections": [],
      "authorship_tag": "ABX9TyNf/y2K3ifPODvuGOG9Atqt",
      "include_colab_link": true
    },
    "kernelspec": {
      "name": "python3",
      "display_name": "Python 3"
    },
    "language_info": {
      "name": "python"
    }
  },
  "cells": [
    {
      "cell_type": "markdown",
      "metadata": {
        "id": "view-in-github",
        "colab_type": "text"
      },
      "source": [
        "<a href=\"https://colab.research.google.com/github/vedantkathe846/Geospatial_zomato/blob/main/zomato_geo.ipynb\" target=\"_parent\"><img src=\"https://colab.research.google.com/assets/colab-badge.svg\" alt=\"Open In Colab\"/></a>"
      ]
    },
    {
      "cell_type": "code",
      "metadata": {
        "id": "K4uoKzjcB5Xj"
      },
      "source": [
        "import numpy as np\n",
        "import pandas as pd\n",
        "import seaborn as sns\n",
        "import requests\n",
        "import io"
      ],
      "execution_count": 1,
      "outputs": []
    },
    {
      "cell_type": "code",
      "metadata": {
        "colab": {
          "base_uri": "https://localhost:8080/"
        },
        "id": "MOpeYVQ9COD_",
        "outputId": "93f64fff-7530-4a10-c8c9-8be4fd6fcbf9"
      },
      "source": [
        "from google.colab import drive\n",
        "drive.mount('/content/drive')"
      ],
      "execution_count": 2,
      "outputs": [
        {
          "output_type": "stream",
          "text": [
            "Drive already mounted at /content/drive; to attempt to forcibly remount, call drive.mount(\"/content/drive\", force_remount=True).\n"
          ],
          "name": "stdout"
        }
      ]
    },
    {
      "cell_type": "code",
      "metadata": {
        "colab": {
          "base_uri": "https://localhost:8080/",
          "height": 593
        },
        "id": "E7iK0oGCCO6Z",
        "outputId": "230ae7db-caec-4d05-9438-b02fa9931526"
      },
      "source": [
        "df=pd.read_csv('/content/drive/MyDrive/1..Zomato Spatial Analysis/zomato.csv')\n",
        "df.head()"
      ],
      "execution_count": 119,
      "outputs": [
        {
          "output_type": "execute_result",
          "data": {
            "text/html": [
              "<div>\n",
              "<style scoped>\n",
              "    .dataframe tbody tr th:only-of-type {\n",
              "        vertical-align: middle;\n",
              "    }\n",
              "\n",
              "    .dataframe tbody tr th {\n",
              "        vertical-align: top;\n",
              "    }\n",
              "\n",
              "    .dataframe thead th {\n",
              "        text-align: right;\n",
              "    }\n",
              "</style>\n",
              "<table border=\"1\" class=\"dataframe\">\n",
              "  <thead>\n",
              "    <tr style=\"text-align: right;\">\n",
              "      <th></th>\n",
              "      <th>url</th>\n",
              "      <th>address</th>\n",
              "      <th>name</th>\n",
              "      <th>online_order</th>\n",
              "      <th>book_table</th>\n",
              "      <th>rate</th>\n",
              "      <th>votes</th>\n",
              "      <th>phone</th>\n",
              "      <th>location</th>\n",
              "      <th>rest_type</th>\n",
              "      <th>dish_liked</th>\n",
              "      <th>cuisines</th>\n",
              "      <th>approx_cost(for two people)</th>\n",
              "      <th>reviews_list</th>\n",
              "      <th>menu_item</th>\n",
              "      <th>listed_in(type)</th>\n",
              "      <th>listed_in(city)</th>\n",
              "    </tr>\n",
              "  </thead>\n",
              "  <tbody>\n",
              "    <tr>\n",
              "      <th>0</th>\n",
              "      <td>https://www.zomato.com/bangalore/jalsa-banasha...</td>\n",
              "      <td>942, 21st Main Road, 2nd Stage, Banashankari, ...</td>\n",
              "      <td>Jalsa</td>\n",
              "      <td>Yes</td>\n",
              "      <td>Yes</td>\n",
              "      <td>4.1/5</td>\n",
              "      <td>775</td>\n",
              "      <td>080 42297555\\r\\n+91 9743772233</td>\n",
              "      <td>Banashankari</td>\n",
              "      <td>Casual Dining</td>\n",
              "      <td>Pasta, Lunch Buffet, Masala Papad, Paneer Laja...</td>\n",
              "      <td>North Indian, Mughlai, Chinese</td>\n",
              "      <td>800</td>\n",
              "      <td>[('Rated 4.0', 'RATED\\n  A beautiful place to ...</td>\n",
              "      <td>[]</td>\n",
              "      <td>Buffet</td>\n",
              "      <td>Banashankari</td>\n",
              "    </tr>\n",
              "    <tr>\n",
              "      <th>1</th>\n",
              "      <td>https://www.zomato.com/bangalore/spice-elephan...</td>\n",
              "      <td>2nd Floor, 80 Feet Road, Near Big Bazaar, 6th ...</td>\n",
              "      <td>Spice Elephant</td>\n",
              "      <td>Yes</td>\n",
              "      <td>No</td>\n",
              "      <td>4.1/5</td>\n",
              "      <td>787</td>\n",
              "      <td>080 41714161</td>\n",
              "      <td>Banashankari</td>\n",
              "      <td>Casual Dining</td>\n",
              "      <td>Momos, Lunch Buffet, Chocolate Nirvana, Thai G...</td>\n",
              "      <td>Chinese, North Indian, Thai</td>\n",
              "      <td>800</td>\n",
              "      <td>[('Rated 4.0', 'RATED\\n  Had been here for din...</td>\n",
              "      <td>[]</td>\n",
              "      <td>Buffet</td>\n",
              "      <td>Banashankari</td>\n",
              "    </tr>\n",
              "    <tr>\n",
              "      <th>2</th>\n",
              "      <td>https://www.zomato.com/SanchurroBangalore?cont...</td>\n",
              "      <td>1112, Next to KIMS Medical College, 17th Cross...</td>\n",
              "      <td>San Churro Cafe</td>\n",
              "      <td>Yes</td>\n",
              "      <td>No</td>\n",
              "      <td>3.8/5</td>\n",
              "      <td>918</td>\n",
              "      <td>+91 9663487993</td>\n",
              "      <td>Banashankari</td>\n",
              "      <td>Cafe, Casual Dining</td>\n",
              "      <td>Churros, Cannelloni, Minestrone Soup, Hot Choc...</td>\n",
              "      <td>Cafe, Mexican, Italian</td>\n",
              "      <td>800</td>\n",
              "      <td>[('Rated 3.0', \"RATED\\n  Ambience is not that ...</td>\n",
              "      <td>[]</td>\n",
              "      <td>Buffet</td>\n",
              "      <td>Banashankari</td>\n",
              "    </tr>\n",
              "    <tr>\n",
              "      <th>3</th>\n",
              "      <td>https://www.zomato.com/bangalore/addhuri-udupi...</td>\n",
              "      <td>1st Floor, Annakuteera, 3rd Stage, Banashankar...</td>\n",
              "      <td>Addhuri Udupi Bhojana</td>\n",
              "      <td>No</td>\n",
              "      <td>No</td>\n",
              "      <td>3.7/5</td>\n",
              "      <td>88</td>\n",
              "      <td>+91 9620009302</td>\n",
              "      <td>Banashankari</td>\n",
              "      <td>Quick Bites</td>\n",
              "      <td>Masala Dosa</td>\n",
              "      <td>South Indian, North Indian</td>\n",
              "      <td>300</td>\n",
              "      <td>[('Rated 4.0', \"RATED\\n  Great food and proper...</td>\n",
              "      <td>[]</td>\n",
              "      <td>Buffet</td>\n",
              "      <td>Banashankari</td>\n",
              "    </tr>\n",
              "    <tr>\n",
              "      <th>4</th>\n",
              "      <td>https://www.zomato.com/bangalore/grand-village...</td>\n",
              "      <td>10, 3rd Floor, Lakshmi Associates, Gandhi Baza...</td>\n",
              "      <td>Grand Village</td>\n",
              "      <td>No</td>\n",
              "      <td>No</td>\n",
              "      <td>3.8/5</td>\n",
              "      <td>166</td>\n",
              "      <td>+91 8026612447\\r\\n+91 9901210005</td>\n",
              "      <td>Basavanagudi</td>\n",
              "      <td>Casual Dining</td>\n",
              "      <td>Panipuri, Gol Gappe</td>\n",
              "      <td>North Indian, Rajasthani</td>\n",
              "      <td>600</td>\n",
              "      <td>[('Rated 4.0', 'RATED\\n  Very good restaurant ...</td>\n",
              "      <td>[]</td>\n",
              "      <td>Buffet</td>\n",
              "      <td>Banashankari</td>\n",
              "    </tr>\n",
              "  </tbody>\n",
              "</table>\n",
              "</div>"
            ],
            "text/plain": [
              "                                                 url  ... listed_in(city)\n",
              "0  https://www.zomato.com/bangalore/jalsa-banasha...  ...    Banashankari\n",
              "1  https://www.zomato.com/bangalore/spice-elephan...  ...    Banashankari\n",
              "2  https://www.zomato.com/SanchurroBangalore?cont...  ...    Banashankari\n",
              "3  https://www.zomato.com/bangalore/addhuri-udupi...  ...    Banashankari\n",
              "4  https://www.zomato.com/bangalore/grand-village...  ...    Banashankari\n",
              "\n",
              "[5 rows x 17 columns]"
            ]
          },
          "metadata": {
            "tags": []
          },
          "execution_count": 119
        }
      ]
    },
    {
      "cell_type": "code",
      "metadata": {
        "colab": {
          "base_uri": "https://localhost:8080/"
        },
        "id": "OCP50iW0CO9U",
        "outputId": "5d4de042-277c-48ad-df6f-656bb370538e"
      },
      "source": [
        "df.isna().sum()"
      ],
      "execution_count": 4,
      "outputs": [
        {
          "output_type": "execute_result",
          "data": {
            "text/plain": [
              "url                                0\n",
              "address                            0\n",
              "name                               0\n",
              "online_order                       0\n",
              "book_table                         0\n",
              "rate                            7775\n",
              "votes                              0\n",
              "phone                           1208\n",
              "location                          21\n",
              "rest_type                        227\n",
              "dish_liked                     28078\n",
              "cuisines                          45\n",
              "approx_cost(for two people)      346\n",
              "reviews_list                       0\n",
              "menu_item                          0\n",
              "listed_in(type)                    0\n",
              "listed_in(city)                    0\n",
              "dtype: int64"
            ]
          },
          "metadata": {
            "tags": []
          },
          "execution_count": 4
        }
      ]
    },
    {
      "cell_type": "code",
      "metadata": {
        "colab": {
          "base_uri": "https://localhost:8080/"
        },
        "id": "AGm-55DMCPAZ",
        "outputId": "6903bc09-5eb0-4507-c25a-753776fc1d07"
      },
      "source": [
        "df.shape"
      ],
      "execution_count": 5,
      "outputs": [
        {
          "output_type": "execute_result",
          "data": {
            "text/plain": [
              "(51717, 17)"
            ]
          },
          "metadata": {
            "tags": []
          },
          "execution_count": 5
        }
      ]
    },
    {
      "cell_type": "code",
      "metadata": {
        "id": "b0DQCI4dMxlM"
      },
      "source": [
        ""
      ],
      "execution_count": 5,
      "outputs": []
    },
    {
      "cell_type": "code",
      "metadata": {
        "id": "lBScZoqBCPDH"
      },
      "source": [
        "df.dropna(axis=0,subset=['location'],inplace=True)"
      ],
      "execution_count": 6,
      "outputs": []
    },
    {
      "cell_type": "code",
      "metadata": {
        "colab": {
          "base_uri": "https://localhost:8080/"
        },
        "id": "AylGOTZqCPGA",
        "outputId": "997ec246-efa2-4fce-92a4-e3c0b5b1c307"
      },
      "source": [
        "df.isna().sum()"
      ],
      "execution_count": 7,
      "outputs": [
        {
          "output_type": "execute_result",
          "data": {
            "text/plain": [
              "url                                0\n",
              "address                            0\n",
              "name                               0\n",
              "online_order                       0\n",
              "book_table                         0\n",
              "rate                            7754\n",
              "votes                              0\n",
              "phone                           1187\n",
              "location                           0\n",
              "rest_type                        206\n",
              "dish_liked                     28057\n",
              "cuisines                          24\n",
              "approx_cost(for two people)      325\n",
              "reviews_list                       0\n",
              "menu_item                          0\n",
              "listed_in(type)                    0\n",
              "listed_in(city)                    0\n",
              "dtype: int64"
            ]
          },
          "metadata": {
            "tags": []
          },
          "execution_count": 7
        }
      ]
    },
    {
      "cell_type": "code",
      "metadata": {
        "colab": {
          "base_uri": "https://localhost:8080/"
        },
        "id": "I05jKx5fCPI9",
        "outputId": "9210fb0b-50ab-45f7-9f3c-6a3f66ac1ab5"
      },
      "source": [
        "len(df['location'].unique())"
      ],
      "execution_count": 8,
      "outputs": [
        {
          "output_type": "execute_result",
          "data": {
            "text/plain": [
              "93"
            ]
          },
          "metadata": {
            "tags": []
          },
          "execution_count": 8
        }
      ]
    },
    {
      "cell_type": "code",
      "metadata": {
        "colab": {
          "base_uri": "https://localhost:8080/"
        },
        "id": "purT11tpCPLu",
        "outputId": "b80ff2f1-f3a7-4463-c97f-429c101a2d12"
      },
      "source": [
        "df.location.value_counts()"
      ],
      "execution_count": 9,
      "outputs": [
        {
          "output_type": "execute_result",
          "data": {
            "text/plain": [
              "BTM                      5124\n",
              "HSR                      2523\n",
              "Koramangala 5th Block    2504\n",
              "JP Nagar                 2235\n",
              "Whitefield               2144\n",
              "                         ... \n",
              "Yelahanka                   6\n",
              "West Bangalore              6\n",
              "Jakkur                      3\n",
              "Rajarajeshwari Nagar        2\n",
              "Peenya                      1\n",
              "Name: location, Length: 93, dtype: int64"
            ]
          },
          "metadata": {
            "tags": []
          },
          "execution_count": 9
        }
      ]
    },
    {
      "cell_type": "code",
      "metadata": {
        "id": "qFPI-dZ0CPOg"
      },
      "source": [
        "location=pd.DataFrame()"
      ],
      "execution_count": 10,
      "outputs": []
    },
    {
      "cell_type": "code",
      "metadata": {
        "id": "U214ox7TCPQ-"
      },
      "source": [
        "location['names']=df['location'].unique()"
      ],
      "execution_count": 11,
      "outputs": []
    },
    {
      "cell_type": "code",
      "metadata": {
        "colab": {
          "base_uri": "https://localhost:8080/",
          "height": 203
        },
        "id": "ckeJHuqoCPTw",
        "outputId": "7cc9e083-5a39-4047-9f58-8d5c79c25429"
      },
      "source": [
        "location.head()"
      ],
      "execution_count": 12,
      "outputs": [
        {
          "output_type": "execute_result",
          "data": {
            "text/html": [
              "<div>\n",
              "<style scoped>\n",
              "    .dataframe tbody tr th:only-of-type {\n",
              "        vertical-align: middle;\n",
              "    }\n",
              "\n",
              "    .dataframe tbody tr th {\n",
              "        vertical-align: top;\n",
              "    }\n",
              "\n",
              "    .dataframe thead th {\n",
              "        text-align: right;\n",
              "    }\n",
              "</style>\n",
              "<table border=\"1\" class=\"dataframe\">\n",
              "  <thead>\n",
              "    <tr style=\"text-align: right;\">\n",
              "      <th></th>\n",
              "      <th>names</th>\n",
              "    </tr>\n",
              "  </thead>\n",
              "  <tbody>\n",
              "    <tr>\n",
              "      <th>0</th>\n",
              "      <td>Banashankari</td>\n",
              "    </tr>\n",
              "    <tr>\n",
              "      <th>1</th>\n",
              "      <td>Basavanagudi</td>\n",
              "    </tr>\n",
              "    <tr>\n",
              "      <th>2</th>\n",
              "      <td>Mysore Road</td>\n",
              "    </tr>\n",
              "    <tr>\n",
              "      <th>3</th>\n",
              "      <td>Jayanagar</td>\n",
              "    </tr>\n",
              "    <tr>\n",
              "      <th>4</th>\n",
              "      <td>Kumaraswamy Layout</td>\n",
              "    </tr>\n",
              "  </tbody>\n",
              "</table>\n",
              "</div>"
            ],
            "text/plain": [
              "                names\n",
              "0        Banashankari\n",
              "1        Basavanagudi\n",
              "2         Mysore Road\n",
              "3           Jayanagar\n",
              "4  Kumaraswamy Layout"
            ]
          },
          "metadata": {
            "tags": []
          },
          "execution_count": 12
        }
      ]
    },
    {
      "cell_type": "code",
      "metadata": {
        "colab": {
          "base_uri": "https://localhost:8080/"
        },
        "id": "I8g2SMSoCPXW",
        "outputId": "7036e02a-510a-48e5-fbd1-3d093b35b1e6"
      },
      "source": [
        "!pip install geopy"
      ],
      "execution_count": 13,
      "outputs": [
        {
          "output_type": "stream",
          "text": [
            "Requirement already satisfied: geopy in /usr/local/lib/python3.7/dist-packages (1.17.0)\n",
            "Requirement already satisfied: geographiclib<2,>=1.49 in /usr/local/lib/python3.7/dist-packages (from geopy) (1.52)\n"
          ],
          "name": "stdout"
        }
      ]
    },
    {
      "cell_type": "code",
      "metadata": {
        "id": "NrfE7aOVCPai"
      },
      "source": [
        "from geopy.geocoders import Nominatim"
      ],
      "execution_count": 14,
      "outputs": []
    },
    {
      "cell_type": "code",
      "metadata": {
        "id": "RBzm-8mTCPdq"
      },
      "source": [
        "geolocator=Nominatim(user_agent='app')"
      ],
      "execution_count": 15,
      "outputs": []
    },
    {
      "cell_type": "code",
      "metadata": {
        "id": "5ZM-Ao3WCPgr"
      },
      "source": [
        "lat=[]\n",
        "lon=[]\n",
        "for location1 in location['names']:\n",
        "  location1=geolocator.geocode(location1)\n",
        "  if location1 is None:\n",
        "    lat.append(np.nan)\n",
        "    lon.append(np.nan)\n",
        "  else:\n",
        "    lat.append(location1.latitude)\n",
        "    lon.append(location1.longitude)\n"
      ],
      "execution_count": 16,
      "outputs": []
    },
    {
      "cell_type": "code",
      "metadata": {
        "id": "OM8RE1UZCPlP"
      },
      "source": [
        "location['lat']=lat\n",
        "location['lon']=lon"
      ],
      "execution_count": 17,
      "outputs": []
    },
    {
      "cell_type": "code",
      "metadata": {
        "colab": {
          "base_uri": "https://localhost:8080/",
          "height": 357
        },
        "id": "3zkUj6HSCPom",
        "outputId": "243fb48a-1a79-4146-d9fe-f8775aabec8b"
      },
      "source": [
        "location.head(10)"
      ],
      "execution_count": 18,
      "outputs": [
        {
          "output_type": "execute_result",
          "data": {
            "text/html": [
              "<div>\n",
              "<style scoped>\n",
              "    .dataframe tbody tr th:only-of-type {\n",
              "        vertical-align: middle;\n",
              "    }\n",
              "\n",
              "    .dataframe tbody tr th {\n",
              "        vertical-align: top;\n",
              "    }\n",
              "\n",
              "    .dataframe thead th {\n",
              "        text-align: right;\n",
              "    }\n",
              "</style>\n",
              "<table border=\"1\" class=\"dataframe\">\n",
              "  <thead>\n",
              "    <tr style=\"text-align: right;\">\n",
              "      <th></th>\n",
              "      <th>names</th>\n",
              "      <th>lat</th>\n",
              "      <th>lon</th>\n",
              "    </tr>\n",
              "  </thead>\n",
              "  <tbody>\n",
              "    <tr>\n",
              "      <th>0</th>\n",
              "      <td>Banashankari</td>\n",
              "      <td>15.887678</td>\n",
              "      <td>75.704678</td>\n",
              "    </tr>\n",
              "    <tr>\n",
              "      <th>1</th>\n",
              "      <td>Basavanagudi</td>\n",
              "      <td>12.941726</td>\n",
              "      <td>77.575502</td>\n",
              "    </tr>\n",
              "    <tr>\n",
              "      <th>2</th>\n",
              "      <td>Mysore Road</td>\n",
              "      <td>12.387214</td>\n",
              "      <td>76.666963</td>\n",
              "    </tr>\n",
              "    <tr>\n",
              "      <th>3</th>\n",
              "      <td>Jayanagar</td>\n",
              "      <td>27.643927</td>\n",
              "      <td>83.052805</td>\n",
              "    </tr>\n",
              "    <tr>\n",
              "      <th>4</th>\n",
              "      <td>Kumaraswamy Layout</td>\n",
              "      <td>12.908149</td>\n",
              "      <td>77.555318</td>\n",
              "    </tr>\n",
              "    <tr>\n",
              "      <th>5</th>\n",
              "      <td>Rajarajeshwari Nagar</td>\n",
              "      <td>12.927441</td>\n",
              "      <td>77.515522</td>\n",
              "    </tr>\n",
              "    <tr>\n",
              "      <th>6</th>\n",
              "      <td>Vijay Nagar</td>\n",
              "      <td>23.188348</td>\n",
              "      <td>79.909272</td>\n",
              "    </tr>\n",
              "    <tr>\n",
              "      <th>7</th>\n",
              "      <td>Uttarahalli</td>\n",
              "      <td>12.905568</td>\n",
              "      <td>77.545544</td>\n",
              "    </tr>\n",
              "    <tr>\n",
              "      <th>8</th>\n",
              "      <td>JP Nagar</td>\n",
              "      <td>12.265594</td>\n",
              "      <td>76.646540</td>\n",
              "    </tr>\n",
              "    <tr>\n",
              "      <th>9</th>\n",
              "      <td>South Bangalore</td>\n",
              "      <td>13.064691</td>\n",
              "      <td>77.496269</td>\n",
              "    </tr>\n",
              "  </tbody>\n",
              "</table>\n",
              "</div>"
            ],
            "text/plain": [
              "                  names        lat        lon\n",
              "0          Banashankari  15.887678  75.704678\n",
              "1          Basavanagudi  12.941726  77.575502\n",
              "2           Mysore Road  12.387214  76.666963\n",
              "3             Jayanagar  27.643927  83.052805\n",
              "4    Kumaraswamy Layout  12.908149  77.555318\n",
              "5  Rajarajeshwari Nagar  12.927441  77.515522\n",
              "6           Vijay Nagar  23.188348  79.909272\n",
              "7           Uttarahalli  12.905568  77.545544\n",
              "8              JP Nagar  12.265594  76.646540\n",
              "9       South Bangalore  13.064691  77.496269"
            ]
          },
          "metadata": {
            "tags": []
          },
          "execution_count": 18
        }
      ]
    },
    {
      "cell_type": "code",
      "metadata": {
        "id": "hFnyXqCICPsA"
      },
      "source": [
        "location.to_csv('/content/drive/MyDrive/zomato_location.csv',index=False)"
      ],
      "execution_count": 19,
      "outputs": []
    },
    {
      "cell_type": "code",
      "metadata": {
        "id": "Yd-m4d0_WWN7"
      },
      "source": [
        "rest_location=df['location'].value_counts().reset_index()"
      ],
      "execution_count": 20,
      "outputs": []
    },
    {
      "cell_type": "code",
      "metadata": {
        "id": "YN4rTsxoWWcf"
      },
      "source": [
        "rest_location.columns=['names','counts']"
      ],
      "execution_count": 21,
      "outputs": []
    },
    {
      "cell_type": "code",
      "metadata": {
        "colab": {
          "base_uri": "https://localhost:8080/",
          "height": 203
        },
        "id": "m0h8MBs8WWfq",
        "outputId": "67c3c511-4793-42a2-c2b5-aa7f0e4bd143"
      },
      "source": [
        "rest_location.head()"
      ],
      "execution_count": 22,
      "outputs": [
        {
          "output_type": "execute_result",
          "data": {
            "text/html": [
              "<div>\n",
              "<style scoped>\n",
              "    .dataframe tbody tr th:only-of-type {\n",
              "        vertical-align: middle;\n",
              "    }\n",
              "\n",
              "    .dataframe tbody tr th {\n",
              "        vertical-align: top;\n",
              "    }\n",
              "\n",
              "    .dataframe thead th {\n",
              "        text-align: right;\n",
              "    }\n",
              "</style>\n",
              "<table border=\"1\" class=\"dataframe\">\n",
              "  <thead>\n",
              "    <tr style=\"text-align: right;\">\n",
              "      <th></th>\n",
              "      <th>names</th>\n",
              "      <th>counts</th>\n",
              "    </tr>\n",
              "  </thead>\n",
              "  <tbody>\n",
              "    <tr>\n",
              "      <th>0</th>\n",
              "      <td>BTM</td>\n",
              "      <td>5124</td>\n",
              "    </tr>\n",
              "    <tr>\n",
              "      <th>1</th>\n",
              "      <td>HSR</td>\n",
              "      <td>2523</td>\n",
              "    </tr>\n",
              "    <tr>\n",
              "      <th>2</th>\n",
              "      <td>Koramangala 5th Block</td>\n",
              "      <td>2504</td>\n",
              "    </tr>\n",
              "    <tr>\n",
              "      <th>3</th>\n",
              "      <td>JP Nagar</td>\n",
              "      <td>2235</td>\n",
              "    </tr>\n",
              "    <tr>\n",
              "      <th>4</th>\n",
              "      <td>Whitefield</td>\n",
              "      <td>2144</td>\n",
              "    </tr>\n",
              "  </tbody>\n",
              "</table>\n",
              "</div>"
            ],
            "text/plain": [
              "                   names  counts\n",
              "0                    BTM    5124\n",
              "1                    HSR    2523\n",
              "2  Koramangala 5th Block    2504\n",
              "3               JP Nagar    2235\n",
              "4             Whitefield    2144"
            ]
          },
          "metadata": {
            "tags": []
          },
          "execution_count": 22
        }
      ]
    },
    {
      "cell_type": "code",
      "metadata": {
        "id": "vcoGaMVJXgT5"
      },
      "source": [
        ""
      ],
      "execution_count": 22,
      "outputs": []
    },
    {
      "cell_type": "code",
      "metadata": {
        "id": "CW05VfElWWii"
      },
      "source": [
        "merged_df=pd.merge(location,rest_location,on='names').sort_values(by=['counts'],ascending=False)"
      ],
      "execution_count": 23,
      "outputs": []
    },
    {
      "cell_type": "code",
      "metadata": {
        "id": "GyVdC1DRWWmK"
      },
      "source": [
        "merged_df.reset_index(inplace=True)"
      ],
      "execution_count": 24,
      "outputs": []
    },
    {
      "cell_type": "code",
      "metadata": {
        "colab": {
          "base_uri": "https://localhost:8080/"
        },
        "id": "AIp4AtmvWWoz",
        "outputId": "526b7fa4-905b-4013-829f-056c116a73fd"
      },
      "source": [
        "merged_df.isna().sum()"
      ],
      "execution_count": 25,
      "outputs": [
        {
          "output_type": "execute_result",
          "data": {
            "text/plain": [
              "index     0\n",
              "names     0\n",
              "lat       1\n",
              "lon       1\n",
              "counts    0\n",
              "dtype: int64"
            ]
          },
          "metadata": {
            "tags": []
          },
          "execution_count": 25
        }
      ]
    },
    {
      "cell_type": "code",
      "metadata": {
        "id": "EhAhbTc7WWut"
      },
      "source": [
        "merged_df.dropna(inplace=True)"
      ],
      "execution_count": 26,
      "outputs": []
    },
    {
      "cell_type": "code",
      "metadata": {
        "id": "BrT7iB3NWWxx"
      },
      "source": [
        ""
      ],
      "execution_count": 26,
      "outputs": []
    },
    {
      "cell_type": "code",
      "metadata": {
        "id": "u8Q5ryUDWW01"
      },
      "source": [
        "def gen_basemap(default_location=[12.97,77.59],default_zoom_start=12):\n",
        "  basemap=folium.Map(location=default_location,zoom_start=default_zoom_start)\n",
        "  return basemap"
      ],
      "execution_count": 27,
      "outputs": []
    },
    {
      "cell_type": "code",
      "metadata": {
        "colab": {
          "base_uri": "https://localhost:8080/",
          "height": 402
        },
        "id": "F8jhkAKNY78M",
        "outputId": "4a412670-71f6-4e9b-a43d-fbb9340978e0"
      },
      "source": [
        "import folium\n",
        "base=gen_basemap()\n",
        "base"
      ],
      "execution_count": 28,
      "outputs": [
        {
          "output_type": "execute_result",
          "data": {
            "text/html": [
              "<div style=\"width:100%;\"><div style=\"position:relative;width:100%;height:0;padding-bottom:60%;\"><span style=\"color:#565656\">Make this Notebook Trusted to load map: File -> Trust Notebook</span><iframe src=\"about:blank\" style=\"position:absolute;width:100%;height:100%;left:0;top:0;border:none !important;\" data-html=%3C%21DOCTYPE%20html%3E%0A%3Chead%3E%20%20%20%20%0A%20%20%20%20%3Cmeta%20http-equiv%3D%22content-type%22%20content%3D%22text/html%3B%20charset%3DUTF-8%22%20/%3E%0A%20%20%20%20%0A%20%20%20%20%20%20%20%20%3Cscript%3E%0A%20%20%20%20%20%20%20%20%20%20%20%20L_NO_TOUCH%20%3D%20false%3B%0A%20%20%20%20%20%20%20%20%20%20%20%20L_DISABLE_3D%20%3D%20false%3B%0A%20%20%20%20%20%20%20%20%3C/script%3E%0A%20%20%20%20%0A%20%20%20%20%3Cscript%20src%3D%22https%3A//cdn.jsdelivr.net/npm/leaflet%401.5.1/dist/leaflet.js%22%3E%3C/script%3E%0A%20%20%20%20%3Cscript%20src%3D%22https%3A//code.jquery.com/jquery-1.12.4.min.js%22%3E%3C/script%3E%0A%20%20%20%20%3Cscript%20src%3D%22https%3A//maxcdn.bootstrapcdn.com/bootstrap/3.2.0/js/bootstrap.min.js%22%3E%3C/script%3E%0A%20%20%20%20%3Cscript%20src%3D%22https%3A//cdnjs.cloudflare.com/ajax/libs/Leaflet.awesome-markers/2.0.2/leaflet.awesome-markers.js%22%3E%3C/script%3E%0A%20%20%20%20%3Clink%20rel%3D%22stylesheet%22%20href%3D%22https%3A//cdn.jsdelivr.net/npm/leaflet%401.5.1/dist/leaflet.css%22/%3E%0A%20%20%20%20%3Clink%20rel%3D%22stylesheet%22%20href%3D%22https%3A//maxcdn.bootstrapcdn.com/bootstrap/3.2.0/css/bootstrap.min.css%22/%3E%0A%20%20%20%20%3Clink%20rel%3D%22stylesheet%22%20href%3D%22https%3A//maxcdn.bootstrapcdn.com/bootstrap/3.2.0/css/bootstrap-theme.min.css%22/%3E%0A%20%20%20%20%3Clink%20rel%3D%22stylesheet%22%20href%3D%22https%3A//maxcdn.bootstrapcdn.com/font-awesome/4.6.3/css/font-awesome.min.css%22/%3E%0A%20%20%20%20%3Clink%20rel%3D%22stylesheet%22%20href%3D%22https%3A//cdnjs.cloudflare.com/ajax/libs/Leaflet.awesome-markers/2.0.2/leaflet.awesome-markers.css%22/%3E%0A%20%20%20%20%3Clink%20rel%3D%22stylesheet%22%20href%3D%22https%3A//rawcdn.githack.com/python-visualization/folium/master/folium/templates/leaflet.awesome.rotate.css%22/%3E%0A%20%20%20%20%3Cstyle%3Ehtml%2C%20body%20%7Bwidth%3A%20100%25%3Bheight%3A%20100%25%3Bmargin%3A%200%3Bpadding%3A%200%3B%7D%3C/style%3E%0A%20%20%20%20%3Cstyle%3E%23map%20%7Bposition%3Aabsolute%3Btop%3A0%3Bbottom%3A0%3Bright%3A0%3Bleft%3A0%3B%7D%3C/style%3E%0A%20%20%20%20%0A%20%20%20%20%20%20%20%20%20%20%20%20%3Cmeta%20name%3D%22viewport%22%20content%3D%22width%3Ddevice-width%2C%0A%20%20%20%20%20%20%20%20%20%20%20%20%20%20%20%20initial-scale%3D1.0%2C%20maximum-scale%3D1.0%2C%20user-scalable%3Dno%22%20/%3E%0A%20%20%20%20%20%20%20%20%20%20%20%20%3Cstyle%3E%0A%20%20%20%20%20%20%20%20%20%20%20%20%20%20%20%20%23map_c274f5f7e6614c69ac89f7f4b1aada0d%20%7B%0A%20%20%20%20%20%20%20%20%20%20%20%20%20%20%20%20%20%20%20%20position%3A%20relative%3B%0A%20%20%20%20%20%20%20%20%20%20%20%20%20%20%20%20%20%20%20%20width%3A%20100.0%25%3B%0A%20%20%20%20%20%20%20%20%20%20%20%20%20%20%20%20%20%20%20%20height%3A%20100.0%25%3B%0A%20%20%20%20%20%20%20%20%20%20%20%20%20%20%20%20%20%20%20%20left%3A%200.0%25%3B%0A%20%20%20%20%20%20%20%20%20%20%20%20%20%20%20%20%20%20%20%20top%3A%200.0%25%3B%0A%20%20%20%20%20%20%20%20%20%20%20%20%20%20%20%20%7D%0A%20%20%20%20%20%20%20%20%20%20%20%20%3C/style%3E%0A%20%20%20%20%20%20%20%20%0A%3C/head%3E%0A%3Cbody%3E%20%20%20%20%0A%20%20%20%20%0A%20%20%20%20%20%20%20%20%20%20%20%20%3Cdiv%20class%3D%22folium-map%22%20id%3D%22map_c274f5f7e6614c69ac89f7f4b1aada0d%22%20%3E%3C/div%3E%0A%20%20%20%20%20%20%20%20%0A%3C/body%3E%0A%3Cscript%3E%20%20%20%20%0A%20%20%20%20%0A%20%20%20%20%20%20%20%20%20%20%20%20var%20map_c274f5f7e6614c69ac89f7f4b1aada0d%20%3D%20L.map%28%0A%20%20%20%20%20%20%20%20%20%20%20%20%20%20%20%20%22map_c274f5f7e6614c69ac89f7f4b1aada0d%22%2C%0A%20%20%20%20%20%20%20%20%20%20%20%20%20%20%20%20%7B%0A%20%20%20%20%20%20%20%20%20%20%20%20%20%20%20%20%20%20%20%20center%3A%20%5B12.97%2C%2077.59%5D%2C%0A%20%20%20%20%20%20%20%20%20%20%20%20%20%20%20%20%20%20%20%20crs%3A%20L.CRS.EPSG3857%2C%0A%20%20%20%20%20%20%20%20%20%20%20%20%20%20%20%20%20%20%20%20zoom%3A%2012%2C%0A%20%20%20%20%20%20%20%20%20%20%20%20%20%20%20%20%20%20%20%20zoomControl%3A%20true%2C%0A%20%20%20%20%20%20%20%20%20%20%20%20%20%20%20%20%20%20%20%20preferCanvas%3A%20false%2C%0A%20%20%20%20%20%20%20%20%20%20%20%20%20%20%20%20%7D%0A%20%20%20%20%20%20%20%20%20%20%20%20%29%3B%0A%0A%20%20%20%20%20%20%20%20%20%20%20%20%0A%0A%20%20%20%20%20%20%20%20%0A%20%20%20%20%0A%20%20%20%20%20%20%20%20%20%20%20%20var%20tile_layer_311e40cb37ee4ba3adfd5877a9c2d1d6%20%3D%20L.tileLayer%28%0A%20%20%20%20%20%20%20%20%20%20%20%20%20%20%20%20%22https%3A//%7Bs%7D.tile.openstreetmap.org/%7Bz%7D/%7Bx%7D/%7By%7D.png%22%2C%0A%20%20%20%20%20%20%20%20%20%20%20%20%20%20%20%20%7B%22attribution%22%3A%20%22Data%20by%20%5Cu0026copy%3B%20%5Cu003ca%20href%3D%5C%22http%3A//openstreetmap.org%5C%22%5Cu003eOpenStreetMap%5Cu003c/a%5Cu003e%2C%20under%20%5Cu003ca%20href%3D%5C%22http%3A//www.openstreetmap.org/copyright%5C%22%5Cu003eODbL%5Cu003c/a%5Cu003e.%22%2C%20%22detectRetina%22%3A%20false%2C%20%22maxNativeZoom%22%3A%2018%2C%20%22maxZoom%22%3A%2018%2C%20%22minZoom%22%3A%200%2C%20%22noWrap%22%3A%20false%2C%20%22opacity%22%3A%201%2C%20%22subdomains%22%3A%20%22abc%22%2C%20%22tms%22%3A%20false%7D%0A%20%20%20%20%20%20%20%20%20%20%20%20%29.addTo%28map_c274f5f7e6614c69ac89f7f4b1aada0d%29%3B%0A%20%20%20%20%20%20%20%20%0A%3C/script%3E onload=\"this.contentDocument.open();this.contentDocument.write(    decodeURIComponent(this.getAttribute('data-html')));this.contentDocument.close();\" allowfullscreen webkitallowfullscreen mozallowfullscreen></iframe></div></div>"
            ],
            "text/plain": [
              "<folium.folium.Map at 0x7ff9d8469dd0>"
            ]
          },
          "metadata": {
            "tags": []
          },
          "execution_count": 28
        }
      ]
    },
    {
      "cell_type": "code",
      "metadata": {
        "colab": {
          "base_uri": "https://localhost:8080/",
          "height": 458
        },
        "id": "Ir4bdVTCnqOZ",
        "outputId": "3a7c2a17-28e9-45e2-b13b-6b1e4db4249b"
      },
      "source": [
        "!pip uninstall folium\n",
        "!pip install folium==0.10.0\n",
        "\n"
      ],
      "execution_count": 29,
      "outputs": [
        {
          "output_type": "stream",
          "text": [
            "Uninstalling folium-0.10.0:\n",
            "  Would remove:\n",
            "    /usr/local/lib/python3.7/dist-packages/folium-0.10.0.dist-info/*\n",
            "    /usr/local/lib/python3.7/dist-packages/folium/*\n",
            "Proceed (y/n)? y\n",
            "  Successfully uninstalled folium-0.10.0\n",
            "Collecting folium==0.10.0\n",
            "  Using cached https://files.pythonhosted.org/packages/72/ff/004bfe344150a064e558cb2aedeaa02ecbf75e60e148a55a9198f0c41765/folium-0.10.0-py2.py3-none-any.whl\n",
            "Requirement already satisfied: numpy in /usr/local/lib/python3.7/dist-packages (from folium==0.10.0) (1.19.5)\n",
            "Requirement already satisfied: requests in /usr/local/lib/python3.7/dist-packages (from folium==0.10.0) (2.23.0)\n",
            "Requirement already satisfied: jinja2>=2.9 in /usr/local/lib/python3.7/dist-packages (from folium==0.10.0) (2.11.3)\n",
            "Requirement already satisfied: branca>=0.3.0 in /usr/local/lib/python3.7/dist-packages (from folium==0.10.0) (0.4.2)\n",
            "Requirement already satisfied: certifi>=2017.4.17 in /usr/local/lib/python3.7/dist-packages (from requests->folium==0.10.0) (2021.5.30)\n",
            "Requirement already satisfied: urllib3!=1.25.0,!=1.25.1,<1.26,>=1.21.1 in /usr/local/lib/python3.7/dist-packages (from requests->folium==0.10.0) (1.24.3)\n",
            "Requirement already satisfied: idna<3,>=2.5 in /usr/local/lib/python3.7/dist-packages (from requests->folium==0.10.0) (2.10)\n",
            "Requirement already satisfied: chardet<4,>=3.0.2 in /usr/local/lib/python3.7/dist-packages (from requests->folium==0.10.0) (3.0.4)\n",
            "Requirement already satisfied: MarkupSafe>=0.23 in /usr/local/lib/python3.7/dist-packages (from jinja2>=2.9->folium==0.10.0) (2.0.1)\n",
            "\u001b[31mERROR: datascience 0.10.6 has requirement folium==0.2.1, but you'll have folium 0.10.0 which is incompatible.\u001b[0m\n",
            "Installing collected packages: folium\n",
            "Successfully installed folium-0.10.0\n"
          ],
          "name": "stdout"
        },
        {
          "output_type": "display_data",
          "data": {
            "application/vnd.colab-display-data+json": {
              "pip_warning": {
                "packages": [
                  "folium"
                ]
              }
            }
          },
          "metadata": {
            "tags": []
          }
        }
      ]
    },
    {
      "cell_type": "code",
      "metadata": {
        "id": "lFGwmsoTY7_k"
      },
      "source": [
        "from folium.plugins import HeatMap\n"
      ],
      "execution_count": 30,
      "outputs": []
    },
    {
      "cell_type": "code",
      "metadata": {
        "id": "RrD7IbyQZ5fI"
      },
      "source": [
        "merged_df.drop('index',inplace=True,axis=1)"
      ],
      "execution_count": 31,
      "outputs": []
    },
    {
      "cell_type": "code",
      "metadata": {
        "colab": {
          "base_uri": "https://localhost:8080/",
          "height": 417
        },
        "id": "vuzHSK1hY8CA",
        "outputId": "6c57a54f-3135-4477-9b83-c75150976943"
      },
      "source": [
        "merged_df"
      ],
      "execution_count": 32,
      "outputs": [
        {
          "output_type": "execute_result",
          "data": {
            "text/html": [
              "<div>\n",
              "<style scoped>\n",
              "    .dataframe tbody tr th:only-of-type {\n",
              "        vertical-align: middle;\n",
              "    }\n",
              "\n",
              "    .dataframe tbody tr th {\n",
              "        vertical-align: top;\n",
              "    }\n",
              "\n",
              "    .dataframe thead th {\n",
              "        text-align: right;\n",
              "    }\n",
              "</style>\n",
              "<table border=\"1\" class=\"dataframe\">\n",
              "  <thead>\n",
              "    <tr style=\"text-align: right;\">\n",
              "      <th></th>\n",
              "      <th>names</th>\n",
              "      <th>lat</th>\n",
              "      <th>lon</th>\n",
              "      <th>counts</th>\n",
              "    </tr>\n",
              "  </thead>\n",
              "  <tbody>\n",
              "    <tr>\n",
              "      <th>0</th>\n",
              "      <td>BTM</td>\n",
              "      <td>45.954851</td>\n",
              "      <td>-112.496595</td>\n",
              "      <td>5124</td>\n",
              "    </tr>\n",
              "    <tr>\n",
              "      <th>1</th>\n",
              "      <td>HSR</td>\n",
              "      <td>18.147500</td>\n",
              "      <td>41.538889</td>\n",
              "      <td>2523</td>\n",
              "    </tr>\n",
              "    <tr>\n",
              "      <th>2</th>\n",
              "      <td>Koramangala 5th Block</td>\n",
              "      <td>12.934377</td>\n",
              "      <td>77.628415</td>\n",
              "      <td>2504</td>\n",
              "    </tr>\n",
              "    <tr>\n",
              "      <th>3</th>\n",
              "      <td>JP Nagar</td>\n",
              "      <td>12.265594</td>\n",
              "      <td>76.646540</td>\n",
              "      <td>2235</td>\n",
              "    </tr>\n",
              "    <tr>\n",
              "      <th>4</th>\n",
              "      <td>Whitefield</td>\n",
              "      <td>44.373058</td>\n",
              "      <td>-71.611858</td>\n",
              "      <td>2144</td>\n",
              "    </tr>\n",
              "    <tr>\n",
              "      <th>...</th>\n",
              "      <td>...</td>\n",
              "      <td>...</td>\n",
              "      <td>...</td>\n",
              "      <td>...</td>\n",
              "    </tr>\n",
              "    <tr>\n",
              "      <th>88</th>\n",
              "      <td>West Bangalore</td>\n",
              "      <td>12.875938</td>\n",
              "      <td>77.596100</td>\n",
              "      <td>6</td>\n",
              "    </tr>\n",
              "    <tr>\n",
              "      <th>89</th>\n",
              "      <td>Yelahanka</td>\n",
              "      <td>13.100698</td>\n",
              "      <td>77.596345</td>\n",
              "      <td>6</td>\n",
              "    </tr>\n",
              "    <tr>\n",
              "      <th>90</th>\n",
              "      <td>Jakkur</td>\n",
              "      <td>13.078474</td>\n",
              "      <td>77.606894</td>\n",
              "      <td>3</td>\n",
              "    </tr>\n",
              "    <tr>\n",
              "      <th>91</th>\n",
              "      <td>Rajarajeshwari Nagar</td>\n",
              "      <td>12.927441</td>\n",
              "      <td>77.515522</td>\n",
              "      <td>2</td>\n",
              "    </tr>\n",
              "    <tr>\n",
              "      <th>92</th>\n",
              "      <td>Peenya</td>\n",
              "      <td>13.032942</td>\n",
              "      <td>77.527325</td>\n",
              "      <td>1</td>\n",
              "    </tr>\n",
              "  </tbody>\n",
              "</table>\n",
              "<p>92 rows × 4 columns</p>\n",
              "</div>"
            ],
            "text/plain": [
              "                    names        lat         lon  counts\n",
              "0                     BTM  45.954851 -112.496595    5124\n",
              "1                     HSR  18.147500   41.538889    2523\n",
              "2   Koramangala 5th Block  12.934377   77.628415    2504\n",
              "3                JP Nagar  12.265594   76.646540    2235\n",
              "4              Whitefield  44.373058  -71.611858    2144\n",
              "..                    ...        ...         ...     ...\n",
              "88         West Bangalore  12.875938   77.596100       6\n",
              "89              Yelahanka  13.100698   77.596345       6\n",
              "90                 Jakkur  13.078474   77.606894       3\n",
              "91   Rajarajeshwari Nagar  12.927441   77.515522       2\n",
              "92                 Peenya  13.032942   77.527325       1\n",
              "\n",
              "[92 rows x 4 columns]"
            ]
          },
          "metadata": {
            "tags": []
          },
          "execution_count": 32
        }
      ]
    },
    {
      "cell_type": "code",
      "metadata": {
        "colab": {
          "base_uri": "https://localhost:8080/"
        },
        "id": "x_CHtiH6c8Dg",
        "outputId": "fe1dd5a6-a801-44b3-87e4-b901adb0de14"
      },
      "source": [
        "import sys\n",
        "print(sys.getrecursionlimit())"
      ],
      "execution_count": 33,
      "outputs": [
        {
          "output_type": "stream",
          "text": [
            "1000\n"
          ],
          "name": "stdout"
        }
      ]
    },
    {
      "cell_type": "code",
      "metadata": {
        "id": "MxKGp8uIdFF0"
      },
      "source": [
        "sys.setrecursionlimit(10000)"
      ],
      "execution_count": 34,
      "outputs": []
    },
    {
      "cell_type": "code",
      "metadata": {
        "id": "fdAHQZQiY8Eq"
      },
      "source": [
        "heated=merged_df[['lat','lon','counts']]"
      ],
      "execution_count": 35,
      "outputs": []
    },
    {
      "cell_type": "code",
      "metadata": {
        "colab": {
          "base_uri": "https://localhost:8080/",
          "height": 80
        },
        "id": "oIignONZmNUU",
        "outputId": "26663226-cefa-4c28-96aa-161803e84983"
      },
      "source": [
        "heated[:1]"
      ],
      "execution_count": 36,
      "outputs": [
        {
          "output_type": "execute_result",
          "data": {
            "text/html": [
              "<div>\n",
              "<style scoped>\n",
              "    .dataframe tbody tr th:only-of-type {\n",
              "        vertical-align: middle;\n",
              "    }\n",
              "\n",
              "    .dataframe tbody tr th {\n",
              "        vertical-align: top;\n",
              "    }\n",
              "\n",
              "    .dataframe thead th {\n",
              "        text-align: right;\n",
              "    }\n",
              "</style>\n",
              "<table border=\"1\" class=\"dataframe\">\n",
              "  <thead>\n",
              "    <tr style=\"text-align: right;\">\n",
              "      <th></th>\n",
              "      <th>lat</th>\n",
              "      <th>lon</th>\n",
              "      <th>counts</th>\n",
              "    </tr>\n",
              "  </thead>\n",
              "  <tbody>\n",
              "    <tr>\n",
              "      <th>0</th>\n",
              "      <td>45.954851</td>\n",
              "      <td>-112.496595</td>\n",
              "      <td>5124</td>\n",
              "    </tr>\n",
              "  </tbody>\n",
              "</table>\n",
              "</div>"
            ],
            "text/plain": [
              "         lat         lon  counts\n",
              "0  45.954851 -112.496595    5124"
            ]
          },
          "metadata": {
            "tags": []
          },
          "execution_count": 36
        }
      ]
    },
    {
      "cell_type": "code",
      "metadata": {
        "colab": {
          "base_uri": "https://localhost:8080/"
        },
        "id": "NNcxNI68lSi8",
        "outputId": "7e4c01b4-3ef0-4323-a535-e69964fc98f0"
      },
      "source": [
        "HeatMap(heated,max_zoom=20).add_to(base)"
      ],
      "execution_count": 37,
      "outputs": [
        {
          "output_type": "execute_result",
          "data": {
            "text/plain": [
              "<folium.plugins.heat_map.HeatMap at 0x7ff9d7d7a3d0>"
            ]
          },
          "metadata": {
            "tags": []
          },
          "execution_count": 37
        }
      ]
    },
    {
      "cell_type": "code",
      "metadata": {
        "colab": {
          "base_uri": "https://localhost:8080/",
          "height": 402
        },
        "id": "Eq3YdOyqY8HE",
        "outputId": "7ff1a64e-392e-45a9-a763-8652f0faf9a7"
      },
      "source": [
        "base"
      ],
      "execution_count": 38,
      "outputs": [
        {
          "output_type": "execute_result",
          "data": {
            "text/html": [
              "<div style=\"width:100%;\"><div style=\"position:relative;width:100%;height:0;padding-bottom:60%;\"><span style=\"color:#565656\">Make this Notebook Trusted to load map: File -> Trust Notebook</span><iframe src=\"about:blank\" style=\"position:absolute;width:100%;height:100%;left:0;top:0;border:none !important;\" data-html=%3C%21DOCTYPE%20html%3E%0A%3Chead%3E%20%20%20%20%0A%20%20%20%20%3Cmeta%20http-equiv%3D%22content-type%22%20content%3D%22text/html%3B%20charset%3DUTF-8%22%20/%3E%0A%20%20%20%20%0A%20%20%20%20%20%20%20%20%3Cscript%3E%0A%20%20%20%20%20%20%20%20%20%20%20%20L_NO_TOUCH%20%3D%20false%3B%0A%20%20%20%20%20%20%20%20%20%20%20%20L_DISABLE_3D%20%3D%20false%3B%0A%20%20%20%20%20%20%20%20%3C/script%3E%0A%20%20%20%20%0A%20%20%20%20%3Cscript%20src%3D%22https%3A//cdn.jsdelivr.net/npm/leaflet%401.5.1/dist/leaflet.js%22%3E%3C/script%3E%0A%20%20%20%20%3Cscript%20src%3D%22https%3A//code.jquery.com/jquery-1.12.4.min.js%22%3E%3C/script%3E%0A%20%20%20%20%3Cscript%20src%3D%22https%3A//maxcdn.bootstrapcdn.com/bootstrap/3.2.0/js/bootstrap.min.js%22%3E%3C/script%3E%0A%20%20%20%20%3Cscript%20src%3D%22https%3A//cdnjs.cloudflare.com/ajax/libs/Leaflet.awesome-markers/2.0.2/leaflet.awesome-markers.js%22%3E%3C/script%3E%0A%20%20%20%20%3Clink%20rel%3D%22stylesheet%22%20href%3D%22https%3A//cdn.jsdelivr.net/npm/leaflet%401.5.1/dist/leaflet.css%22/%3E%0A%20%20%20%20%3Clink%20rel%3D%22stylesheet%22%20href%3D%22https%3A//maxcdn.bootstrapcdn.com/bootstrap/3.2.0/css/bootstrap.min.css%22/%3E%0A%20%20%20%20%3Clink%20rel%3D%22stylesheet%22%20href%3D%22https%3A//maxcdn.bootstrapcdn.com/bootstrap/3.2.0/css/bootstrap-theme.min.css%22/%3E%0A%20%20%20%20%3Clink%20rel%3D%22stylesheet%22%20href%3D%22https%3A//maxcdn.bootstrapcdn.com/font-awesome/4.6.3/css/font-awesome.min.css%22/%3E%0A%20%20%20%20%3Clink%20rel%3D%22stylesheet%22%20href%3D%22https%3A//cdnjs.cloudflare.com/ajax/libs/Leaflet.awesome-markers/2.0.2/leaflet.awesome-markers.css%22/%3E%0A%20%20%20%20%3Clink%20rel%3D%22stylesheet%22%20href%3D%22https%3A//rawcdn.githack.com/python-visualization/folium/master/folium/templates/leaflet.awesome.rotate.css%22/%3E%0A%20%20%20%20%3Cstyle%3Ehtml%2C%20body%20%7Bwidth%3A%20100%25%3Bheight%3A%20100%25%3Bmargin%3A%200%3Bpadding%3A%200%3B%7D%3C/style%3E%0A%20%20%20%20%3Cstyle%3E%23map%20%7Bposition%3Aabsolute%3Btop%3A0%3Bbottom%3A0%3Bright%3A0%3Bleft%3A0%3B%7D%3C/style%3E%0A%20%20%20%20%0A%20%20%20%20%20%20%20%20%20%20%20%20%3Cmeta%20name%3D%22viewport%22%20content%3D%22width%3Ddevice-width%2C%0A%20%20%20%20%20%20%20%20%20%20%20%20%20%20%20%20initial-scale%3D1.0%2C%20maximum-scale%3D1.0%2C%20user-scalable%3Dno%22%20/%3E%0A%20%20%20%20%20%20%20%20%20%20%20%20%3Cstyle%3E%0A%20%20%20%20%20%20%20%20%20%20%20%20%20%20%20%20%23map_c274f5f7e6614c69ac89f7f4b1aada0d%20%7B%0A%20%20%20%20%20%20%20%20%20%20%20%20%20%20%20%20%20%20%20%20position%3A%20relative%3B%0A%20%20%20%20%20%20%20%20%20%20%20%20%20%20%20%20%20%20%20%20width%3A%20100.0%25%3B%0A%20%20%20%20%20%20%20%20%20%20%20%20%20%20%20%20%20%20%20%20height%3A%20100.0%25%3B%0A%20%20%20%20%20%20%20%20%20%20%20%20%20%20%20%20%20%20%20%20left%3A%200.0%25%3B%0A%20%20%20%20%20%20%20%20%20%20%20%20%20%20%20%20%20%20%20%20top%3A%200.0%25%3B%0A%20%20%20%20%20%20%20%20%20%20%20%20%20%20%20%20%7D%0A%20%20%20%20%20%20%20%20%20%20%20%20%3C/style%3E%0A%20%20%20%20%20%20%20%20%0A%20%20%20%20%3Cscript%20src%3D%22https%3A//leaflet.github.io/Leaflet.heat/dist/leaflet-heat.js%22%3E%3C/script%3E%0A%3C/head%3E%0A%3Cbody%3E%20%20%20%20%0A%20%20%20%20%0A%20%20%20%20%20%20%20%20%20%20%20%20%3Cdiv%20class%3D%22folium-map%22%20id%3D%22map_c274f5f7e6614c69ac89f7f4b1aada0d%22%20%3E%3C/div%3E%0A%20%20%20%20%20%20%20%20%0A%3C/body%3E%0A%3Cscript%3E%20%20%20%20%0A%20%20%20%20%0A%20%20%20%20%20%20%20%20%20%20%20%20var%20map_c274f5f7e6614c69ac89f7f4b1aada0d%20%3D%20L.map%28%0A%20%20%20%20%20%20%20%20%20%20%20%20%20%20%20%20%22map_c274f5f7e6614c69ac89f7f4b1aada0d%22%2C%0A%20%20%20%20%20%20%20%20%20%20%20%20%20%20%20%20%7B%0A%20%20%20%20%20%20%20%20%20%20%20%20%20%20%20%20%20%20%20%20center%3A%20%5B12.97%2C%2077.59%5D%2C%0A%20%20%20%20%20%20%20%20%20%20%20%20%20%20%20%20%20%20%20%20crs%3A%20L.CRS.EPSG3857%2C%0A%20%20%20%20%20%20%20%20%20%20%20%20%20%20%20%20%20%20%20%20zoom%3A%2012%2C%0A%20%20%20%20%20%20%20%20%20%20%20%20%20%20%20%20%20%20%20%20zoomControl%3A%20true%2C%0A%20%20%20%20%20%20%20%20%20%20%20%20%20%20%20%20%20%20%20%20preferCanvas%3A%20false%2C%0A%20%20%20%20%20%20%20%20%20%20%20%20%20%20%20%20%7D%0A%20%20%20%20%20%20%20%20%20%20%20%20%29%3B%0A%0A%20%20%20%20%20%20%20%20%20%20%20%20%0A%0A%20%20%20%20%20%20%20%20%0A%20%20%20%20%0A%20%20%20%20%20%20%20%20%20%20%20%20var%20tile_layer_311e40cb37ee4ba3adfd5877a9c2d1d6%20%3D%20L.tileLayer%28%0A%20%20%20%20%20%20%20%20%20%20%20%20%20%20%20%20%22https%3A//%7Bs%7D.tile.openstreetmap.org/%7Bz%7D/%7Bx%7D/%7By%7D.png%22%2C%0A%20%20%20%20%20%20%20%20%20%20%20%20%20%20%20%20%7B%22attribution%22%3A%20%22Data%20by%20%5Cu0026copy%3B%20%5Cu003ca%20href%3D%5C%22http%3A//openstreetmap.org%5C%22%5Cu003eOpenStreetMap%5Cu003c/a%5Cu003e%2C%20under%20%5Cu003ca%20href%3D%5C%22http%3A//www.openstreetmap.org/copyright%5C%22%5Cu003eODbL%5Cu003c/a%5Cu003e.%22%2C%20%22detectRetina%22%3A%20false%2C%20%22maxNativeZoom%22%3A%2018%2C%20%22maxZoom%22%3A%2018%2C%20%22minZoom%22%3A%200%2C%20%22noWrap%22%3A%20false%2C%20%22opacity%22%3A%201%2C%20%22subdomains%22%3A%20%22abc%22%2C%20%22tms%22%3A%20false%7D%0A%20%20%20%20%20%20%20%20%20%20%20%20%29.addTo%28map_c274f5f7e6614c69ac89f7f4b1aada0d%29%3B%0A%20%20%20%20%20%20%20%20%0A%20%20%20%20%0A%20%20%20%20%20%20%20%20%20%20%20%20var%20heat_map_d62b8465ebbd4eadbe4a717645461631%20%3D%20L.heatLayer%28%0A%20%20%20%20%20%20%20%20%20%20%20%20%20%20%20%20%5B%5B45.95485055%2C%20-112.49659530324134%2C%205124.0%5D%2C%20%5B18.1475%2C%2041.538889%2C%202523.0%5D%2C%20%5B12.9343774%2C%2077.628415%2C%202504.0%5D%2C%20%5B12.2655944%2C%2076.6465404%2C%202235.0%5D%2C%20%5B44.3730577%2C%20-71.6118577%2C%202144.0%5D%2C%20%5B12.9732913%2C%2077.6404672%2C%202083.0%5D%2C%20%5B27.64392675%2C%2083.05280519687284%2C%201926.0%5D%2C%20%5B12.9552572%2C%2077.6984163%2C%201846.0%5D%2C%20%5B12.9114375%2C%2077.5999754%2C%201630.0%5D%2C%20%5B12.93577245%2C%2077.66676103753434%2C%201286.0%5D%2C%20%5B32.2934563%2C%20-64.78236307254568%2C%201258.0%5D%2C%20%5B14.5395813%2C%20121.070371%2C%201238.0%5D%2C%20%5B44.621621%2C%20-84.790422%2C%201218.0%5D%2C%20%5B12.9302645%2C%2077.6332585%2C%201181.0%5D%2C%20%5B12.9400321%2C%2077.6203272%2C%201156.0%5D%2C%20%5B12.9252241%2C%2077.6367015%2C%201065.0%5D%2C%20%5B12.9778793%2C%2077.6246697%2C%201023.0%5D%2C%20%5B12.93433385%2C%2077.63040639553275%2C%201017.0%5D%2C%20%5B17.1452094%2C%2079.6218777%2C%20918.0%5D%2C%20%5B15.8876779%2C%2075.7046777%2C%20906.0%5D%2C%20%5B13.0221416%2C%2077.6403368%2C%20853.0%5D%2C%20%5B50.7721586%2C%200.09772783661369303%2C%20812.0%5D%2C%20%5B12.996845%2C%2077.6130165%2C%20727.0%5D%2C%20%5B13.0027353%2C%2077.5703253%2C%20725.0%5D%2C%20%5B12.9417261%2C%2077.5755021%2C%20684.0%5D%2C%20%5B-28.5477541%2C%2029.788093%2C%20675.0%5D%2C%20%5B13.0141618%2C%2077.6518539%2C%20664.0%5D%2C%20%5B33.5935063%2C%20-79.0345627%2C%20658.0%5D%2C%20%5B13.0170347%2C%2077.5726006%2C%20649.0%5D%2C%20%5B13.0093455%2C%2077.6377094%2C%20648.0%5D%2C%20%5B12.9882338%2C%2077.554883%2C%20591.0%5D%2C%20%5B51.373656%2C%20-0.1042366%2C%20569.0%5D%2C%20%5B40.7652844%2C%20-76.373824%2C%20529.0%5D%2C%20%5B17.5223139%2C%2078.5804307%2C%20511.0%5D%2C%20%5B18.5322493%2C%2073.8499601124847%2C%20499.0%5D%2C%20%5B12.9624669%2C%2077.6381958%2C%20496.0%5D%2C%20%5B31.89376%2C%20-88.066644%2C%20491.0%5D%2C%20%5B23.769728%2C%2090.3893881%2C%20446.0%5D%2C%20%5B12.945245%2C%2077.6269144%2C%20439.0%5D%2C%20%5B51.5209606%2C%20-0.0751003%2C%20370.0%5D%2C%20%5B51.5230784%2C%20-0.7374421%2C%20352.0%5D%2C%20%5B12.9417812%2C%2077.6160146%2C%20320.0%5D%2C%20%5B12.988721250000001%2C%2077.58516877601824%2C%20295.0%5D%2C%20%5B12.9678074%2C%2077.6568367%2C%20272.0%5D%2C%20%5B12.9489339%2C%2077.5968273%2C%20246.0%5D%2C%20%5B12.9089453%2C%2077.6239038%2C%20238.0%5D%2C%20%5B12.9271867%2C%2077.6266252%2C%20216.0%5D%2C%20%5B12.9081487%2C%2077.5553179%2C%20195.0%5D%2C%20%5B12.973936%2C%2077.6509982%2C%20194.0%5D%2C%20%5B12.9932236%2C%2077.5391579%2C%20191.0%5D%2C%20%5B13.2227%2C%2078.5541977%2C%20187.0%5D%2C%20%5B12.9931876%2C%2077.5753419%2C%20165.0%5D%2C%20%5B13.0258087%2C%2077.6305067%2C%20161.0%5D%2C%20%5B1.2847055%2C%20103.84320655721689%2C%20155.0%5D%2C%20%5B13.0358698%2C%2077.6323597%2C%20153.0%5D%2C%20%5B-34.0048654%2C%2022.4414125%2C%20151.0%5D%2C%20%5B22.3083138%2C%2073.1615488%2C%20139.0%5D%2C%20%5B39.76880625%2C%20-86.15345077251979%2C%20126.0%5D%2C%20%5B13.02383%2C%2077.5529215%2C%20119.0%5D%2C%20%5B12.9414662%2C%2077.7470942%2C%20117.0%5D%2C%20%5B12.967576%2C%2077.7150877%2C%20113.0%5D%2C%20%5B13.0646907%2C%2077.49626895712257%2C%20107.0%5D%2C%20%5B12.9243509%2C%2077.6255562%2C%20102.0%5D%2C%20%5B12.7405867%2C%2077.8200481%2C%20102.0%5D%2C%20%5B12.9846713%2C%2077.6790908%2C%20101.0%5D%2C%20%5B17.2510682%2C%2080.1651978%2C%2090.0%5D%2C%20%5B23.1883478%2C%2079.9092722%2C%2080.0%5D%2C%20%5B13.0227204%2C%2077.595715%2C%2080.0%5D%2C%20%5B23.1485712%2C%2081.6048241%2C%2076.0%5D%2C%20%5B15.8782951%2C%2074.5084834%2C%2063.0%5D%2C%20%5B13.0621474%2C%2077.58006135480495%2C%2053.0%5D%2C%20%5B13.2923988%2C%2077.7519261%2C%2048.0%5D%2C%20%5B13.0215466%2C%2077.7640586%2C%2044.0%5D%2C%20%5B13.6285774%2C%2077.4642026%2C%2038.0%5D%2C%20%5B12.945048%2C%2077.263004%2C%2034.0%5D%2C%20%5B12.957998%2C%2077.6037312%2C%2027.0%5D%2C%20%5B38.7801076%2C%20-121.5056438%2C%2027.0%5D%2C%20%5B13.0774728%2C%2077.8010327%2C%2022.0%5D%2C%20%5B12.3872141%2C%2076.6669626%2C%2022.0%5D%2C%20%5B12.5442176%2C%2077.4213833%2C%2019.0%5D%2C%20%5B13.007516%2C%2077.695935%2C%2018.0%5D%2C%20%5B12.9055682%2C%2077.5455438%2C%2017.0%5D%2C%20%5B13.0382184%2C%2077.5919%2C%2014.0%5D%2C%20%5B13.0217151%2C%2077.7660547%2C%2014.0%5D%2C%20%5B12.9176571%2C%2077.4837568%2C%209.0%5D%2C%20%5B12.9546741%2C%2077.5121724%2C%209.0%5D%2C%20%5B12.9900235%2C%2077.572073%2C%208.0%5D%2C%20%5B12.8759384%2C%2077.5960999%2C%206.0%5D%2C%20%5B13.1006982%2C%2077.5963454%2C%206.0%5D%2C%20%5B13.0784743%2C%2077.6068938%2C%203.0%5D%2C%20%5B12.9274413%2C%2077.5155224%2C%202.0%5D%2C%20%5B13.0329419%2C%2077.5273253%2C%201.0%5D%5D%2C%0A%20%20%20%20%20%20%20%20%20%20%20%20%20%20%20%20%7B%22blur%22%3A%2015%2C%20%22max%22%3A%201.0%2C%20%22maxZoom%22%3A%2020%2C%20%22minOpacity%22%3A%200.5%2C%20%22radius%22%3A%2025%7D%0A%20%20%20%20%20%20%20%20%20%20%20%20%29.addTo%28map_c274f5f7e6614c69ac89f7f4b1aada0d%29%3B%0A%20%20%20%20%20%20%20%20%0A%3C/script%3E onload=\"this.contentDocument.open();this.contentDocument.write(    decodeURIComponent(this.getAttribute('data-html')));this.contentDocument.close();\" allowfullscreen webkitallowfullscreen mozallowfullscreen></iframe></div></div>"
            ],
            "text/plain": [
              "<folium.folium.Map at 0x7ff9d8469dd0>"
            ]
          },
          "metadata": {
            "tags": []
          },
          "execution_count": 38
        }
      ]
    },
    {
      "cell_type": "code",
      "metadata": {
        "id": "KFKLecTLY8J7"
      },
      "source": [
        "from folium.plugins import FastMarkerCluster"
      ],
      "execution_count": 39,
      "outputs": []
    },
    {
      "cell_type": "code",
      "metadata": {
        "colab": {
          "base_uri": "https://localhost:8080/"
        },
        "id": "GWwv47XRY8Mz",
        "outputId": "d986dbe7-e6f6-450e-dab4-e28657376cc8"
      },
      "source": [
        "FastMarkerCluster(heated,max_zoom=20).add_to(base)"
      ],
      "execution_count": 40,
      "outputs": [
        {
          "output_type": "execute_result",
          "data": {
            "text/plain": [
              "<folium.plugins.fast_marker_cluster.FastMarkerCluster at 0x7ff9d7d909d0>"
            ]
          },
          "metadata": {
            "tags": []
          },
          "execution_count": 40
        }
      ]
    },
    {
      "cell_type": "code",
      "metadata": {
        "colab": {
          "base_uri": "https://localhost:8080/",
          "height": 402
        },
        "id": "6loOOEpUY8Rr",
        "outputId": "ea8b2c5c-014b-461c-af63-0540a388cce2"
      },
      "source": [
        "base"
      ],
      "execution_count": 41,
      "outputs": [
        {
          "output_type": "execute_result",
          "data": {
            "text/html": [
              "<div style=\"width:100%;\"><div style=\"position:relative;width:100%;height:0;padding-bottom:60%;\"><span style=\"color:#565656\">Make this Notebook Trusted to load map: File -> Trust Notebook</span><iframe src=\"about:blank\" style=\"position:absolute;width:100%;height:100%;left:0;top:0;border:none !important;\" data-html=%3C%21DOCTYPE%20html%3E%0A%3Chead%3E%20%20%20%20%0A%20%20%20%20%3Cmeta%20http-equiv%3D%22content-type%22%20content%3D%22text/html%3B%20charset%3DUTF-8%22%20/%3E%0A%20%20%20%20%0A%20%20%20%20%20%20%20%20%3Cscript%3E%0A%20%20%20%20%20%20%20%20%20%20%20%20L_NO_TOUCH%20%3D%20false%3B%0A%20%20%20%20%20%20%20%20%20%20%20%20L_DISABLE_3D%20%3D%20false%3B%0A%20%20%20%20%20%20%20%20%3C/script%3E%0A%20%20%20%20%0A%20%20%20%20%3Cscript%20src%3D%22https%3A//cdn.jsdelivr.net/npm/leaflet%401.5.1/dist/leaflet.js%22%3E%3C/script%3E%0A%20%20%20%20%3Cscript%20src%3D%22https%3A//code.jquery.com/jquery-1.12.4.min.js%22%3E%3C/script%3E%0A%20%20%20%20%3Cscript%20src%3D%22https%3A//maxcdn.bootstrapcdn.com/bootstrap/3.2.0/js/bootstrap.min.js%22%3E%3C/script%3E%0A%20%20%20%20%3Cscript%20src%3D%22https%3A//cdnjs.cloudflare.com/ajax/libs/Leaflet.awesome-markers/2.0.2/leaflet.awesome-markers.js%22%3E%3C/script%3E%0A%20%20%20%20%3Clink%20rel%3D%22stylesheet%22%20href%3D%22https%3A//cdn.jsdelivr.net/npm/leaflet%401.5.1/dist/leaflet.css%22/%3E%0A%20%20%20%20%3Clink%20rel%3D%22stylesheet%22%20href%3D%22https%3A//maxcdn.bootstrapcdn.com/bootstrap/3.2.0/css/bootstrap.min.css%22/%3E%0A%20%20%20%20%3Clink%20rel%3D%22stylesheet%22%20href%3D%22https%3A//maxcdn.bootstrapcdn.com/bootstrap/3.2.0/css/bootstrap-theme.min.css%22/%3E%0A%20%20%20%20%3Clink%20rel%3D%22stylesheet%22%20href%3D%22https%3A//maxcdn.bootstrapcdn.com/font-awesome/4.6.3/css/font-awesome.min.css%22/%3E%0A%20%20%20%20%3Clink%20rel%3D%22stylesheet%22%20href%3D%22https%3A//cdnjs.cloudflare.com/ajax/libs/Leaflet.awesome-markers/2.0.2/leaflet.awesome-markers.css%22/%3E%0A%20%20%20%20%3Clink%20rel%3D%22stylesheet%22%20href%3D%22https%3A//rawcdn.githack.com/python-visualization/folium/master/folium/templates/leaflet.awesome.rotate.css%22/%3E%0A%20%20%20%20%3Cstyle%3Ehtml%2C%20body%20%7Bwidth%3A%20100%25%3Bheight%3A%20100%25%3Bmargin%3A%200%3Bpadding%3A%200%3B%7D%3C/style%3E%0A%20%20%20%20%3Cstyle%3E%23map%20%7Bposition%3Aabsolute%3Btop%3A0%3Bbottom%3A0%3Bright%3A0%3Bleft%3A0%3B%7D%3C/style%3E%0A%20%20%20%20%0A%20%20%20%20%20%20%20%20%20%20%20%20%3Cmeta%20name%3D%22viewport%22%20content%3D%22width%3Ddevice-width%2C%0A%20%20%20%20%20%20%20%20%20%20%20%20%20%20%20%20initial-scale%3D1.0%2C%20maximum-scale%3D1.0%2C%20user-scalable%3Dno%22%20/%3E%0A%20%20%20%20%20%20%20%20%20%20%20%20%3Cstyle%3E%0A%20%20%20%20%20%20%20%20%20%20%20%20%20%20%20%20%23map_c274f5f7e6614c69ac89f7f4b1aada0d%20%7B%0A%20%20%20%20%20%20%20%20%20%20%20%20%20%20%20%20%20%20%20%20position%3A%20relative%3B%0A%20%20%20%20%20%20%20%20%20%20%20%20%20%20%20%20%20%20%20%20width%3A%20100.0%25%3B%0A%20%20%20%20%20%20%20%20%20%20%20%20%20%20%20%20%20%20%20%20height%3A%20100.0%25%3B%0A%20%20%20%20%20%20%20%20%20%20%20%20%20%20%20%20%20%20%20%20left%3A%200.0%25%3B%0A%20%20%20%20%20%20%20%20%20%20%20%20%20%20%20%20%20%20%20%20top%3A%200.0%25%3B%0A%20%20%20%20%20%20%20%20%20%20%20%20%20%20%20%20%7D%0A%20%20%20%20%20%20%20%20%20%20%20%20%3C/style%3E%0A%20%20%20%20%20%20%20%20%0A%20%20%20%20%3Cscript%20src%3D%22https%3A//leaflet.github.io/Leaflet.heat/dist/leaflet-heat.js%22%3E%3C/script%3E%0A%20%20%20%20%3Cscript%20src%3D%22https%3A//cdnjs.cloudflare.com/ajax/libs/leaflet.markercluster/1.1.0/leaflet.markercluster.js%22%3E%3C/script%3E%0A%20%20%20%20%3Clink%20rel%3D%22stylesheet%22%20href%3D%22https%3A//cdnjs.cloudflare.com/ajax/libs/leaflet.markercluster/1.1.0/MarkerCluster.css%22/%3E%0A%20%20%20%20%3Clink%20rel%3D%22stylesheet%22%20href%3D%22https%3A//cdnjs.cloudflare.com/ajax/libs/leaflet.markercluster/1.1.0/MarkerCluster.Default.css%22/%3E%0A%3C/head%3E%0A%3Cbody%3E%20%20%20%20%0A%20%20%20%20%0A%20%20%20%20%20%20%20%20%20%20%20%20%3Cdiv%20class%3D%22folium-map%22%20id%3D%22map_c274f5f7e6614c69ac89f7f4b1aada0d%22%20%3E%3C/div%3E%0A%20%20%20%20%20%20%20%20%0A%3C/body%3E%0A%3Cscript%3E%20%20%20%20%0A%20%20%20%20%0A%20%20%20%20%20%20%20%20%20%20%20%20var%20map_c274f5f7e6614c69ac89f7f4b1aada0d%20%3D%20L.map%28%0A%20%20%20%20%20%20%20%20%20%20%20%20%20%20%20%20%22map_c274f5f7e6614c69ac89f7f4b1aada0d%22%2C%0A%20%20%20%20%20%20%20%20%20%20%20%20%20%20%20%20%7B%0A%20%20%20%20%20%20%20%20%20%20%20%20%20%20%20%20%20%20%20%20center%3A%20%5B12.97%2C%2077.59%5D%2C%0A%20%20%20%20%20%20%20%20%20%20%20%20%20%20%20%20%20%20%20%20crs%3A%20L.CRS.EPSG3857%2C%0A%20%20%20%20%20%20%20%20%20%20%20%20%20%20%20%20%20%20%20%20zoom%3A%2012%2C%0A%20%20%20%20%20%20%20%20%20%20%20%20%20%20%20%20%20%20%20%20zoomControl%3A%20true%2C%0A%20%20%20%20%20%20%20%20%20%20%20%20%20%20%20%20%20%20%20%20preferCanvas%3A%20false%2C%0A%20%20%20%20%20%20%20%20%20%20%20%20%20%20%20%20%7D%0A%20%20%20%20%20%20%20%20%20%20%20%20%29%3B%0A%0A%20%20%20%20%20%20%20%20%20%20%20%20%0A%0A%20%20%20%20%20%20%20%20%0A%20%20%20%20%0A%20%20%20%20%20%20%20%20%20%20%20%20var%20tile_layer_311e40cb37ee4ba3adfd5877a9c2d1d6%20%3D%20L.tileLayer%28%0A%20%20%20%20%20%20%20%20%20%20%20%20%20%20%20%20%22https%3A//%7Bs%7D.tile.openstreetmap.org/%7Bz%7D/%7Bx%7D/%7By%7D.png%22%2C%0A%20%20%20%20%20%20%20%20%20%20%20%20%20%20%20%20%7B%22attribution%22%3A%20%22Data%20by%20%5Cu0026copy%3B%20%5Cu003ca%20href%3D%5C%22http%3A//openstreetmap.org%5C%22%5Cu003eOpenStreetMap%5Cu003c/a%5Cu003e%2C%20under%20%5Cu003ca%20href%3D%5C%22http%3A//www.openstreetmap.org/copyright%5C%22%5Cu003eODbL%5Cu003c/a%5Cu003e.%22%2C%20%22detectRetina%22%3A%20false%2C%20%22maxNativeZoom%22%3A%2018%2C%20%22maxZoom%22%3A%2018%2C%20%22minZoom%22%3A%200%2C%20%22noWrap%22%3A%20false%2C%20%22opacity%22%3A%201%2C%20%22subdomains%22%3A%20%22abc%22%2C%20%22tms%22%3A%20false%7D%0A%20%20%20%20%20%20%20%20%20%20%20%20%29.addTo%28map_c274f5f7e6614c69ac89f7f4b1aada0d%29%3B%0A%20%20%20%20%20%20%20%20%0A%20%20%20%20%0A%20%20%20%20%20%20%20%20%20%20%20%20var%20heat_map_d62b8465ebbd4eadbe4a717645461631%20%3D%20L.heatLayer%28%0A%20%20%20%20%20%20%20%20%20%20%20%20%20%20%20%20%5B%5B45.95485055%2C%20-112.49659530324134%2C%205124.0%5D%2C%20%5B18.1475%2C%2041.538889%2C%202523.0%5D%2C%20%5B12.9343774%2C%2077.628415%2C%202504.0%5D%2C%20%5B12.2655944%2C%2076.6465404%2C%202235.0%5D%2C%20%5B44.3730577%2C%20-71.6118577%2C%202144.0%5D%2C%20%5B12.9732913%2C%2077.6404672%2C%202083.0%5D%2C%20%5B27.64392675%2C%2083.05280519687284%2C%201926.0%5D%2C%20%5B12.9552572%2C%2077.6984163%2C%201846.0%5D%2C%20%5B12.9114375%2C%2077.5999754%2C%201630.0%5D%2C%20%5B12.93577245%2C%2077.66676103753434%2C%201286.0%5D%2C%20%5B32.2934563%2C%20-64.78236307254568%2C%201258.0%5D%2C%20%5B14.5395813%2C%20121.070371%2C%201238.0%5D%2C%20%5B44.621621%2C%20-84.790422%2C%201218.0%5D%2C%20%5B12.9302645%2C%2077.6332585%2C%201181.0%5D%2C%20%5B12.9400321%2C%2077.6203272%2C%201156.0%5D%2C%20%5B12.9252241%2C%2077.6367015%2C%201065.0%5D%2C%20%5B12.9778793%2C%2077.6246697%2C%201023.0%5D%2C%20%5B12.93433385%2C%2077.63040639553275%2C%201017.0%5D%2C%20%5B17.1452094%2C%2079.6218777%2C%20918.0%5D%2C%20%5B15.8876779%2C%2075.7046777%2C%20906.0%5D%2C%20%5B13.0221416%2C%2077.6403368%2C%20853.0%5D%2C%20%5B50.7721586%2C%200.09772783661369303%2C%20812.0%5D%2C%20%5B12.996845%2C%2077.6130165%2C%20727.0%5D%2C%20%5B13.0027353%2C%2077.5703253%2C%20725.0%5D%2C%20%5B12.9417261%2C%2077.5755021%2C%20684.0%5D%2C%20%5B-28.5477541%2C%2029.788093%2C%20675.0%5D%2C%20%5B13.0141618%2C%2077.6518539%2C%20664.0%5D%2C%20%5B33.5935063%2C%20-79.0345627%2C%20658.0%5D%2C%20%5B13.0170347%2C%2077.5726006%2C%20649.0%5D%2C%20%5B13.0093455%2C%2077.6377094%2C%20648.0%5D%2C%20%5B12.9882338%2C%2077.554883%2C%20591.0%5D%2C%20%5B51.373656%2C%20-0.1042366%2C%20569.0%5D%2C%20%5B40.7652844%2C%20-76.373824%2C%20529.0%5D%2C%20%5B17.5223139%2C%2078.5804307%2C%20511.0%5D%2C%20%5B18.5322493%2C%2073.8499601124847%2C%20499.0%5D%2C%20%5B12.9624669%2C%2077.6381958%2C%20496.0%5D%2C%20%5B31.89376%2C%20-88.066644%2C%20491.0%5D%2C%20%5B23.769728%2C%2090.3893881%2C%20446.0%5D%2C%20%5B12.945245%2C%2077.6269144%2C%20439.0%5D%2C%20%5B51.5209606%2C%20-0.0751003%2C%20370.0%5D%2C%20%5B51.5230784%2C%20-0.7374421%2C%20352.0%5D%2C%20%5B12.9417812%2C%2077.6160146%2C%20320.0%5D%2C%20%5B12.988721250000001%2C%2077.58516877601824%2C%20295.0%5D%2C%20%5B12.9678074%2C%2077.6568367%2C%20272.0%5D%2C%20%5B12.9489339%2C%2077.5968273%2C%20246.0%5D%2C%20%5B12.9089453%2C%2077.6239038%2C%20238.0%5D%2C%20%5B12.9271867%2C%2077.6266252%2C%20216.0%5D%2C%20%5B12.9081487%2C%2077.5553179%2C%20195.0%5D%2C%20%5B12.973936%2C%2077.6509982%2C%20194.0%5D%2C%20%5B12.9932236%2C%2077.5391579%2C%20191.0%5D%2C%20%5B13.2227%2C%2078.5541977%2C%20187.0%5D%2C%20%5B12.9931876%2C%2077.5753419%2C%20165.0%5D%2C%20%5B13.0258087%2C%2077.6305067%2C%20161.0%5D%2C%20%5B1.2847055%2C%20103.84320655721689%2C%20155.0%5D%2C%20%5B13.0358698%2C%2077.6323597%2C%20153.0%5D%2C%20%5B-34.0048654%2C%2022.4414125%2C%20151.0%5D%2C%20%5B22.3083138%2C%2073.1615488%2C%20139.0%5D%2C%20%5B39.76880625%2C%20-86.15345077251979%2C%20126.0%5D%2C%20%5B13.02383%2C%2077.5529215%2C%20119.0%5D%2C%20%5B12.9414662%2C%2077.7470942%2C%20117.0%5D%2C%20%5B12.967576%2C%2077.7150877%2C%20113.0%5D%2C%20%5B13.0646907%2C%2077.49626895712257%2C%20107.0%5D%2C%20%5B12.9243509%2C%2077.6255562%2C%20102.0%5D%2C%20%5B12.7405867%2C%2077.8200481%2C%20102.0%5D%2C%20%5B12.9846713%2C%2077.6790908%2C%20101.0%5D%2C%20%5B17.2510682%2C%2080.1651978%2C%2090.0%5D%2C%20%5B23.1883478%2C%2079.9092722%2C%2080.0%5D%2C%20%5B13.0227204%2C%2077.595715%2C%2080.0%5D%2C%20%5B23.1485712%2C%2081.6048241%2C%2076.0%5D%2C%20%5B15.8782951%2C%2074.5084834%2C%2063.0%5D%2C%20%5B13.0621474%2C%2077.58006135480495%2C%2053.0%5D%2C%20%5B13.2923988%2C%2077.7519261%2C%2048.0%5D%2C%20%5B13.0215466%2C%2077.7640586%2C%2044.0%5D%2C%20%5B13.6285774%2C%2077.4642026%2C%2038.0%5D%2C%20%5B12.945048%2C%2077.263004%2C%2034.0%5D%2C%20%5B12.957998%2C%2077.6037312%2C%2027.0%5D%2C%20%5B38.7801076%2C%20-121.5056438%2C%2027.0%5D%2C%20%5B13.0774728%2C%2077.8010327%2C%2022.0%5D%2C%20%5B12.3872141%2C%2076.6669626%2C%2022.0%5D%2C%20%5B12.5442176%2C%2077.4213833%2C%2019.0%5D%2C%20%5B13.007516%2C%2077.695935%2C%2018.0%5D%2C%20%5B12.9055682%2C%2077.5455438%2C%2017.0%5D%2C%20%5B13.0382184%2C%2077.5919%2C%2014.0%5D%2C%20%5B13.0217151%2C%2077.7660547%2C%2014.0%5D%2C%20%5B12.9176571%2C%2077.4837568%2C%209.0%5D%2C%20%5B12.9546741%2C%2077.5121724%2C%209.0%5D%2C%20%5B12.9900235%2C%2077.572073%2C%208.0%5D%2C%20%5B12.8759384%2C%2077.5960999%2C%206.0%5D%2C%20%5B13.1006982%2C%2077.5963454%2C%206.0%5D%2C%20%5B13.0784743%2C%2077.6068938%2C%203.0%5D%2C%20%5B12.9274413%2C%2077.5155224%2C%202.0%5D%2C%20%5B13.0329419%2C%2077.5273253%2C%201.0%5D%5D%2C%0A%20%20%20%20%20%20%20%20%20%20%20%20%20%20%20%20%7B%22blur%22%3A%2015%2C%20%22max%22%3A%201.0%2C%20%22maxZoom%22%3A%2020%2C%20%22minOpacity%22%3A%200.5%2C%20%22radius%22%3A%2025%7D%0A%20%20%20%20%20%20%20%20%20%20%20%20%29.addTo%28map_c274f5f7e6614c69ac89f7f4b1aada0d%29%3B%0A%20%20%20%20%20%20%20%20%0A%20%20%20%20%0A%20%20%20%20%20%20%20%20%20%20%20%20var%20fast_marker_cluster_a97eabbac7044ce8b4a47ef7df01bb81%20%3D%20%28function%28%29%7B%0A%20%20%20%20%20%20%20%20%20%20%20%20%20%20%20%20%0A%20%20%20%20%20%20%20%20%20%20%20%20%20%20%20%20var%20callback%20%3D%20function%20%28row%29%20%7B%0A%20%20%20%20%20%20%20%20%20%20%20%20%20%20%20%20%20%20%20%20var%20icon%20%3D%20L.AwesomeMarkers.icon%28%29%3B%0A%20%20%20%20%20%20%20%20%20%20%20%20%20%20%20%20%20%20%20%20var%20marker%20%3D%20L.marker%28new%20L.LatLng%28row%5B0%5D%2C%20row%5B1%5D%29%29%3B%0A%20%20%20%20%20%20%20%20%20%20%20%20%20%20%20%20%20%20%20%20marker.setIcon%28icon%29%3B%0A%20%20%20%20%20%20%20%20%20%20%20%20%20%20%20%20%20%20%20%20return%20marker%3B%0A%20%20%20%20%20%20%20%20%20%20%20%20%20%20%20%20%7D%3B%0A%0A%20%20%20%20%20%20%20%20%20%20%20%20%20%20%20%20var%20data%20%3D%20%5B%5B45.95485055%2C%20-112.49659530324134%2C%205124.0%5D%2C%20%5B18.1475%2C%2041.538889%2C%202523.0%5D%2C%20%5B12.9343774%2C%2077.628415%2C%202504.0%5D%2C%20%5B12.2655944%2C%2076.6465404%2C%202235.0%5D%2C%20%5B44.3730577%2C%20-71.6118577%2C%202144.0%5D%2C%20%5B12.9732913%2C%2077.6404672%2C%202083.0%5D%2C%20%5B27.64392675%2C%2083.05280519687284%2C%201926.0%5D%2C%20%5B12.9552572%2C%2077.6984163%2C%201846.0%5D%2C%20%5B12.9114375%2C%2077.5999754%2C%201630.0%5D%2C%20%5B12.93577245%2C%2077.66676103753434%2C%201286.0%5D%2C%20%5B32.2934563%2C%20-64.78236307254568%2C%201258.0%5D%2C%20%5B14.5395813%2C%20121.070371%2C%201238.0%5D%2C%20%5B44.621621%2C%20-84.790422%2C%201218.0%5D%2C%20%5B12.9302645%2C%2077.6332585%2C%201181.0%5D%2C%20%5B12.9400321%2C%2077.6203272%2C%201156.0%5D%2C%20%5B12.9252241%2C%2077.6367015%2C%201065.0%5D%2C%20%5B12.9778793%2C%2077.6246697%2C%201023.0%5D%2C%20%5B12.93433385%2C%2077.63040639553275%2C%201017.0%5D%2C%20%5B17.1452094%2C%2079.6218777%2C%20918.0%5D%2C%20%5B15.8876779%2C%2075.7046777%2C%20906.0%5D%2C%20%5B13.0221416%2C%2077.6403368%2C%20853.0%5D%2C%20%5B50.7721586%2C%200.09772783661369303%2C%20812.0%5D%2C%20%5B12.996845%2C%2077.6130165%2C%20727.0%5D%2C%20%5B13.0027353%2C%2077.5703253%2C%20725.0%5D%2C%20%5B12.9417261%2C%2077.5755021%2C%20684.0%5D%2C%20%5B-28.5477541%2C%2029.788093%2C%20675.0%5D%2C%20%5B13.0141618%2C%2077.6518539%2C%20664.0%5D%2C%20%5B33.5935063%2C%20-79.0345627%2C%20658.0%5D%2C%20%5B13.0170347%2C%2077.5726006%2C%20649.0%5D%2C%20%5B13.0093455%2C%2077.6377094%2C%20648.0%5D%2C%20%5B12.9882338%2C%2077.554883%2C%20591.0%5D%2C%20%5B51.373656%2C%20-0.1042366%2C%20569.0%5D%2C%20%5B40.7652844%2C%20-76.373824%2C%20529.0%5D%2C%20%5B17.5223139%2C%2078.5804307%2C%20511.0%5D%2C%20%5B18.5322493%2C%2073.8499601124847%2C%20499.0%5D%2C%20%5B12.9624669%2C%2077.6381958%2C%20496.0%5D%2C%20%5B31.89376%2C%20-88.066644%2C%20491.0%5D%2C%20%5B23.769728%2C%2090.3893881%2C%20446.0%5D%2C%20%5B12.945245%2C%2077.6269144%2C%20439.0%5D%2C%20%5B51.5209606%2C%20-0.0751003%2C%20370.0%5D%2C%20%5B51.5230784%2C%20-0.7374421%2C%20352.0%5D%2C%20%5B12.9417812%2C%2077.6160146%2C%20320.0%5D%2C%20%5B12.988721250000001%2C%2077.58516877601824%2C%20295.0%5D%2C%20%5B12.9678074%2C%2077.6568367%2C%20272.0%5D%2C%20%5B12.9489339%2C%2077.5968273%2C%20246.0%5D%2C%20%5B12.9089453%2C%2077.6239038%2C%20238.0%5D%2C%20%5B12.9271867%2C%2077.6266252%2C%20216.0%5D%2C%20%5B12.9081487%2C%2077.5553179%2C%20195.0%5D%2C%20%5B12.973936%2C%2077.6509982%2C%20194.0%5D%2C%20%5B12.9932236%2C%2077.5391579%2C%20191.0%5D%2C%20%5B13.2227%2C%2078.5541977%2C%20187.0%5D%2C%20%5B12.9931876%2C%2077.5753419%2C%20165.0%5D%2C%20%5B13.0258087%2C%2077.6305067%2C%20161.0%5D%2C%20%5B1.2847055%2C%20103.84320655721689%2C%20155.0%5D%2C%20%5B13.0358698%2C%2077.6323597%2C%20153.0%5D%2C%20%5B-34.0048654%2C%2022.4414125%2C%20151.0%5D%2C%20%5B22.3083138%2C%2073.1615488%2C%20139.0%5D%2C%20%5B39.76880625%2C%20-86.15345077251979%2C%20126.0%5D%2C%20%5B13.02383%2C%2077.5529215%2C%20119.0%5D%2C%20%5B12.9414662%2C%2077.7470942%2C%20117.0%5D%2C%20%5B12.967576%2C%2077.7150877%2C%20113.0%5D%2C%20%5B13.0646907%2C%2077.49626895712257%2C%20107.0%5D%2C%20%5B12.9243509%2C%2077.6255562%2C%20102.0%5D%2C%20%5B12.7405867%2C%2077.8200481%2C%20102.0%5D%2C%20%5B12.9846713%2C%2077.6790908%2C%20101.0%5D%2C%20%5B17.2510682%2C%2080.1651978%2C%2090.0%5D%2C%20%5B23.1883478%2C%2079.9092722%2C%2080.0%5D%2C%20%5B13.0227204%2C%2077.595715%2C%2080.0%5D%2C%20%5B23.1485712%2C%2081.6048241%2C%2076.0%5D%2C%20%5B15.8782951%2C%2074.5084834%2C%2063.0%5D%2C%20%5B13.0621474%2C%2077.58006135480495%2C%2053.0%5D%2C%20%5B13.2923988%2C%2077.7519261%2C%2048.0%5D%2C%20%5B13.0215466%2C%2077.7640586%2C%2044.0%5D%2C%20%5B13.6285774%2C%2077.4642026%2C%2038.0%5D%2C%20%5B12.945048%2C%2077.263004%2C%2034.0%5D%2C%20%5B12.957998%2C%2077.6037312%2C%2027.0%5D%2C%20%5B38.7801076%2C%20-121.5056438%2C%2027.0%5D%2C%20%5B13.0774728%2C%2077.8010327%2C%2022.0%5D%2C%20%5B12.3872141%2C%2076.6669626%2C%2022.0%5D%2C%20%5B12.5442176%2C%2077.4213833%2C%2019.0%5D%2C%20%5B13.007516%2C%2077.695935%2C%2018.0%5D%2C%20%5B12.9055682%2C%2077.5455438%2C%2017.0%5D%2C%20%5B13.0382184%2C%2077.5919%2C%2014.0%5D%2C%20%5B13.0217151%2C%2077.7660547%2C%2014.0%5D%2C%20%5B12.9176571%2C%2077.4837568%2C%209.0%5D%2C%20%5B12.9546741%2C%2077.5121724%2C%209.0%5D%2C%20%5B12.9900235%2C%2077.572073%2C%208.0%5D%2C%20%5B12.8759384%2C%2077.5960999%2C%206.0%5D%2C%20%5B13.1006982%2C%2077.5963454%2C%206.0%5D%2C%20%5B13.0784743%2C%2077.6068938%2C%203.0%5D%2C%20%5B12.9274413%2C%2077.5155224%2C%202.0%5D%2C%20%5B13.0329419%2C%2077.5273253%2C%201.0%5D%5D%3B%0A%20%20%20%20%20%20%20%20%20%20%20%20%20%20%20%20var%20cluster%20%3D%20L.markerClusterGroup%28%7B%22maxZoom%22%3A%2020%7D%29%3B%0A%0A%20%20%20%20%20%20%20%20%20%20%20%20%20%20%20%20for%20%28var%20i%20%3D%200%3B%20i%20%3C%20data.length%3B%20i%2B%2B%29%20%7B%0A%20%20%20%20%20%20%20%20%20%20%20%20%20%20%20%20%20%20%20%20var%20row%20%3D%20data%5Bi%5D%3B%0A%20%20%20%20%20%20%20%20%20%20%20%20%20%20%20%20%20%20%20%20var%20marker%20%3D%20callback%28row%29%3B%0A%20%20%20%20%20%20%20%20%20%20%20%20%20%20%20%20%20%20%20%20marker.addTo%28cluster%29%3B%0A%20%20%20%20%20%20%20%20%20%20%20%20%20%20%20%20%7D%0A%0A%20%20%20%20%20%20%20%20%20%20%20%20%20%20%20%20cluster.addTo%28map_c274f5f7e6614c69ac89f7f4b1aada0d%29%3B%0A%20%20%20%20%20%20%20%20%20%20%20%20%20%20%20%20return%20cluster%3B%0A%20%20%20%20%20%20%20%20%20%20%20%20%7D%29%28%29%3B%0A%20%20%20%20%20%20%20%20%0A%3C/script%3E onload=\"this.contentDocument.open();this.contentDocument.write(    decodeURIComponent(this.getAttribute('data-html')));this.contentDocument.close();\" allowfullscreen webkitallowfullscreen mozallowfullscreen></iframe></div></div>"
            ],
            "text/plain": [
              "<folium.folium.Map at 0x7ff9d8469dd0>"
            ]
          },
          "metadata": {
            "tags": []
          },
          "execution_count": 41
        }
      ]
    },
    {
      "cell_type": "code",
      "metadata": {
        "id": "baCSkMg3Y8Up",
        "colab": {
          "base_uri": "https://localhost:8080/",
          "height": 593
        },
        "outputId": "85c0eca7-ca47-4b41-f4a1-fc9e242dd45d"
      },
      "source": [
        "df.head()"
      ],
      "execution_count": 42,
      "outputs": [
        {
          "output_type": "execute_result",
          "data": {
            "text/html": [
              "<div>\n",
              "<style scoped>\n",
              "    .dataframe tbody tr th:only-of-type {\n",
              "        vertical-align: middle;\n",
              "    }\n",
              "\n",
              "    .dataframe tbody tr th {\n",
              "        vertical-align: top;\n",
              "    }\n",
              "\n",
              "    .dataframe thead th {\n",
              "        text-align: right;\n",
              "    }\n",
              "</style>\n",
              "<table border=\"1\" class=\"dataframe\">\n",
              "  <thead>\n",
              "    <tr style=\"text-align: right;\">\n",
              "      <th></th>\n",
              "      <th>url</th>\n",
              "      <th>address</th>\n",
              "      <th>name</th>\n",
              "      <th>online_order</th>\n",
              "      <th>book_table</th>\n",
              "      <th>rate</th>\n",
              "      <th>votes</th>\n",
              "      <th>phone</th>\n",
              "      <th>location</th>\n",
              "      <th>rest_type</th>\n",
              "      <th>dish_liked</th>\n",
              "      <th>cuisines</th>\n",
              "      <th>approx_cost(for two people)</th>\n",
              "      <th>reviews_list</th>\n",
              "      <th>menu_item</th>\n",
              "      <th>listed_in(type)</th>\n",
              "      <th>listed_in(city)</th>\n",
              "    </tr>\n",
              "  </thead>\n",
              "  <tbody>\n",
              "    <tr>\n",
              "      <th>0</th>\n",
              "      <td>https://www.zomato.com/bangalore/jalsa-banasha...</td>\n",
              "      <td>942, 21st Main Road, 2nd Stage, Banashankari, ...</td>\n",
              "      <td>Jalsa</td>\n",
              "      <td>Yes</td>\n",
              "      <td>Yes</td>\n",
              "      <td>4.1/5</td>\n",
              "      <td>775</td>\n",
              "      <td>080 42297555\\r\\n+91 9743772233</td>\n",
              "      <td>Banashankari</td>\n",
              "      <td>Casual Dining</td>\n",
              "      <td>Pasta, Lunch Buffet, Masala Papad, Paneer Laja...</td>\n",
              "      <td>North Indian, Mughlai, Chinese</td>\n",
              "      <td>800</td>\n",
              "      <td>[('Rated 4.0', 'RATED\\n  A beautiful place to ...</td>\n",
              "      <td>[]</td>\n",
              "      <td>Buffet</td>\n",
              "      <td>Banashankari</td>\n",
              "    </tr>\n",
              "    <tr>\n",
              "      <th>1</th>\n",
              "      <td>https://www.zomato.com/bangalore/spice-elephan...</td>\n",
              "      <td>2nd Floor, 80 Feet Road, Near Big Bazaar, 6th ...</td>\n",
              "      <td>Spice Elephant</td>\n",
              "      <td>Yes</td>\n",
              "      <td>No</td>\n",
              "      <td>4.1/5</td>\n",
              "      <td>787</td>\n",
              "      <td>080 41714161</td>\n",
              "      <td>Banashankari</td>\n",
              "      <td>Casual Dining</td>\n",
              "      <td>Momos, Lunch Buffet, Chocolate Nirvana, Thai G...</td>\n",
              "      <td>Chinese, North Indian, Thai</td>\n",
              "      <td>800</td>\n",
              "      <td>[('Rated 4.0', 'RATED\\n  Had been here for din...</td>\n",
              "      <td>[]</td>\n",
              "      <td>Buffet</td>\n",
              "      <td>Banashankari</td>\n",
              "    </tr>\n",
              "    <tr>\n",
              "      <th>2</th>\n",
              "      <td>https://www.zomato.com/SanchurroBangalore?cont...</td>\n",
              "      <td>1112, Next to KIMS Medical College, 17th Cross...</td>\n",
              "      <td>San Churro Cafe</td>\n",
              "      <td>Yes</td>\n",
              "      <td>No</td>\n",
              "      <td>3.8/5</td>\n",
              "      <td>918</td>\n",
              "      <td>+91 9663487993</td>\n",
              "      <td>Banashankari</td>\n",
              "      <td>Cafe, Casual Dining</td>\n",
              "      <td>Churros, Cannelloni, Minestrone Soup, Hot Choc...</td>\n",
              "      <td>Cafe, Mexican, Italian</td>\n",
              "      <td>800</td>\n",
              "      <td>[('Rated 3.0', \"RATED\\n  Ambience is not that ...</td>\n",
              "      <td>[]</td>\n",
              "      <td>Buffet</td>\n",
              "      <td>Banashankari</td>\n",
              "    </tr>\n",
              "    <tr>\n",
              "      <th>3</th>\n",
              "      <td>https://www.zomato.com/bangalore/addhuri-udupi...</td>\n",
              "      <td>1st Floor, Annakuteera, 3rd Stage, Banashankar...</td>\n",
              "      <td>Addhuri Udupi Bhojana</td>\n",
              "      <td>No</td>\n",
              "      <td>No</td>\n",
              "      <td>3.7/5</td>\n",
              "      <td>88</td>\n",
              "      <td>+91 9620009302</td>\n",
              "      <td>Banashankari</td>\n",
              "      <td>Quick Bites</td>\n",
              "      <td>Masala Dosa</td>\n",
              "      <td>South Indian, North Indian</td>\n",
              "      <td>300</td>\n",
              "      <td>[('Rated 4.0', \"RATED\\n  Great food and proper...</td>\n",
              "      <td>[]</td>\n",
              "      <td>Buffet</td>\n",
              "      <td>Banashankari</td>\n",
              "    </tr>\n",
              "    <tr>\n",
              "      <th>4</th>\n",
              "      <td>https://www.zomato.com/bangalore/grand-village...</td>\n",
              "      <td>10, 3rd Floor, Lakshmi Associates, Gandhi Baza...</td>\n",
              "      <td>Grand Village</td>\n",
              "      <td>No</td>\n",
              "      <td>No</td>\n",
              "      <td>3.8/5</td>\n",
              "      <td>166</td>\n",
              "      <td>+91 8026612447\\r\\n+91 9901210005</td>\n",
              "      <td>Basavanagudi</td>\n",
              "      <td>Casual Dining</td>\n",
              "      <td>Panipuri, Gol Gappe</td>\n",
              "      <td>North Indian, Rajasthani</td>\n",
              "      <td>600</td>\n",
              "      <td>[('Rated 4.0', 'RATED\\n  Very good restaurant ...</td>\n",
              "      <td>[]</td>\n",
              "      <td>Buffet</td>\n",
              "      <td>Banashankari</td>\n",
              "    </tr>\n",
              "  </tbody>\n",
              "</table>\n",
              "</div>"
            ],
            "text/plain": [
              "                                                 url  ... listed_in(city)\n",
              "0  https://www.zomato.com/bangalore/jalsa-banasha...  ...    Banashankari\n",
              "1  https://www.zomato.com/bangalore/spice-elephan...  ...    Banashankari\n",
              "2  https://www.zomato.com/SanchurroBangalore?cont...  ...    Banashankari\n",
              "3  https://www.zomato.com/bangalore/addhuri-udupi...  ...    Banashankari\n",
              "4  https://www.zomato.com/bangalore/grand-village...  ...    Banashankari\n",
              "\n",
              "[5 rows x 17 columns]"
            ]
          },
          "metadata": {
            "tags": []
          },
          "execution_count": 42
        }
      ]
    },
    {
      "cell_type": "code",
      "metadata": {
        "colab": {
          "base_uri": "https://localhost:8080/"
        },
        "id": "PYsBd_Pv5UE8",
        "outputId": "4e47bbc3-e531-41d0-cd53-4dfb3fb8e140"
      },
      "source": [
        "df['rate'].unique()"
      ],
      "execution_count": 73,
      "outputs": [
        {
          "output_type": "execute_result",
          "data": {
            "text/plain": [
              "array(['4.1/5', '3.8/5', '3.7/5', '3.6/5', '4.6/5', '4.0/5', '4.2/5',\n",
              "       '3.9/5', '3.1/5', '3.0/5', '3.2/5', '3.3/5', '2.8/5', '4.4/5',\n",
              "       '4.3/5', 'NEW', '2.9/5', '3.5/5', nan, '2.6/5', '3.8 /5', '3.4/5',\n",
              "       '4.5/5', '2.5/5', '2.7/5', '4.7/5', '2.4/5', '2.2/5', '2.3/5',\n",
              "       '3.4 /5', '-', '3.6 /5', '4.8/5', '3.9 /5', '4.2 /5', '4.0 /5',\n",
              "       '4.1 /5', '3.7 /5', '3.1 /5', '2.9 /5', '3.3 /5', '2.8 /5',\n",
              "       '3.5 /5', '2.7 /5', '2.5 /5', '3.2 /5', '2.6 /5', '4.5 /5',\n",
              "       '4.3 /5', '4.4 /5', '4.9/5', '2.1/5', '2.0/5', '1.8/5', '4.6 /5',\n",
              "       '4.9 /5', '3.0 /5', '4.8 /5', '2.3 /5', '4.7 /5', '2.4 /5',\n",
              "       '2.1 /5', '2.2 /5', '2.0 /5', '1.8 /5'], dtype=object)"
            ]
          },
          "metadata": {
            "tags": []
          },
          "execution_count": 73
        }
      ]
    },
    {
      "cell_type": "code",
      "metadata": {
        "id": "Y_YcP3mK_qQw"
      },
      "source": [
        "df.dropna(subset=['rate'],inplace=True)"
      ],
      "execution_count": 123,
      "outputs": []
    },
    {
      "cell_type": "code",
      "metadata": {
        "id": "ITHxnbto_C7Y"
      },
      "source": [
        "df=df[df['rate']!='NEW']\n",
        "df=df[df['rate']!='-']"
      ],
      "execution_count": 121,
      "outputs": []
    },
    {
      "cell_type": "code",
      "metadata": {
        "colab": {
          "base_uri": "https://localhost:8080/"
        },
        "id": "Dir4P0l6Dib5",
        "outputId": "8b2629a6-c605-41fe-ee75-6f8e9cf98ca0"
      },
      "source": [
        "df['rate'].unique()"
      ],
      "execution_count": 124,
      "outputs": [
        {
          "output_type": "execute_result",
          "data": {
            "text/plain": [
              "array(['4.1/5', '3.8/5', '3.7/5', '3.6/5', '4.6/5', '4.0/5', '4.2/5',\n",
              "       '3.9/5', '3.1/5', '3.0/5', '3.2/5', '3.3/5', '2.8/5', '4.4/5',\n",
              "       '4.3/5', '2.9/5', '3.5/5', '2.6/5', '3.8 /5', '3.4/5', '4.5/5',\n",
              "       '2.5/5', '2.7/5', '4.7/5', '2.4/5', '2.2/5', '2.3/5', '3.4 /5',\n",
              "       '3.6 /5', '4.8/5', '3.9 /5', '4.2 /5', '4.0 /5', '4.1 /5',\n",
              "       '3.7 /5', '3.1 /5', '2.9 /5', '3.3 /5', '2.8 /5', '3.5 /5',\n",
              "       '2.7 /5', '2.5 /5', '3.2 /5', '2.6 /5', '4.5 /5', '4.3 /5',\n",
              "       '4.4 /5', '4.9/5', '2.1/5', '2.0/5', '1.8/5', '4.6 /5', '4.9 /5',\n",
              "       '3.0 /5', '4.8 /5', '2.3 /5', '4.7 /5', '2.4 /5', '2.1 /5',\n",
              "       '2.2 /5', '2.0 /5', '1.8 /5'], dtype=object)"
            ]
          },
          "metadata": {
            "tags": []
          },
          "execution_count": 124
        }
      ]
    },
    {
      "cell_type": "code",
      "metadata": {
        "colab": {
          "base_uri": "https://localhost:8080/",
          "height": 447
        },
        "id": "QTtHP-LC7NyC",
        "outputId": "98907bba-545c-4297-83cc-233fe41b8557"
      },
      "source": [
        "\n"
      ],
      "execution_count": 94,
      "outputs": [
        {
          "output_type": "execute_result",
          "data": {
            "text/html": [
              "<div>\n",
              "<style scoped>\n",
              "    .dataframe tbody tr th:only-of-type {\n",
              "        vertical-align: middle;\n",
              "    }\n",
              "\n",
              "    .dataframe tbody tr th {\n",
              "        vertical-align: top;\n",
              "    }\n",
              "\n",
              "    .dataframe thead th {\n",
              "        text-align: right;\n",
              "    }\n",
              "</style>\n",
              "<table border=\"1\" class=\"dataframe\">\n",
              "  <thead>\n",
              "    <tr style=\"text-align: right;\">\n",
              "      <th></th>\n",
              "      <th>votes</th>\n",
              "    </tr>\n",
              "    <tr>\n",
              "      <th>location</th>\n",
              "      <th></th>\n",
              "    </tr>\n",
              "  </thead>\n",
              "  <tbody>\n",
              "    <tr>\n",
              "      <th>BTM</th>\n",
              "      <td>120.877440</td>\n",
              "    </tr>\n",
              "    <tr>\n",
              "      <th>Banashankari</th>\n",
              "      <td>179.220751</td>\n",
              "    </tr>\n",
              "    <tr>\n",
              "      <th>Banaswadi</th>\n",
              "      <td>53.700301</td>\n",
              "    </tr>\n",
              "    <tr>\n",
              "      <th>Bannerghatta Road</th>\n",
              "      <td>134.403067</td>\n",
              "    </tr>\n",
              "    <tr>\n",
              "      <th>Basavanagudi</th>\n",
              "      <td>138.770468</td>\n",
              "    </tr>\n",
              "    <tr>\n",
              "      <th>...</th>\n",
              "      <td>...</td>\n",
              "    </tr>\n",
              "    <tr>\n",
              "      <th>West Bangalore</th>\n",
              "      <td>185.000000</td>\n",
              "    </tr>\n",
              "    <tr>\n",
              "      <th>Whitefield</th>\n",
              "      <td>217.737407</td>\n",
              "    </tr>\n",
              "    <tr>\n",
              "      <th>Wilson Garden</th>\n",
              "      <td>29.841463</td>\n",
              "    </tr>\n",
              "    <tr>\n",
              "      <th>Yelahanka</th>\n",
              "      <td>31.500000</td>\n",
              "    </tr>\n",
              "    <tr>\n",
              "      <th>Yeshwantpur</th>\n",
              "      <td>58.655462</td>\n",
              "    </tr>\n",
              "  </tbody>\n",
              "</table>\n",
              "<p>93 rows × 1 columns</p>\n",
              "</div>"
            ],
            "text/plain": [
              "                        votes\n",
              "location                     \n",
              "BTM                120.877440\n",
              "Banashankari       179.220751\n",
              "Banaswadi           53.700301\n",
              "Bannerghatta Road  134.403067\n",
              "Basavanagudi       138.770468\n",
              "...                       ...\n",
              "West Bangalore     185.000000\n",
              "Whitefield         217.737407\n",
              "Wilson Garden       29.841463\n",
              "Yelahanka           31.500000\n",
              "Yeshwantpur         58.655462\n",
              "\n",
              "[93 rows x 1 columns]"
            ]
          },
          "metadata": {
            "tags": []
          },
          "execution_count": 94
        }
      ]
    },
    {
      "cell_type": "code",
      "metadata": {
        "id": "o2zpYUQ9_nLK"
      },
      "source": [
        ""
      ],
      "execution_count": null,
      "outputs": []
    },
    {
      "cell_type": "code",
      "metadata": {
        "id": "VNM5xdB1Y8bw",
        "colab": {
          "base_uri": "https://localhost:8080/"
        },
        "outputId": "540c9334-e4db-4a65-b9f5-1dbd6e560a9f"
      },
      "source": [
        "\n",
        "r=[float(str(i).split('/')[0]) for i in df['rate']]\n",
        "r"
      ],
      "execution_count": 125,
      "outputs": [
        {
          "output_type": "execute_result",
          "data": {
            "text/plain": [
              "[4.1,\n",
              " 4.1,\n",
              " 3.8,\n",
              " 3.7,\n",
              " 3.8,\n",
              " 3.8,\n",
              " 3.6,\n",
              " 4.6,\n",
              " 4.0,\n",
              " 4.2,\n",
              " 4.1,\n",
              " 4.2,\n",
              " 4.2,\n",
              " 4.0,\n",
              " 3.8,\n",
              " 3.8,\n",
              " 3.9,\n",
              " 3.8,\n",
              " 3.9,\n",
              " 3.1,\n",
              " 3.0,\n",
              " 3.7,\n",
              " 3.6,\n",
              " 3.6,\n",
              " 3.7,\n",
              " 3.2,\n",
              " 3.8,\n",
              " 3.3,\n",
              " 3.3,\n",
              " 3.8,\n",
              " 4.0,\n",
              " 2.8,\n",
              " 3.9,\n",
              " 3.9,\n",
              " 4.2,\n",
              " 3.9,\n",
              " 2.8,\n",
              " 4.2,\n",
              " 4.4,\n",
              " 4.0,\n",
              " 3.8,\n",
              " 3.9,\n",
              " 3.9,\n",
              " 3.9,\n",
              " 4.6,\n",
              " 3.8,\n",
              " 3.6,\n",
              " 4.0,\n",
              " 3.7,\n",
              " 3.1,\n",
              " 3.7,\n",
              " 4.1,\n",
              " 4.3,\n",
              " 4.0,\n",
              " 4.0,\n",
              " 3.9,\n",
              " 3.8,\n",
              " 4.2,\n",
              " 3.6,\n",
              " 3.7,\n",
              " 4.2,\n",
              " 3.6,\n",
              " 3.8,\n",
              " 4.0,\n",
              " 3.7,\n",
              " 4.1,\n",
              " 3.6,\n",
              " 4.1,\n",
              " 3.8,\n",
              " 3.2,\n",
              " 3.6,\n",
              " 4.1,\n",
              " 2.9,\n",
              " 3.6,\n",
              " 4.1,\n",
              " 3.6,\n",
              " 3.7,\n",
              " 3.8,\n",
              " 3.8,\n",
              " 4.2,\n",
              " 3.5,\n",
              " 3.8,\n",
              " 4.0,\n",
              " 4.4,\n",
              " 3.5,\n",
              " 3.5,\n",
              " 3.7,\n",
              " 3.2,\n",
              " 2.6,\n",
              " 3.3,\n",
              " 3.8,\n",
              " 3.7,\n",
              " 3.7,\n",
              " 3.8,\n",
              " 3.5,\n",
              " 3.7,\n",
              " 3.5,\n",
              " 3.8,\n",
              " 3.2,\n",
              " 3.5,\n",
              " 3.4,\n",
              " 3.2,\n",
              " 3.2,\n",
              " 3.1,\n",
              " 3.4,\n",
              " 3.1,\n",
              " 4.1,\n",
              " 3.3,\n",
              " 3.1,\n",
              " 3.3,\n",
              " 2.9,\n",
              " 3.3,\n",
              " 4.0,\n",
              " 3.0,\n",
              " 3.9,\n",
              " 4.1,\n",
              " 3.8,\n",
              " 3.8,\n",
              " 3.8,\n",
              " 4.1,\n",
              " 3.8,\n",
              " 4.1,\n",
              " 3.7,\n",
              " 3.9,\n",
              " 3.0,\n",
              " 3.7,\n",
              " 3.3,\n",
              " 3.3,\n",
              " 3.6,\n",
              " 3.3,\n",
              " 4.6,\n",
              " 4.1,\n",
              " 4.1,\n",
              " 3.7,\n",
              " 3.2,\n",
              " 4.0,\n",
              " 3.7,\n",
              " 3.5,\n",
              " 3.8,\n",
              " 3.8,\n",
              " 4.2,\n",
              " 3.6,\n",
              " 3.0,\n",
              " 4.1,\n",
              " 3.8,\n",
              " 3.1,\n",
              " 3.9,\n",
              " 4.5,\n",
              " 4.1,\n",
              " 3.6,\n",
              " 3.5,\n",
              " 3.9,\n",
              " 3.9,\n",
              " 3.9,\n",
              " 4.3,\n",
              " 3.8,\n",
              " 3.9,\n",
              " 4.2,\n",
              " 3.6,\n",
              " 4.1,\n",
              " 3.8,\n",
              " 3.3,\n",
              " 3.9,\n",
              " 3.4,\n",
              " 3.9,\n",
              " 3.0,\n",
              " 3.8,\n",
              " 3.8,\n",
              " 3.6,\n",
              " 4.1,\n",
              " 4.2,\n",
              " 3.5,\n",
              " 2.5,\n",
              " 4.1,\n",
              " 4.1,\n",
              " 3.9,\n",
              " 3.6,\n",
              " 3.6,\n",
              " 4.2,\n",
              " 3.2,\n",
              " 3.1,\n",
              " 3.1,\n",
              " 4.3,\n",
              " 3.9,\n",
              " 4.3,\n",
              " 3.8,\n",
              " 3.9,\n",
              " 3.0,\n",
              " 3.6,\n",
              " 2.8,\n",
              " 3.6,\n",
              " 4.4,\n",
              " 3.8,\n",
              " 3.8,\n",
              " 3.6,\n",
              " 3.8,\n",
              " 3.9,\n",
              " 3.6,\n",
              " 3.7,\n",
              " 3.6,\n",
              " 3.8,\n",
              " 3.4,\n",
              " 3.6,\n",
              " 3.3,\n",
              " 3.5,\n",
              " 3.4,\n",
              " 3.7,\n",
              " 2.9,\n",
              " 3.7,\n",
              " 3.5,\n",
              " 3.7,\n",
              " 2.9,\n",
              " 4.1,\n",
              " 3.2,\n",
              " 3.8,\n",
              " 3.8,\n",
              " 3.8,\n",
              " 3.8,\n",
              " 3.8,\n",
              " 3.5,\n",
              " 3.7,\n",
              " 4.0,\n",
              " 3.6,\n",
              " 3.9,\n",
              " 2.5,\n",
              " 3.4,\n",
              " 3.2,\n",
              " 3.6,\n",
              " 3.9,\n",
              " 3.8,\n",
              " 4.1,\n",
              " 3.2,\n",
              " 3.6,\n",
              " 3.7,\n",
              " 3.9,\n",
              " 3.9,\n",
              " 4.1,\n",
              " 3.8,\n",
              " 3.1,\n",
              " 3.7,\n",
              " 4.2,\n",
              " 4.0,\n",
              " 4.3,\n",
              " 3.7,\n",
              " 3.1,\n",
              " 3.9,\n",
              " 3.3,\n",
              " 4.3,\n",
              " 2.6,\n",
              " 3.9,\n",
              " 3.7,\n",
              " 4.2,\n",
              " 3.9,\n",
              " 3.8,\n",
              " 4.2,\n",
              " 3.9,\n",
              " 4.1,\n",
              " 3.6,\n",
              " 3.6,\n",
              " 3.6,\n",
              " 4.0,\n",
              " 3.7,\n",
              " 4.1,\n",
              " 4.0,\n",
              " 2.6,\n",
              " 3.4,\n",
              " 3.9,\n",
              " 2.8,\n",
              " 3.9,\n",
              " 3.8,\n",
              " 4.0,\n",
              " 4.2,\n",
              " 4.0,\n",
              " 3.5,\n",
              " 3.0,\n",
              " 3.7,\n",
              " 3.6,\n",
              " 3.1,\n",
              " 3.9,\n",
              " 3.9,\n",
              " 3.6,\n",
              " 3.4,\n",
              " 3.8,\n",
              " 3.6,\n",
              " 3.8,\n",
              " 3.5,\n",
              " 3.8,\n",
              " 3.2,\n",
              " 3.7,\n",
              " 3.8,\n",
              " 4.1,\n",
              " 4.1,\n",
              " 3.8,\n",
              " 3.4,\n",
              " 3.7,\n",
              " 4.0,\n",
              " 3.1,\n",
              " 3.5,\n",
              " 3.8,\n",
              " 3.7,\n",
              " 3.0,\n",
              " 3.8,\n",
              " 3.7,\n",
              " 3.6,\n",
              " 3.2,\n",
              " 3.7,\n",
              " 3.4,\n",
              " 3.6,\n",
              " 3.6,\n",
              " 3.0,\n",
              " 3.7,\n",
              " 3.5,\n",
              " 3.6,\n",
              " 4.1,\n",
              " 3.5,\n",
              " 3.7,\n",
              " 3.7,\n",
              " 3.8,\n",
              " 2.7,\n",
              " 3.6,\n",
              " 3.2,\n",
              " 3.8,\n",
              " 3.7,\n",
              " 3.6,\n",
              " 3.1,\n",
              " 3.0,\n",
              " 3.4,\n",
              " 3.0,\n",
              " 2.9,\n",
              " 3.9,\n",
              " 4.1,\n",
              " 3.5,\n",
              " 3.4,\n",
              " 3.6,\n",
              " 3.5,\n",
              " 3.8,\n",
              " 3.8,\n",
              " 3.7,\n",
              " 3.8,\n",
              " 3.7,\n",
              " 3.3,\n",
              " 3.4,\n",
              " 3.5,\n",
              " 3.3,\n",
              " 3.4,\n",
              " 3.8,\n",
              " 3.7,\n",
              " 2.9,\n",
              " 3.4,\n",
              " 3.6,\n",
              " 4.0,\n",
              " 3.9,\n",
              " 4.1,\n",
              " 3.7,\n",
              " 3.9,\n",
              " 3.9,\n",
              " 4.0,\n",
              " 3.6,\n",
              " 3.7,\n",
              " 4.0,\n",
              " 3.2,\n",
              " 3.5,\n",
              " 4.0,\n",
              " 3.9,\n",
              " 3.5,\n",
              " 3.5,\n",
              " 3.8,\n",
              " 3.7,\n",
              " 3.8,\n",
              " 4.1,\n",
              " 4.1,\n",
              " 3.7,\n",
              " 3.0,\n",
              " 3.2,\n",
              " 3.8,\n",
              " 4.0,\n",
              " 3.7,\n",
              " 3.1,\n",
              " 3.0,\n",
              " 3.7,\n",
              " 3.7,\n",
              " 3.3,\n",
              " 3.3,\n",
              " 3.8,\n",
              " 3.4,\n",
              " 3.5,\n",
              " 3.5,\n",
              " 3.2,\n",
              " 3.1,\n",
              " 3.6,\n",
              " 3.3,\n",
              " 3.4,\n",
              " 3.9,\n",
              " 3.7,\n",
              " 2.8,\n",
              " 3.3,\n",
              " 3.5,\n",
              " 3.4,\n",
              " 3.6,\n",
              " 3.3,\n",
              " 3.4,\n",
              " 4.1,\n",
              " 4.2,\n",
              " 4.2,\n",
              " 4.0,\n",
              " 3.9,\n",
              " 3.5,\n",
              " 4.2,\n",
              " 3.4,\n",
              " 4.2,\n",
              " 3.3,\n",
              " 3.8,\n",
              " 3.7,\n",
              " 4.1,\n",
              " 3.9,\n",
              " 3.8,\n",
              " 4.0,\n",
              " 4.1,\n",
              " 3.3,\n",
              " 3.6,\n",
              " 3.4,\n",
              " 4.3,\n",
              " 3.8,\n",
              " 4.2,\n",
              " 4.0,\n",
              " 4.1,\n",
              " 3.8,\n",
              " 3.9,\n",
              " 3.1,\n",
              " 3.9,\n",
              " 4.2,\n",
              " 3.2,\n",
              " 3.8,\n",
              " 4.3,\n",
              " 4.4,\n",
              " 3.7,\n",
              " 3.9,\n",
              " 3.7,\n",
              " 3.8,\n",
              " 4.0,\n",
              " 3.8,\n",
              " 3.9,\n",
              " 3.8,\n",
              " 3.7,\n",
              " 3.9,\n",
              " 3.8,\n",
              " 3.8,\n",
              " 4.3,\n",
              " 3.5,\n",
              " 4.0,\n",
              " 3.2,\n",
              " 3.7,\n",
              " 3.5,\n",
              " 3.2,\n",
              " 3.6,\n",
              " 3.8,\n",
              " 3.6,\n",
              " 3.8,\n",
              " 3.2,\n",
              " 3.5,\n",
              " 3.4,\n",
              " 3.4,\n",
              " 2.9,\n",
              " 3.2,\n",
              " 3.9,\n",
              " 3.9,\n",
              " 4.0,\n",
              " 3.7,\n",
              " 4.0,\n",
              " 4.0,\n",
              " 3.6,\n",
              " 3.6,\n",
              " 3.8,\n",
              " 3.6,\n",
              " 3.3,\n",
              " 3.3,\n",
              " 4.0,\n",
              " 2.7,\n",
              " 3.7,\n",
              " 3.5,\n",
              " 3.6,\n",
              " 3.9,\n",
              " 4.0,\n",
              " 4.2,\n",
              " 4.6,\n",
              " 4.2,\n",
              " 4.1,\n",
              " 4.2,\n",
              " 3.8,\n",
              " 4.1,\n",
              " 4.0,\n",
              " 4.1,\n",
              " 4.2,\n",
              " 4.1,\n",
              " 4.2,\n",
              " 4.2,\n",
              " 4.2,\n",
              " 4.0,\n",
              " 4.2,\n",
              " 4.0,\n",
              " 4.0,\n",
              " 3.9,\n",
              " 3.9,\n",
              " 3.8,\n",
              " 3.8,\n",
              " 3.9,\n",
              " 3.6,\n",
              " 3.7,\n",
              " 3.7,\n",
              " 3.9,\n",
              " 3.8,\n",
              " 3.9,\n",
              " 3.8,\n",
              " 2.5,\n",
              " 3.1,\n",
              " 3.7,\n",
              " 3.0,\n",
              " 3.8,\n",
              " 3.5,\n",
              " 3.8,\n",
              " 3.1,\n",
              " 3.6,\n",
              " 3.3,\n",
              " 3.6,\n",
              " 2.6,\n",
              " 3.6,\n",
              " 3.4,\n",
              " 3.7,\n",
              " 3.8,\n",
              " 3.5,\n",
              " 3.8,\n",
              " 3.4,\n",
              " 3.1,\n",
              " 3.5,\n",
              " 3.6,\n",
              " 3.7,\n",
              " 3.2,\n",
              " 3.0,\n",
              " 3.5,\n",
              " 3.5,\n",
              " 2.7,\n",
              " 2.8,\n",
              " 3.2,\n",
              " 3.4,\n",
              " 3.3,\n",
              " 3.5,\n",
              " 3.7,\n",
              " 3.9,\n",
              " 4.7,\n",
              " 4.3,\n",
              " 3.7,\n",
              " 4.0,\n",
              " 3.8,\n",
              " 3.6,\n",
              " 3.9,\n",
              " 3.8,\n",
              " 3.9,\n",
              " 4.4,\n",
              " 3.6,\n",
              " 3.4,\n",
              " 3.8,\n",
              " 3.8,\n",
              " 3.6,\n",
              " 3.8,\n",
              " 3.8,\n",
              " 3.5,\n",
              " 3.8,\n",
              " 3.8,\n",
              " 3.7,\n",
              " 3.3,\n",
              " 4.1,\n",
              " 2.8,\n",
              " 4.1,\n",
              " 3.8,\n",
              " 3.7,\n",
              " 3.6,\n",
              " 3.7,\n",
              " 3.8,\n",
              " 4.2,\n",
              " 3.9,\n",
              " 3.5,\n",
              " 3.4,\n",
              " 3.6,\n",
              " 3.4,\n",
              " 3.9,\n",
              " 3.8,\n",
              " 3.7,\n",
              " 3.6,\n",
              " 3.7,\n",
              " 3.8,\n",
              " 3.9,\n",
              " 3.6,\n",
              " 3.6,\n",
              " 3.5,\n",
              " 3.4,\n",
              " 3.5,\n",
              " 3.8,\n",
              " 3.0,\n",
              " 3.5,\n",
              " 4.0,\n",
              " 3.0,\n",
              " 3.4,\n",
              " 3.5,\n",
              " 3.5,\n",
              " 4.2,\n",
              " 3.3,\n",
              " 4.1,\n",
              " 3.8,\n",
              " 3.7,\n",
              " 3.4,\n",
              " 3.3,\n",
              " 3.5,\n",
              " 2.7,\n",
              " 3.0,\n",
              " 3.7,\n",
              " 3.7,\n",
              " 2.8,\n",
              " 3.3,\n",
              " 3.5,\n",
              " 3.9,\n",
              " 3.4,\n",
              " 3.5,\n",
              " 3.4,\n",
              " 3.4,\n",
              " 3.2,\n",
              " 3.6,\n",
              " 3.1,\n",
              " 3.8,\n",
              " 3.1,\n",
              " 3.2,\n",
              " 3.3,\n",
              " 3.2,\n",
              " 3.1,\n",
              " 3.3,\n",
              " 3.0,\n",
              " 3.1,\n",
              " 3.3,\n",
              " 3.7,\n",
              " 3.6,\n",
              " 3.0,\n",
              " 3.4,\n",
              " 3.4,\n",
              " 3.6,\n",
              " 4.0,\n",
              " 3.0,\n",
              " 2.9,\n",
              " 3.8,\n",
              " 4.2,\n",
              " 3.9,\n",
              " 3.8,\n",
              " 4.4,\n",
              " 3.9,\n",
              " 3.8,\n",
              " 4.1,\n",
              " 3.8,\n",
              " 3.8,\n",
              " 3.9,\n",
              " 4.1,\n",
              " 3.8,\n",
              " 3.8,\n",
              " 2.7,\n",
              " 3.9,\n",
              " 3.3,\n",
              " 3.9,\n",
              " 4.2,\n",
              " 3.9,\n",
              " 4.0,\n",
              " 4.2,\n",
              " 3.4,\n",
              " 3.7,\n",
              " 3.8,\n",
              " 3.9,\n",
              " 3.7,\n",
              " 3.9,\n",
              " 4.1,\n",
              " 3.8,\n",
              " 3.9,\n",
              " 3.5,\n",
              " 4.1,\n",
              " 3.7,\n",
              " 3.8,\n",
              " 4.3,\n",
              " 4.2,\n",
              " 4.1,\n",
              " 3.7,\n",
              " 4.0,\n",
              " 3.6,\n",
              " 3.8,\n",
              " 3.9,\n",
              " 3.6,\n",
              " 3.4,\n",
              " 3.9,\n",
              " 4.0,\n",
              " 3.7,\n",
              " 2.9,\n",
              " 3.3,\n",
              " 3.6,\n",
              " 3.9,\n",
              " 3.8,\n",
              " 3.8,\n",
              " 4.0,\n",
              " 3.6,\n",
              " 3.8,\n",
              " 3.6,\n",
              " 3.3,\n",
              " 3.2,\n",
              " 3.6,\n",
              " 3.8,\n",
              " 3.7,\n",
              " 3.8,\n",
              " 3.7,\n",
              " 3.7,\n",
              " 3.3,\n",
              " 3.2,\n",
              " 3.9,\n",
              " 3.7,\n",
              " 3.2,\n",
              " 3.6,\n",
              " 3.2,\n",
              " 3.2,\n",
              " 3.6,\n",
              " 3.8,\n",
              " 4.1,\n",
              " 3.7,\n",
              " 3.3,\n",
              " 3.1,\n",
              " 3.0,\n",
              " 2.7,\n",
              " 4.4,\n",
              " 4.2,\n",
              " 4.3,\n",
              " 3.3,\n",
              " 3.1,\n",
              " 4.7,\n",
              " 4.3,\n",
              " 4.1,\n",
              " 4.1,\n",
              " 3.9,\n",
              " 3.8,\n",
              " 4.0,\n",
              " 4.0,\n",
              " 3.3,\n",
              " 2.7,\n",
              " 3.0,\n",
              " 3.8,\n",
              " 4.0,\n",
              " 3.9,\n",
              " 3.7,\n",
              " 3.7,\n",
              " 3.9,\n",
              " 3.9,\n",
              " 3.9,\n",
              " 3.6,\n",
              " 3.8,\n",
              " 3.9,\n",
              " 3.6,\n",
              " 3.9,\n",
              " 3.6,\n",
              " 2.7,\n",
              " 3.6,\n",
              " 3.3,\n",
              " 3.7,\n",
              " 4.1,\n",
              " 4.0,\n",
              " 3.9,\n",
              " 4.1,\n",
              " 4.1,\n",
              " 4.4,\n",
              " 3.7,\n",
              " 3.7,\n",
              " 3.7,\n",
              " 3.6,\n",
              " 2.6,\n",
              " 3.4,\n",
              " 3.4,\n",
              " 3.7,\n",
              " 2.7,\n",
              " 3.2,\n",
              " 4.5,\n",
              " 3.7,\n",
              " 3.8,\n",
              " 3.6,\n",
              " 3.8,\n",
              " 4.1,\n",
              " 4.0,\n",
              " 3.4,\n",
              " 3.6,\n",
              " 3.7,\n",
              " 2.9,\n",
              " 4.5,\n",
              " 4.1,\n",
              " 3.9,\n",
              " 3.6,\n",
              " 4.1,\n",
              " 3.8,\n",
              " 3.3,\n",
              " 4.0,\n",
              " 4.1,\n",
              " 4.0,\n",
              " 4.1,\n",
              " 3.9,\n",
              " 4.0,\n",
              " 3.6,\n",
              " 2.9,\n",
              " 3.1,\n",
              " 4.0,\n",
              " 3.9,\n",
              " 3.9,\n",
              " 3.9,\n",
              " 3.3,\n",
              " 4.1,\n",
              " 3.3,\n",
              " 3.6,\n",
              " 3.9,\n",
              " 3.9,\n",
              " 4.4,\n",
              " 2.6,\n",
              " 3.9,\n",
              " 3.4,\n",
              " 4.2,\n",
              " 3.7,\n",
              " 4.0,\n",
              " 3.3,\n",
              " 3.9,\n",
              " 3.4,\n",
              " 3.8,\n",
              " 3.6,\n",
              " 3.2,\n",
              " 3.6,\n",
              " 2.7,\n",
              " 3.4,\n",
              " 3.6,\n",
              " 3.5,\n",
              " 3.9,\n",
              " 3.7,\n",
              " 4.1,\n",
              " 3.5,\n",
              " 3.1,\n",
              " 3.2,\n",
              " 3.9,\n",
              " 3.7,\n",
              " 3.6,\n",
              " 2.9,\n",
              " 3.4,\n",
              " 4.0,\n",
              " 3.4,\n",
              " 3.8,\n",
              " 4.0,\n",
              " 4.0,\n",
              " 3.9,\n",
              " 4.0,\n",
              " 3.7,\n",
              " 3.5,\n",
              " 4.2,\n",
              " 3.3,\n",
              " 3.4,\n",
              " 3.7,\n",
              " 3.6,\n",
              " 2.9,\n",
              " 3.5,\n",
              " 3.8,\n",
              " 4.0,\n",
              " 4.0,\n",
              " 3.9,\n",
              " 3.5,\n",
              " 3.9,\n",
              " 3.8,\n",
              " 4.4,\n",
              " 3.8,\n",
              " 3.2,\n",
              " 4.0,\n",
              " 3.5,\n",
              " 3.6,\n",
              " 3.5,\n",
              " 3.0,\n",
              " 3.9,\n",
              " 3.7,\n",
              " 4.2,\n",
              " 3.9,\n",
              " 3.3,\n",
              " 4.1,\n",
              " 3.6,\n",
              " 3.2,\n",
              " 3.9,\n",
              " 3.7,\n",
              " 3.7,\n",
              " 3.6,\n",
              " 4.6,\n",
              " 3.9,\n",
              " 3.9,\n",
              " 3.2,\n",
              " 3.3,\n",
              " 3.9,\n",
              " 3.9,\n",
              " 3.6,\n",
              " 3.5,\n",
              " 3.5,\n",
              " 3.9,\n",
              " 4.1,\n",
              " 3.8,\n",
              " 3.7,\n",
              " 3.9,\n",
              " 3.9,\n",
              " 4.0,\n",
              " 4.1,\n",
              " 3.7,\n",
              " 3.2,\n",
              " 4.1,\n",
              " 3.8,\n",
              " 3.7,\n",
              " 3.9,\n",
              " 3.0,\n",
              " 4.0,\n",
              " 3.9,\n",
              " 3.9,\n",
              " 3.9,\n",
              " 4.1,\n",
              " 3.9,\n",
              " 4.1,\n",
              " 2.5,\n",
              " 3.9,\n",
              " 4.2,\n",
              " 3.7,\n",
              " 3.8,\n",
              " 4.0,\n",
              " 3.4,\n",
              " 3.8,\n",
              " 3.1,\n",
              " 3.8,\n",
              " 3.1,\n",
              " 4.0,\n",
              " 3.4,\n",
              " 3.6,\n",
              " 3.5,\n",
              " 3.9,\n",
              " 4.2,\n",
              " 3.1,\n",
              " 3.7,\n",
              " 3.7,\n",
              " 3.1,\n",
              " 3.8,\n",
              " 4.1,\n",
              " 3.4,\n",
              " 3.1,\n",
              " 3.5,\n",
              " 3.7,\n",
              " 3.7,\n",
              " 4.0,\n",
              " 4.2,\n",
              " 3.9,\n",
              " 3.9,\n",
              " 3.7,\n",
              " 3.6,\n",
              " 3.6,\n",
              " 4.0,\n",
              " 3.0,\n",
              " 3.2,\n",
              " 4.0,\n",
              " 3.2,\n",
              " 4.0,\n",
              " 3.7,\n",
              " 3.1,\n",
              " 3.7,\n",
              " 3.9,\n",
              " 3.7,\n",
              " 3.4,\n",
              " 3.8,\n",
              " 4.0,\n",
              " 3.0,\n",
              " 3.8,\n",
              " 3.7,\n",
              " 3.6,\n",
              " 4.0,\n",
              " 3.7,\n",
              " 3.8,\n",
              " 3.9,\n",
              " 2.6,\n",
              " 3.4,\n",
              " 3.7,\n",
              " 3.8,\n",
              " 3.6,\n",
              " 4.2,\n",
              " 3.6,\n",
              " 3.1,\n",
              " 3.1,\n",
              " 4.0,\n",
              " 4.1,\n",
              " 3.3,\n",
              " 3.5,\n",
              " 4.4,\n",
              " 4.0,\n",
              " 4.2,\n",
              " 3.7,\n",
              " 3.8,\n",
              " 3.5,\n",
              " 3.7,\n",
              " 4.4,\n",
              " 4.0,\n",
              " 2.9,\n",
              " 4.0,\n",
              " ...]"
            ]
          },
          "metadata": {
            "tags": []
          },
          "execution_count": 125
        }
      ]
    },
    {
      "cell_type": "code",
      "metadata": {
        "colab": {
          "base_uri": "https://localhost:8080/",
          "height": 593
        },
        "id": "KbL5RLPdD6Sy",
        "outputId": "cb7c7c41-12be-429e-8cfc-1ee5aaeb5000"
      },
      "source": [
        "df['ratings']=r\n",
        "df.head()"
      ],
      "execution_count": 126,
      "outputs": [
        {
          "output_type": "execute_result",
          "data": {
            "text/html": [
              "<div>\n",
              "<style scoped>\n",
              "    .dataframe tbody tr th:only-of-type {\n",
              "        vertical-align: middle;\n",
              "    }\n",
              "\n",
              "    .dataframe tbody tr th {\n",
              "        vertical-align: top;\n",
              "    }\n",
              "\n",
              "    .dataframe thead th {\n",
              "        text-align: right;\n",
              "    }\n",
              "</style>\n",
              "<table border=\"1\" class=\"dataframe\">\n",
              "  <thead>\n",
              "    <tr style=\"text-align: right;\">\n",
              "      <th></th>\n",
              "      <th>url</th>\n",
              "      <th>address</th>\n",
              "      <th>name</th>\n",
              "      <th>online_order</th>\n",
              "      <th>book_table</th>\n",
              "      <th>rate</th>\n",
              "      <th>votes</th>\n",
              "      <th>phone</th>\n",
              "      <th>location</th>\n",
              "      <th>rest_type</th>\n",
              "      <th>dish_liked</th>\n",
              "      <th>cuisines</th>\n",
              "      <th>approx_cost(for two people)</th>\n",
              "      <th>reviews_list</th>\n",
              "      <th>menu_item</th>\n",
              "      <th>listed_in(type)</th>\n",
              "      <th>listed_in(city)</th>\n",
              "      <th>ratings</th>\n",
              "    </tr>\n",
              "  </thead>\n",
              "  <tbody>\n",
              "    <tr>\n",
              "      <th>0</th>\n",
              "      <td>https://www.zomato.com/bangalore/jalsa-banasha...</td>\n",
              "      <td>942, 21st Main Road, 2nd Stage, Banashankari, ...</td>\n",
              "      <td>Jalsa</td>\n",
              "      <td>Yes</td>\n",
              "      <td>Yes</td>\n",
              "      <td>4.1/5</td>\n",
              "      <td>775</td>\n",
              "      <td>080 42297555\\r\\n+91 9743772233</td>\n",
              "      <td>Banashankari</td>\n",
              "      <td>Casual Dining</td>\n",
              "      <td>Pasta, Lunch Buffet, Masala Papad, Paneer Laja...</td>\n",
              "      <td>North Indian, Mughlai, Chinese</td>\n",
              "      <td>800</td>\n",
              "      <td>[('Rated 4.0', 'RATED\\n  A beautiful place to ...</td>\n",
              "      <td>[]</td>\n",
              "      <td>Buffet</td>\n",
              "      <td>Banashankari</td>\n",
              "      <td>4.1</td>\n",
              "    </tr>\n",
              "    <tr>\n",
              "      <th>1</th>\n",
              "      <td>https://www.zomato.com/bangalore/spice-elephan...</td>\n",
              "      <td>2nd Floor, 80 Feet Road, Near Big Bazaar, 6th ...</td>\n",
              "      <td>Spice Elephant</td>\n",
              "      <td>Yes</td>\n",
              "      <td>No</td>\n",
              "      <td>4.1/5</td>\n",
              "      <td>787</td>\n",
              "      <td>080 41714161</td>\n",
              "      <td>Banashankari</td>\n",
              "      <td>Casual Dining</td>\n",
              "      <td>Momos, Lunch Buffet, Chocolate Nirvana, Thai G...</td>\n",
              "      <td>Chinese, North Indian, Thai</td>\n",
              "      <td>800</td>\n",
              "      <td>[('Rated 4.0', 'RATED\\n  Had been here for din...</td>\n",
              "      <td>[]</td>\n",
              "      <td>Buffet</td>\n",
              "      <td>Banashankari</td>\n",
              "      <td>4.1</td>\n",
              "    </tr>\n",
              "    <tr>\n",
              "      <th>2</th>\n",
              "      <td>https://www.zomato.com/SanchurroBangalore?cont...</td>\n",
              "      <td>1112, Next to KIMS Medical College, 17th Cross...</td>\n",
              "      <td>San Churro Cafe</td>\n",
              "      <td>Yes</td>\n",
              "      <td>No</td>\n",
              "      <td>3.8/5</td>\n",
              "      <td>918</td>\n",
              "      <td>+91 9663487993</td>\n",
              "      <td>Banashankari</td>\n",
              "      <td>Cafe, Casual Dining</td>\n",
              "      <td>Churros, Cannelloni, Minestrone Soup, Hot Choc...</td>\n",
              "      <td>Cafe, Mexican, Italian</td>\n",
              "      <td>800</td>\n",
              "      <td>[('Rated 3.0', \"RATED\\n  Ambience is not that ...</td>\n",
              "      <td>[]</td>\n",
              "      <td>Buffet</td>\n",
              "      <td>Banashankari</td>\n",
              "      <td>3.8</td>\n",
              "    </tr>\n",
              "    <tr>\n",
              "      <th>3</th>\n",
              "      <td>https://www.zomato.com/bangalore/addhuri-udupi...</td>\n",
              "      <td>1st Floor, Annakuteera, 3rd Stage, Banashankar...</td>\n",
              "      <td>Addhuri Udupi Bhojana</td>\n",
              "      <td>No</td>\n",
              "      <td>No</td>\n",
              "      <td>3.7/5</td>\n",
              "      <td>88</td>\n",
              "      <td>+91 9620009302</td>\n",
              "      <td>Banashankari</td>\n",
              "      <td>Quick Bites</td>\n",
              "      <td>Masala Dosa</td>\n",
              "      <td>South Indian, North Indian</td>\n",
              "      <td>300</td>\n",
              "      <td>[('Rated 4.0', \"RATED\\n  Great food and proper...</td>\n",
              "      <td>[]</td>\n",
              "      <td>Buffet</td>\n",
              "      <td>Banashankari</td>\n",
              "      <td>3.7</td>\n",
              "    </tr>\n",
              "    <tr>\n",
              "      <th>4</th>\n",
              "      <td>https://www.zomato.com/bangalore/grand-village...</td>\n",
              "      <td>10, 3rd Floor, Lakshmi Associates, Gandhi Baza...</td>\n",
              "      <td>Grand Village</td>\n",
              "      <td>No</td>\n",
              "      <td>No</td>\n",
              "      <td>3.8/5</td>\n",
              "      <td>166</td>\n",
              "      <td>+91 8026612447\\r\\n+91 9901210005</td>\n",
              "      <td>Basavanagudi</td>\n",
              "      <td>Casual Dining</td>\n",
              "      <td>Panipuri, Gol Gappe</td>\n",
              "      <td>North Indian, Rajasthani</td>\n",
              "      <td>600</td>\n",
              "      <td>[('Rated 4.0', 'RATED\\n  Very good restaurant ...</td>\n",
              "      <td>[]</td>\n",
              "      <td>Buffet</td>\n",
              "      <td>Banashankari</td>\n",
              "      <td>3.8</td>\n",
              "    </tr>\n",
              "  </tbody>\n",
              "</table>\n",
              "</div>"
            ],
            "text/plain": [
              "                                                 url  ... ratings\n",
              "0  https://www.zomato.com/bangalore/jalsa-banasha...  ...     4.1\n",
              "1  https://www.zomato.com/bangalore/spice-elephan...  ...     4.1\n",
              "2  https://www.zomato.com/SanchurroBangalore?cont...  ...     3.8\n",
              "3  https://www.zomato.com/bangalore/addhuri-udupi...  ...     3.7\n",
              "4  https://www.zomato.com/bangalore/grand-village...  ...     3.8\n",
              "\n",
              "[5 rows x 18 columns]"
            ]
          },
          "metadata": {
            "tags": []
          },
          "execution_count": 126
        }
      ]
    },
    {
      "cell_type": "code",
      "metadata": {
        "id": "b2Ei9TMSVhea"
      },
      "source": [
        "rating_df=df.groupby(by='location').mean()"
      ],
      "execution_count": 128,
      "outputs": []
    },
    {
      "cell_type": "code",
      "metadata": {
        "id": "wpFarcLZVhrV",
        "colab": {
          "base_uri": "https://localhost:8080/",
          "height": 203
        },
        "outputId": "187778f4-5dab-4334-acd8-663e4bf3cc0f"
      },
      "source": [
        "merged_df.head()"
      ],
      "execution_count": 130,
      "outputs": [
        {
          "output_type": "execute_result",
          "data": {
            "text/html": [
              "<div>\n",
              "<style scoped>\n",
              "    .dataframe tbody tr th:only-of-type {\n",
              "        vertical-align: middle;\n",
              "    }\n",
              "\n",
              "    .dataframe tbody tr th {\n",
              "        vertical-align: top;\n",
              "    }\n",
              "\n",
              "    .dataframe thead th {\n",
              "        text-align: right;\n",
              "    }\n",
              "</style>\n",
              "<table border=\"1\" class=\"dataframe\">\n",
              "  <thead>\n",
              "    <tr style=\"text-align: right;\">\n",
              "      <th></th>\n",
              "      <th>names</th>\n",
              "      <th>lat</th>\n",
              "      <th>lon</th>\n",
              "      <th>counts</th>\n",
              "    </tr>\n",
              "  </thead>\n",
              "  <tbody>\n",
              "    <tr>\n",
              "      <th>0</th>\n",
              "      <td>BTM</td>\n",
              "      <td>45.954851</td>\n",
              "      <td>-112.496595</td>\n",
              "      <td>5124</td>\n",
              "    </tr>\n",
              "    <tr>\n",
              "      <th>1</th>\n",
              "      <td>HSR</td>\n",
              "      <td>18.147500</td>\n",
              "      <td>41.538889</td>\n",
              "      <td>2523</td>\n",
              "    </tr>\n",
              "    <tr>\n",
              "      <th>2</th>\n",
              "      <td>Koramangala 5th Block</td>\n",
              "      <td>12.934377</td>\n",
              "      <td>77.628415</td>\n",
              "      <td>2504</td>\n",
              "    </tr>\n",
              "    <tr>\n",
              "      <th>3</th>\n",
              "      <td>JP Nagar</td>\n",
              "      <td>12.265594</td>\n",
              "      <td>76.646540</td>\n",
              "      <td>2235</td>\n",
              "    </tr>\n",
              "    <tr>\n",
              "      <th>4</th>\n",
              "      <td>Whitefield</td>\n",
              "      <td>44.373058</td>\n",
              "      <td>-71.611858</td>\n",
              "      <td>2144</td>\n",
              "    </tr>\n",
              "  </tbody>\n",
              "</table>\n",
              "</div>"
            ],
            "text/plain": [
              "                   names        lat         lon  counts\n",
              "0                    BTM  45.954851 -112.496595    5124\n",
              "1                    HSR  18.147500   41.538889    2523\n",
              "2  Koramangala 5th Block  12.934377   77.628415    2504\n",
              "3               JP Nagar  12.265594   76.646540    2235\n",
              "4             Whitefield  44.373058  -71.611858    2144"
            ]
          },
          "metadata": {
            "tags": []
          },
          "execution_count": 130
        }
      ]
    },
    {
      "cell_type": "code",
      "metadata": {
        "id": "pIgv3JjZVhua"
      },
      "source": [
        "rating_df.reset_index(inplace=True)"
      ],
      "execution_count": 133,
      "outputs": []
    },
    {
      "cell_type": "code",
      "metadata": {
        "colab": {
          "base_uri": "https://localhost:8080/",
          "height": 203
        },
        "id": "vueKz0AFFHQS",
        "outputId": "5ae8b069-c7d4-4d0b-ee89-74c91db72fb8"
      },
      "source": [
        "rating_df.head()"
      ],
      "execution_count": 134,
      "outputs": [
        {
          "output_type": "execute_result",
          "data": {
            "text/html": [
              "<div>\n",
              "<style scoped>\n",
              "    .dataframe tbody tr th:only-of-type {\n",
              "        vertical-align: middle;\n",
              "    }\n",
              "\n",
              "    .dataframe tbody tr th {\n",
              "        vertical-align: top;\n",
              "    }\n",
              "\n",
              "    .dataframe thead th {\n",
              "        text-align: right;\n",
              "    }\n",
              "</style>\n",
              "<table border=\"1\" class=\"dataframe\">\n",
              "  <thead>\n",
              "    <tr style=\"text-align: right;\">\n",
              "      <th></th>\n",
              "      <th>location</th>\n",
              "      <th>votes</th>\n",
              "      <th>ratings</th>\n",
              "    </tr>\n",
              "  </thead>\n",
              "  <tbody>\n",
              "    <tr>\n",
              "      <th>0</th>\n",
              "      <td>BTM</td>\n",
              "      <td>157.221374</td>\n",
              "      <td>3.573740</td>\n",
              "    </tr>\n",
              "    <tr>\n",
              "      <th>1</th>\n",
              "      <td>Banashankari</td>\n",
              "      <td>217.204301</td>\n",
              "      <td>3.649866</td>\n",
              "    </tr>\n",
              "    <tr>\n",
              "      <th>2</th>\n",
              "      <td>Banaswadi</td>\n",
              "      <td>74.285417</td>\n",
              "      <td>3.496042</td>\n",
              "    </tr>\n",
              "    <tr>\n",
              "      <th>3</th>\n",
              "      <td>Bannerghatta Road</td>\n",
              "      <td>175.355466</td>\n",
              "      <td>3.507449</td>\n",
              "    </tr>\n",
              "    <tr>\n",
              "      <th>4</th>\n",
              "      <td>Basavanagudi</td>\n",
              "      <td>159.519328</td>\n",
              "      <td>3.671092</td>\n",
              "    </tr>\n",
              "  </tbody>\n",
              "</table>\n",
              "</div>"
            ],
            "text/plain": [
              "            location       votes   ratings\n",
              "0                BTM  157.221374  3.573740\n",
              "1       Banashankari  217.204301  3.649866\n",
              "2          Banaswadi   74.285417  3.496042\n",
              "3  Bannerghatta Road  175.355466  3.507449\n",
              "4       Basavanagudi  159.519328  3.671092"
            ]
          },
          "metadata": {
            "tags": []
          },
          "execution_count": 134
        }
      ]
    },
    {
      "cell_type": "code",
      "metadata": {
        "id": "qgayklxJFAGM"
      },
      "source": [
        "rating_df.columns=['names','votes','ratings']"
      ],
      "execution_count": 136,
      "outputs": []
    },
    {
      "cell_type": "code",
      "metadata": {
        "id": "RsBpXAH-VhxW",
        "colab": {
          "base_uri": "https://localhost:8080/",
          "height": 203
        },
        "outputId": "03bbadc1-317b-4558-b557-2209d7634363"
      },
      "source": [
        "merged_df_new=pd.merge(merged_df,rating_df,on='names').sort_values(by=['ratings'],ascending=False)\n",
        "merged_df_new.head()"
      ],
      "execution_count": 138,
      "outputs": [
        {
          "output_type": "execute_result",
          "data": {
            "text/html": [
              "<div>\n",
              "<style scoped>\n",
              "    .dataframe tbody tr th:only-of-type {\n",
              "        vertical-align: middle;\n",
              "    }\n",
              "\n",
              "    .dataframe tbody tr th {\n",
              "        vertical-align: top;\n",
              "    }\n",
              "\n",
              "    .dataframe thead th {\n",
              "        text-align: right;\n",
              "    }\n",
              "</style>\n",
              "<table border=\"1\" class=\"dataframe\">\n",
              "  <thead>\n",
              "    <tr style=\"text-align: right;\">\n",
              "      <th></th>\n",
              "      <th>names</th>\n",
              "      <th>lat</th>\n",
              "      <th>lon</th>\n",
              "      <th>counts</th>\n",
              "      <th>votes</th>\n",
              "      <th>ratings</th>\n",
              "    </tr>\n",
              "  </thead>\n",
              "  <tbody>\n",
              "    <tr>\n",
              "      <th>32</th>\n",
              "      <td>Lavelle Road</td>\n",
              "      <td>40.765284</td>\n",
              "      <td>-76.373824</td>\n",
              "      <td>529</td>\n",
              "      <td>1039.396304</td>\n",
              "      <td>4.142505</td>\n",
              "    </tr>\n",
              "    <tr>\n",
              "      <th>46</th>\n",
              "      <td>Koramangala 3rd Block</td>\n",
              "      <td>12.927187</td>\n",
              "      <td>77.626625</td>\n",
              "      <td>216</td>\n",
              "      <td>655.282723</td>\n",
              "      <td>4.020419</td>\n",
              "    </tr>\n",
              "    <tr>\n",
              "      <th>40</th>\n",
              "      <td>St. Marks Road</td>\n",
              "      <td>51.523078</td>\n",
              "      <td>-0.737442</td>\n",
              "      <td>352</td>\n",
              "      <td>775.798834</td>\n",
              "      <td>4.017201</td>\n",
              "    </tr>\n",
              "    <tr>\n",
              "      <th>2</th>\n",
              "      <td>Koramangala 5th Block</td>\n",
              "      <td>12.934377</td>\n",
              "      <td>77.628415</td>\n",
              "      <td>2504</td>\n",
              "      <td>957.096162</td>\n",
              "      <td>4.005821</td>\n",
              "    </tr>\n",
              "    <tr>\n",
              "      <th>31</th>\n",
              "      <td>Church Street</td>\n",
              "      <td>51.373656</td>\n",
              "      <td>-0.104237</td>\n",
              "      <td>569</td>\n",
              "      <td>1089.705128</td>\n",
              "      <td>3.992125</td>\n",
              "    </tr>\n",
              "  </tbody>\n",
              "</table>\n",
              "</div>"
            ],
            "text/plain": [
              "                    names        lat        lon  counts        votes   ratings\n",
              "32           Lavelle Road  40.765284 -76.373824     529  1039.396304  4.142505\n",
              "46  Koramangala 3rd Block  12.927187  77.626625     216   655.282723  4.020419\n",
              "40         St. Marks Road  51.523078  -0.737442     352   775.798834  4.017201\n",
              "2   Koramangala 5th Block  12.934377  77.628415    2504   957.096162  4.005821\n",
              "31          Church Street  51.373656  -0.104237     569  1089.705128  3.992125"
            ]
          },
          "metadata": {
            "tags": []
          },
          "execution_count": 138
        }
      ]
    },
    {
      "cell_type": "code",
      "metadata": {
        "id": "EOZI2CkmVh0u",
        "colab": {
          "base_uri": "https://localhost:8080/"
        },
        "outputId": "f3eade96-1178-489f-b5bf-ed7c337439d4"
      },
      "source": [
        "merged_df_new.isna().sum()"
      ],
      "execution_count": 139,
      "outputs": [
        {
          "output_type": "execute_result",
          "data": {
            "text/plain": [
              "names      0\n",
              "lat        0\n",
              "lon        0\n",
              "counts     0\n",
              "votes      0\n",
              "ratings    0\n",
              "dtype: int64"
            ]
          },
          "metadata": {
            "tags": []
          },
          "execution_count": 139
        }
      ]
    },
    {
      "cell_type": "code",
      "metadata": {
        "id": "MGUoyQjxVh4g",
        "colab": {
          "base_uri": "https://localhost:8080/",
          "height": 866
        },
        "outputId": "003739b3-7199-412a-929e-e74c075166fc"
      },
      "source": [
        "heated1=merged_df_new[['lat','lon','ratings']]\n",
        "HeatMap(heated1,max_zoom=20).add_to(base)\n",
        "base"
      ],
      "execution_count": 141,
      "outputs": [
        {
          "output_type": "execute_result",
          "data": {
            "text/html": [
              "<div style=\"width:100%;\"><div style=\"position:relative;width:100%;height:0;padding-bottom:60%;\"><span style=\"color:#565656\">Make this Notebook Trusted to load map: File -> Trust Notebook</span><iframe src=\"about:blank\" style=\"position:absolute;width:100%;height:100%;left:0;top:0;border:none !important;\" data-html=%3C%21DOCTYPE%20html%3E%0A%3Chead%3E%20%20%20%20%0A%20%20%20%20%3Cmeta%20http-equiv%3D%22content-type%22%20content%3D%22text/html%3B%20charset%3DUTF-8%22%20/%3E%0A%20%20%20%20%0A%20%20%20%20%20%20%20%20%3Cscript%3E%0A%20%20%20%20%20%20%20%20%20%20%20%20L_NO_TOUCH%20%3D%20false%3B%0A%20%20%20%20%20%20%20%20%20%20%20%20L_DISABLE_3D%20%3D%20false%3B%0A%20%20%20%20%20%20%20%20%3C/script%3E%0A%20%20%20%20%0A%20%20%20%20%3Cscript%20src%3D%22https%3A//cdn.jsdelivr.net/npm/leaflet%401.5.1/dist/leaflet.js%22%3E%3C/script%3E%0A%20%20%20%20%3Cscript%20src%3D%22https%3A//code.jquery.com/jquery-1.12.4.min.js%22%3E%3C/script%3E%0A%20%20%20%20%3Cscript%20src%3D%22https%3A//maxcdn.bootstrapcdn.com/bootstrap/3.2.0/js/bootstrap.min.js%22%3E%3C/script%3E%0A%20%20%20%20%3Cscript%20src%3D%22https%3A//cdnjs.cloudflare.com/ajax/libs/Leaflet.awesome-markers/2.0.2/leaflet.awesome-markers.js%22%3E%3C/script%3E%0A%20%20%20%20%3Clink%20rel%3D%22stylesheet%22%20href%3D%22https%3A//cdn.jsdelivr.net/npm/leaflet%401.5.1/dist/leaflet.css%22/%3E%0A%20%20%20%20%3Clink%20rel%3D%22stylesheet%22%20href%3D%22https%3A//maxcdn.bootstrapcdn.com/bootstrap/3.2.0/css/bootstrap.min.css%22/%3E%0A%20%20%20%20%3Clink%20rel%3D%22stylesheet%22%20href%3D%22https%3A//maxcdn.bootstrapcdn.com/bootstrap/3.2.0/css/bootstrap-theme.min.css%22/%3E%0A%20%20%20%20%3Clink%20rel%3D%22stylesheet%22%20href%3D%22https%3A//maxcdn.bootstrapcdn.com/font-awesome/4.6.3/css/font-awesome.min.css%22/%3E%0A%20%20%20%20%3Clink%20rel%3D%22stylesheet%22%20href%3D%22https%3A//cdnjs.cloudflare.com/ajax/libs/Leaflet.awesome-markers/2.0.2/leaflet.awesome-markers.css%22/%3E%0A%20%20%20%20%3Clink%20rel%3D%22stylesheet%22%20href%3D%22https%3A//rawcdn.githack.com/python-visualization/folium/master/folium/templates/leaflet.awesome.rotate.css%22/%3E%0A%20%20%20%20%3Cstyle%3Ehtml%2C%20body%20%7Bwidth%3A%20100%25%3Bheight%3A%20100%25%3Bmargin%3A%200%3Bpadding%3A%200%3B%7D%3C/style%3E%0A%20%20%20%20%3Cstyle%3E%23map%20%7Bposition%3Aabsolute%3Btop%3A0%3Bbottom%3A0%3Bright%3A0%3Bleft%3A0%3B%7D%3C/style%3E%0A%20%20%20%20%0A%20%20%20%20%20%20%20%20%20%20%20%20%3Cmeta%20name%3D%22viewport%22%20content%3D%22width%3Ddevice-width%2C%0A%20%20%20%20%20%20%20%20%20%20%20%20%20%20%20%20initial-scale%3D1.0%2C%20maximum-scale%3D1.0%2C%20user-scalable%3Dno%22%20/%3E%0A%20%20%20%20%20%20%20%20%20%20%20%20%3Cstyle%3E%0A%20%20%20%20%20%20%20%20%20%20%20%20%20%20%20%20%23map_c274f5f7e6614c69ac89f7f4b1aada0d%20%7B%0A%20%20%20%20%20%20%20%20%20%20%20%20%20%20%20%20%20%20%20%20position%3A%20relative%3B%0A%20%20%20%20%20%20%20%20%20%20%20%20%20%20%20%20%20%20%20%20width%3A%20100.0%25%3B%0A%20%20%20%20%20%20%20%20%20%20%20%20%20%20%20%20%20%20%20%20height%3A%20100.0%25%3B%0A%20%20%20%20%20%20%20%20%20%20%20%20%20%20%20%20%20%20%20%20left%3A%200.0%25%3B%0A%20%20%20%20%20%20%20%20%20%20%20%20%20%20%20%20%20%20%20%20top%3A%200.0%25%3B%0A%20%20%20%20%20%20%20%20%20%20%20%20%20%20%20%20%7D%0A%20%20%20%20%20%20%20%20%20%20%20%20%3C/style%3E%0A%20%20%20%20%20%20%20%20%0A%20%20%20%20%3Cscript%20src%3D%22https%3A//leaflet.github.io/Leaflet.heat/dist/leaflet-heat.js%22%3E%3C/script%3E%0A%20%20%20%20%3Cscript%20src%3D%22https%3A//cdnjs.cloudflare.com/ajax/libs/leaflet.markercluster/1.1.0/leaflet.markercluster.js%22%3E%3C/script%3E%0A%20%20%20%20%3Clink%20rel%3D%22stylesheet%22%20href%3D%22https%3A//cdnjs.cloudflare.com/ajax/libs/leaflet.markercluster/1.1.0/MarkerCluster.css%22/%3E%0A%20%20%20%20%3Clink%20rel%3D%22stylesheet%22%20href%3D%22https%3A//cdnjs.cloudflare.com/ajax/libs/leaflet.markercluster/1.1.0/MarkerCluster.Default.css%22/%3E%0A%3C/head%3E%0A%3Cbody%3E%20%20%20%20%0A%20%20%20%20%0A%20%20%20%20%20%20%20%20%20%20%20%20%3Cdiv%20class%3D%22folium-map%22%20id%3D%22map_c274f5f7e6614c69ac89f7f4b1aada0d%22%20%3E%3C/div%3E%0A%20%20%20%20%20%20%20%20%0A%3C/body%3E%0A%3Cscript%3E%20%20%20%20%0A%20%20%20%20%0A%20%20%20%20%20%20%20%20%20%20%20%20var%20map_c274f5f7e6614c69ac89f7f4b1aada0d%20%3D%20L.map%28%0A%20%20%20%20%20%20%20%20%20%20%20%20%20%20%20%20%22map_c274f5f7e6614c69ac89f7f4b1aada0d%22%2C%0A%20%20%20%20%20%20%20%20%20%20%20%20%20%20%20%20%7B%0A%20%20%20%20%20%20%20%20%20%20%20%20%20%20%20%20%20%20%20%20center%3A%20%5B12.97%2C%2077.59%5D%2C%0A%20%20%20%20%20%20%20%20%20%20%20%20%20%20%20%20%20%20%20%20crs%3A%20L.CRS.EPSG3857%2C%0A%20%20%20%20%20%20%20%20%20%20%20%20%20%20%20%20%20%20%20%20zoom%3A%2012%2C%0A%20%20%20%20%20%20%20%20%20%20%20%20%20%20%20%20%20%20%20%20zoomControl%3A%20true%2C%0A%20%20%20%20%20%20%20%20%20%20%20%20%20%20%20%20%20%20%20%20preferCanvas%3A%20false%2C%0A%20%20%20%20%20%20%20%20%20%20%20%20%20%20%20%20%7D%0A%20%20%20%20%20%20%20%20%20%20%20%20%29%3B%0A%0A%20%20%20%20%20%20%20%20%20%20%20%20%0A%0A%20%20%20%20%20%20%20%20%0A%20%20%20%20%0A%20%20%20%20%20%20%20%20%20%20%20%20var%20tile_layer_311e40cb37ee4ba3adfd5877a9c2d1d6%20%3D%20L.tileLayer%28%0A%20%20%20%20%20%20%20%20%20%20%20%20%20%20%20%20%22https%3A//%7Bs%7D.tile.openstreetmap.org/%7Bz%7D/%7Bx%7D/%7By%7D.png%22%2C%0A%20%20%20%20%20%20%20%20%20%20%20%20%20%20%20%20%7B%22attribution%22%3A%20%22Data%20by%20%5Cu0026copy%3B%20%5Cu003ca%20href%3D%5C%22http%3A//openstreetmap.org%5C%22%5Cu003eOpenStreetMap%5Cu003c/a%5Cu003e%2C%20under%20%5Cu003ca%20href%3D%5C%22http%3A//www.openstreetmap.org/copyright%5C%22%5Cu003eODbL%5Cu003c/a%5Cu003e.%22%2C%20%22detectRetina%22%3A%20false%2C%20%22maxNativeZoom%22%3A%2018%2C%20%22maxZoom%22%3A%2018%2C%20%22minZoom%22%3A%200%2C%20%22noWrap%22%3A%20false%2C%20%22opacity%22%3A%201%2C%20%22subdomains%22%3A%20%22abc%22%2C%20%22tms%22%3A%20false%7D%0A%20%20%20%20%20%20%20%20%20%20%20%20%29.addTo%28map_c274f5f7e6614c69ac89f7f4b1aada0d%29%3B%0A%20%20%20%20%20%20%20%20%0A%20%20%20%20%0A%20%20%20%20%20%20%20%20%20%20%20%20var%20heat_map_d62b8465ebbd4eadbe4a717645461631%20%3D%20L.heatLayer%28%0A%20%20%20%20%20%20%20%20%20%20%20%20%20%20%20%20%5B%5B45.95485055%2C%20-112.49659530324134%2C%205124.0%5D%2C%20%5B18.1475%2C%2041.538889%2C%202523.0%5D%2C%20%5B12.9343774%2C%2077.628415%2C%202504.0%5D%2C%20%5B12.2655944%2C%2076.6465404%2C%202235.0%5D%2C%20%5B44.3730577%2C%20-71.6118577%2C%202144.0%5D%2C%20%5B12.9732913%2C%2077.6404672%2C%202083.0%5D%2C%20%5B27.64392675%2C%2083.05280519687284%2C%201926.0%5D%2C%20%5B12.9552572%2C%2077.6984163%2C%201846.0%5D%2C%20%5B12.9114375%2C%2077.5999754%2C%201630.0%5D%2C%20%5B12.93577245%2C%2077.66676103753434%2C%201286.0%5D%2C%20%5B32.2934563%2C%20-64.78236307254568%2C%201258.0%5D%2C%20%5B14.5395813%2C%20121.070371%2C%201238.0%5D%2C%20%5B44.621621%2C%20-84.790422%2C%201218.0%5D%2C%20%5B12.9302645%2C%2077.6332585%2C%201181.0%5D%2C%20%5B12.9400321%2C%2077.6203272%2C%201156.0%5D%2C%20%5B12.9252241%2C%2077.6367015%2C%201065.0%5D%2C%20%5B12.9778793%2C%2077.6246697%2C%201023.0%5D%2C%20%5B12.93433385%2C%2077.63040639553275%2C%201017.0%5D%2C%20%5B17.1452094%2C%2079.6218777%2C%20918.0%5D%2C%20%5B15.8876779%2C%2075.7046777%2C%20906.0%5D%2C%20%5B13.0221416%2C%2077.6403368%2C%20853.0%5D%2C%20%5B50.7721586%2C%200.09772783661369303%2C%20812.0%5D%2C%20%5B12.996845%2C%2077.6130165%2C%20727.0%5D%2C%20%5B13.0027353%2C%2077.5703253%2C%20725.0%5D%2C%20%5B12.9417261%2C%2077.5755021%2C%20684.0%5D%2C%20%5B-28.5477541%2C%2029.788093%2C%20675.0%5D%2C%20%5B13.0141618%2C%2077.6518539%2C%20664.0%5D%2C%20%5B33.5935063%2C%20-79.0345627%2C%20658.0%5D%2C%20%5B13.0170347%2C%2077.5726006%2C%20649.0%5D%2C%20%5B13.0093455%2C%2077.6377094%2C%20648.0%5D%2C%20%5B12.9882338%2C%2077.554883%2C%20591.0%5D%2C%20%5B51.373656%2C%20-0.1042366%2C%20569.0%5D%2C%20%5B40.7652844%2C%20-76.373824%2C%20529.0%5D%2C%20%5B17.5223139%2C%2078.5804307%2C%20511.0%5D%2C%20%5B18.5322493%2C%2073.8499601124847%2C%20499.0%5D%2C%20%5B12.9624669%2C%2077.6381958%2C%20496.0%5D%2C%20%5B31.89376%2C%20-88.066644%2C%20491.0%5D%2C%20%5B23.769728%2C%2090.3893881%2C%20446.0%5D%2C%20%5B12.945245%2C%2077.6269144%2C%20439.0%5D%2C%20%5B51.5209606%2C%20-0.0751003%2C%20370.0%5D%2C%20%5B51.5230784%2C%20-0.7374421%2C%20352.0%5D%2C%20%5B12.9417812%2C%2077.6160146%2C%20320.0%5D%2C%20%5B12.988721250000001%2C%2077.58516877601824%2C%20295.0%5D%2C%20%5B12.9678074%2C%2077.6568367%2C%20272.0%5D%2C%20%5B12.9489339%2C%2077.5968273%2C%20246.0%5D%2C%20%5B12.9089453%2C%2077.6239038%2C%20238.0%5D%2C%20%5B12.9271867%2C%2077.6266252%2C%20216.0%5D%2C%20%5B12.9081487%2C%2077.5553179%2C%20195.0%5D%2C%20%5B12.973936%2C%2077.6509982%2C%20194.0%5D%2C%20%5B12.9932236%2C%2077.5391579%2C%20191.0%5D%2C%20%5B13.2227%2C%2078.5541977%2C%20187.0%5D%2C%20%5B12.9931876%2C%2077.5753419%2C%20165.0%5D%2C%20%5B13.0258087%2C%2077.6305067%2C%20161.0%5D%2C%20%5B1.2847055%2C%20103.84320655721689%2C%20155.0%5D%2C%20%5B13.0358698%2C%2077.6323597%2C%20153.0%5D%2C%20%5B-34.0048654%2C%2022.4414125%2C%20151.0%5D%2C%20%5B22.3083138%2C%2073.1615488%2C%20139.0%5D%2C%20%5B39.76880625%2C%20-86.15345077251979%2C%20126.0%5D%2C%20%5B13.02383%2C%2077.5529215%2C%20119.0%5D%2C%20%5B12.9414662%2C%2077.7470942%2C%20117.0%5D%2C%20%5B12.967576%2C%2077.7150877%2C%20113.0%5D%2C%20%5B13.0646907%2C%2077.49626895712257%2C%20107.0%5D%2C%20%5B12.9243509%2C%2077.6255562%2C%20102.0%5D%2C%20%5B12.7405867%2C%2077.8200481%2C%20102.0%5D%2C%20%5B12.9846713%2C%2077.6790908%2C%20101.0%5D%2C%20%5B17.2510682%2C%2080.1651978%2C%2090.0%5D%2C%20%5B23.1883478%2C%2079.9092722%2C%2080.0%5D%2C%20%5B13.0227204%2C%2077.595715%2C%2080.0%5D%2C%20%5B23.1485712%2C%2081.6048241%2C%2076.0%5D%2C%20%5B15.8782951%2C%2074.5084834%2C%2063.0%5D%2C%20%5B13.0621474%2C%2077.58006135480495%2C%2053.0%5D%2C%20%5B13.2923988%2C%2077.7519261%2C%2048.0%5D%2C%20%5B13.0215466%2C%2077.7640586%2C%2044.0%5D%2C%20%5B13.6285774%2C%2077.4642026%2C%2038.0%5D%2C%20%5B12.945048%2C%2077.263004%2C%2034.0%5D%2C%20%5B12.957998%2C%2077.6037312%2C%2027.0%5D%2C%20%5B38.7801076%2C%20-121.5056438%2C%2027.0%5D%2C%20%5B13.0774728%2C%2077.8010327%2C%2022.0%5D%2C%20%5B12.3872141%2C%2076.6669626%2C%2022.0%5D%2C%20%5B12.5442176%2C%2077.4213833%2C%2019.0%5D%2C%20%5B13.007516%2C%2077.695935%2C%2018.0%5D%2C%20%5B12.9055682%2C%2077.5455438%2C%2017.0%5D%2C%20%5B13.0382184%2C%2077.5919%2C%2014.0%5D%2C%20%5B13.0217151%2C%2077.7660547%2C%2014.0%5D%2C%20%5B12.9176571%2C%2077.4837568%2C%209.0%5D%2C%20%5B12.9546741%2C%2077.5121724%2C%209.0%5D%2C%20%5B12.9900235%2C%2077.572073%2C%208.0%5D%2C%20%5B12.8759384%2C%2077.5960999%2C%206.0%5D%2C%20%5B13.1006982%2C%2077.5963454%2C%206.0%5D%2C%20%5B13.0784743%2C%2077.6068938%2C%203.0%5D%2C%20%5B12.9274413%2C%2077.5155224%2C%202.0%5D%2C%20%5B13.0329419%2C%2077.5273253%2C%201.0%5D%5D%2C%0A%20%20%20%20%20%20%20%20%20%20%20%20%20%20%20%20%7B%22blur%22%3A%2015%2C%20%22max%22%3A%201.0%2C%20%22maxZoom%22%3A%2020%2C%20%22minOpacity%22%3A%200.5%2C%20%22radius%22%3A%2025%7D%0A%20%20%20%20%20%20%20%20%20%20%20%20%29.addTo%28map_c274f5f7e6614c69ac89f7f4b1aada0d%29%3B%0A%20%20%20%20%20%20%20%20%0A%20%20%20%20%0A%20%20%20%20%20%20%20%20%20%20%20%20var%20fast_marker_cluster_a97eabbac7044ce8b4a47ef7df01bb81%20%3D%20%28function%28%29%7B%0A%20%20%20%20%20%20%20%20%20%20%20%20%20%20%20%20%0A%20%20%20%20%20%20%20%20%20%20%20%20%20%20%20%20var%20callback%20%3D%20function%20%28row%29%20%7B%0A%20%20%20%20%20%20%20%20%20%20%20%20%20%20%20%20%20%20%20%20var%20icon%20%3D%20L.AwesomeMarkers.icon%28%29%3B%0A%20%20%20%20%20%20%20%20%20%20%20%20%20%20%20%20%20%20%20%20var%20marker%20%3D%20L.marker%28new%20L.LatLng%28row%5B0%5D%2C%20row%5B1%5D%29%29%3B%0A%20%20%20%20%20%20%20%20%20%20%20%20%20%20%20%20%20%20%20%20marker.setIcon%28icon%29%3B%0A%20%20%20%20%20%20%20%20%20%20%20%20%20%20%20%20%20%20%20%20return%20marker%3B%0A%20%20%20%20%20%20%20%20%20%20%20%20%20%20%20%20%7D%3B%0A%0A%20%20%20%20%20%20%20%20%20%20%20%20%20%20%20%20var%20data%20%3D%20%5B%5B45.95485055%2C%20-112.49659530324134%2C%205124.0%5D%2C%20%5B18.1475%2C%2041.538889%2C%202523.0%5D%2C%20%5B12.9343774%2C%2077.628415%2C%202504.0%5D%2C%20%5B12.2655944%2C%2076.6465404%2C%202235.0%5D%2C%20%5B44.3730577%2C%20-71.6118577%2C%202144.0%5D%2C%20%5B12.9732913%2C%2077.6404672%2C%202083.0%5D%2C%20%5B27.64392675%2C%2083.05280519687284%2C%201926.0%5D%2C%20%5B12.9552572%2C%2077.6984163%2C%201846.0%5D%2C%20%5B12.9114375%2C%2077.5999754%2C%201630.0%5D%2C%20%5B12.93577245%2C%2077.66676103753434%2C%201286.0%5D%2C%20%5B32.2934563%2C%20-64.78236307254568%2C%201258.0%5D%2C%20%5B14.5395813%2C%20121.070371%2C%201238.0%5D%2C%20%5B44.621621%2C%20-84.790422%2C%201218.0%5D%2C%20%5B12.9302645%2C%2077.6332585%2C%201181.0%5D%2C%20%5B12.9400321%2C%2077.6203272%2C%201156.0%5D%2C%20%5B12.9252241%2C%2077.6367015%2C%201065.0%5D%2C%20%5B12.9778793%2C%2077.6246697%2C%201023.0%5D%2C%20%5B12.93433385%2C%2077.63040639553275%2C%201017.0%5D%2C%20%5B17.1452094%2C%2079.6218777%2C%20918.0%5D%2C%20%5B15.8876779%2C%2075.7046777%2C%20906.0%5D%2C%20%5B13.0221416%2C%2077.6403368%2C%20853.0%5D%2C%20%5B50.7721586%2C%200.09772783661369303%2C%20812.0%5D%2C%20%5B12.996845%2C%2077.6130165%2C%20727.0%5D%2C%20%5B13.0027353%2C%2077.5703253%2C%20725.0%5D%2C%20%5B12.9417261%2C%2077.5755021%2C%20684.0%5D%2C%20%5B-28.5477541%2C%2029.788093%2C%20675.0%5D%2C%20%5B13.0141618%2C%2077.6518539%2C%20664.0%5D%2C%20%5B33.5935063%2C%20-79.0345627%2C%20658.0%5D%2C%20%5B13.0170347%2C%2077.5726006%2C%20649.0%5D%2C%20%5B13.0093455%2C%2077.6377094%2C%20648.0%5D%2C%20%5B12.9882338%2C%2077.554883%2C%20591.0%5D%2C%20%5B51.373656%2C%20-0.1042366%2C%20569.0%5D%2C%20%5B40.7652844%2C%20-76.373824%2C%20529.0%5D%2C%20%5B17.5223139%2C%2078.5804307%2C%20511.0%5D%2C%20%5B18.5322493%2C%2073.8499601124847%2C%20499.0%5D%2C%20%5B12.9624669%2C%2077.6381958%2C%20496.0%5D%2C%20%5B31.89376%2C%20-88.066644%2C%20491.0%5D%2C%20%5B23.769728%2C%2090.3893881%2C%20446.0%5D%2C%20%5B12.945245%2C%2077.6269144%2C%20439.0%5D%2C%20%5B51.5209606%2C%20-0.0751003%2C%20370.0%5D%2C%20%5B51.5230784%2C%20-0.7374421%2C%20352.0%5D%2C%20%5B12.9417812%2C%2077.6160146%2C%20320.0%5D%2C%20%5B12.988721250000001%2C%2077.58516877601824%2C%20295.0%5D%2C%20%5B12.9678074%2C%2077.6568367%2C%20272.0%5D%2C%20%5B12.9489339%2C%2077.5968273%2C%20246.0%5D%2C%20%5B12.9089453%2C%2077.6239038%2C%20238.0%5D%2C%20%5B12.9271867%2C%2077.6266252%2C%20216.0%5D%2C%20%5B12.9081487%2C%2077.5553179%2C%20195.0%5D%2C%20%5B12.973936%2C%2077.6509982%2C%20194.0%5D%2C%20%5B12.9932236%2C%2077.5391579%2C%20191.0%5D%2C%20%5B13.2227%2C%2078.5541977%2C%20187.0%5D%2C%20%5B12.9931876%2C%2077.5753419%2C%20165.0%5D%2C%20%5B13.0258087%2C%2077.6305067%2C%20161.0%5D%2C%20%5B1.2847055%2C%20103.84320655721689%2C%20155.0%5D%2C%20%5B13.0358698%2C%2077.6323597%2C%20153.0%5D%2C%20%5B-34.0048654%2C%2022.4414125%2C%20151.0%5D%2C%20%5B22.3083138%2C%2073.1615488%2C%20139.0%5D%2C%20%5B39.76880625%2C%20-86.15345077251979%2C%20126.0%5D%2C%20%5B13.02383%2C%2077.5529215%2C%20119.0%5D%2C%20%5B12.9414662%2C%2077.7470942%2C%20117.0%5D%2C%20%5B12.967576%2C%2077.7150877%2C%20113.0%5D%2C%20%5B13.0646907%2C%2077.49626895712257%2C%20107.0%5D%2C%20%5B12.9243509%2C%2077.6255562%2C%20102.0%5D%2C%20%5B12.7405867%2C%2077.8200481%2C%20102.0%5D%2C%20%5B12.9846713%2C%2077.6790908%2C%20101.0%5D%2C%20%5B17.2510682%2C%2080.1651978%2C%2090.0%5D%2C%20%5B23.1883478%2C%2079.9092722%2C%2080.0%5D%2C%20%5B13.0227204%2C%2077.595715%2C%2080.0%5D%2C%20%5B23.1485712%2C%2081.6048241%2C%2076.0%5D%2C%20%5B15.8782951%2C%2074.5084834%2C%2063.0%5D%2C%20%5B13.0621474%2C%2077.58006135480495%2C%2053.0%5D%2C%20%5B13.2923988%2C%2077.7519261%2C%2048.0%5D%2C%20%5B13.0215466%2C%2077.7640586%2C%2044.0%5D%2C%20%5B13.6285774%2C%2077.4642026%2C%2038.0%5D%2C%20%5B12.945048%2C%2077.263004%2C%2034.0%5D%2C%20%5B12.957998%2C%2077.6037312%2C%2027.0%5D%2C%20%5B38.7801076%2C%20-121.5056438%2C%2027.0%5D%2C%20%5B13.0774728%2C%2077.8010327%2C%2022.0%5D%2C%20%5B12.3872141%2C%2076.6669626%2C%2022.0%5D%2C%20%5B12.5442176%2C%2077.4213833%2C%2019.0%5D%2C%20%5B13.007516%2C%2077.695935%2C%2018.0%5D%2C%20%5B12.9055682%2C%2077.5455438%2C%2017.0%5D%2C%20%5B13.0382184%2C%2077.5919%2C%2014.0%5D%2C%20%5B13.0217151%2C%2077.7660547%2C%2014.0%5D%2C%20%5B12.9176571%2C%2077.4837568%2C%209.0%5D%2C%20%5B12.9546741%2C%2077.5121724%2C%209.0%5D%2C%20%5B12.9900235%2C%2077.572073%2C%208.0%5D%2C%20%5B12.8759384%2C%2077.5960999%2C%206.0%5D%2C%20%5B13.1006982%2C%2077.5963454%2C%206.0%5D%2C%20%5B13.0784743%2C%2077.6068938%2C%203.0%5D%2C%20%5B12.9274413%2C%2077.5155224%2C%202.0%5D%2C%20%5B13.0329419%2C%2077.5273253%2C%201.0%5D%5D%3B%0A%20%20%20%20%20%20%20%20%20%20%20%20%20%20%20%20var%20cluster%20%3D%20L.markerClusterGroup%28%7B%22maxZoom%22%3A%2020%7D%29%3B%0A%0A%20%20%20%20%20%20%20%20%20%20%20%20%20%20%20%20for%20%28var%20i%20%3D%200%3B%20i%20%3C%20data.length%3B%20i%2B%2B%29%20%7B%0A%20%20%20%20%20%20%20%20%20%20%20%20%20%20%20%20%20%20%20%20var%20row%20%3D%20data%5Bi%5D%3B%0A%20%20%20%20%20%20%20%20%20%20%20%20%20%20%20%20%20%20%20%20var%20marker%20%3D%20callback%28row%29%3B%0A%20%20%20%20%20%20%20%20%20%20%20%20%20%20%20%20%20%20%20%20marker.addTo%28cluster%29%3B%0A%20%20%20%20%20%20%20%20%20%20%20%20%20%20%20%20%7D%0A%0A%20%20%20%20%20%20%20%20%20%20%20%20%20%20%20%20cluster.addTo%28map_c274f5f7e6614c69ac89f7f4b1aada0d%29%3B%0A%20%20%20%20%20%20%20%20%20%20%20%20%20%20%20%20return%20cluster%3B%0A%20%20%20%20%20%20%20%20%20%20%20%20%7D%29%28%29%3B%0A%20%20%20%20%20%20%20%20%0A%20%20%20%20%0A%20%20%20%20%20%20%20%20%20%20%20%20var%20fast_marker_cluster_3f3c613426ae436aa429a8a478520560%20%3D%20%28function%28%29%7B%0A%20%20%20%20%20%20%20%20%20%20%20%20%20%20%20%20%0A%20%20%20%20%20%20%20%20%20%20%20%20%20%20%20%20var%20callback%20%3D%20function%20%28row%29%20%7B%0A%20%20%20%20%20%20%20%20%20%20%20%20%20%20%20%20%20%20%20%20var%20icon%20%3D%20L.AwesomeMarkers.icon%28%29%3B%0A%20%20%20%20%20%20%20%20%20%20%20%20%20%20%20%20%20%20%20%20var%20marker%20%3D%20L.marker%28new%20L.LatLng%28row%5B0%5D%2C%20row%5B1%5D%29%29%3B%0A%20%20%20%20%20%20%20%20%20%20%20%20%20%20%20%20%20%20%20%20marker.setIcon%28icon%29%3B%0A%20%20%20%20%20%20%20%20%20%20%20%20%20%20%20%20%20%20%20%20return%20marker%3B%0A%20%20%20%20%20%20%20%20%20%20%20%20%20%20%20%20%7D%3B%0A%0A%20%20%20%20%20%20%20%20%20%20%20%20%20%20%20%20var%20data%20%3D%20%5B%5B40.7652844%2C%20-76.373824%2C%204.142505133470229%5D%2C%20%5B12.9271867%2C%2077.6266252%2C%204.020418848167542%5D%2C%20%5B51.5230784%2C%20-0.7374421%2C%204.0172011661807625%5D%2C%20%5B12.9343774%2C%2077.628415%2C%204.005821474773605%5D%2C%20%5B51.373656%2C%20-0.1042366%2C%203.9921245421245417%5D%2C%20%5B38.7801076%2C%20-121.5056438%2C%203.9653846153846155%5D%2C%20%5B12.93433385%2C%2077.63040639553275%2C%203.918668252080863%5D%2C%20%5B31.89376%2C%20-88.066644%2C%203.901052631578944%5D%2C%20%5B-28.5477541%2C%2029.788093%2C%203.863636363636363%5D%2C%20%5B17.1452094%2C%2079.6218777%2C%203.855856966707763%5D%2C%20%5B12.9302645%2C%2077.6332585%2C%203.850377358490572%5D%2C%20%5B12.9274413%2C%2077.5155224%2C%203.85%5D%2C%20%5B15.8782951%2C%2074.5084834%2C%203.839655172413795%5D%2C%20%5B12.9732913%2C%2077.6404672%2C%203.8281537628586864%5D%2C%20%5B50.7721586%2C%200.09772783661369303%2C%203.820588235294112%5D%2C%20%5B12.957998%2C%2077.6037312%2C%203.8074074074074087%5D%2C%20%5B-34.0048654%2C%2022.4414125%2C%203.796428571428575%5D%2C%20%5B12.7405867%2C%2077.8200481%2C%203.7902777777777765%5D%2C%20%5B22.3083138%2C%2073.1615488%2C%203.7822222222222215%5D%2C%20%5B13.0221416%2C%2077.6403368%2C%203.7819484240687675%5D%2C%20%5B27.64392675%2C%2083.05280519687284%2C%203.7802799756542913%5D%2C%20%5B12.9400321%2C%2077.6203272%2C%203.778087279480038%5D%2C%20%5B13.0027353%2C%2077.5703253%2C%203.7596573208722703%5D%2C%20%5B12.9778793%2C%2077.6246697%2C%203.758303886925801%5D%2C%20%5B12.9243509%2C%2077.6255562%2C%203.7494252873563205%5D%2C%20%5B12.9417812%2C%2077.6160146%2C%203.731896551724133%5D%2C%20%5B13.2923988%2C%2077.7519261%2C%203.7266666666666675%5D%2C%20%5B12.9176571%2C%2077.4837568%2C%203.7222222222222223%5D%2C%20%5B44.621621%2C%20-84.790422%2C%203.705228136882133%5D%2C%20%5B12.9931876%2C%2077.5753419%2C%203.7049295774647875%5D%2C%20%5B14.5395813%2C%20121.070371%2C%203.6968309859154895%5D%2C%20%5B13.0170347%2C%2077.5726006%2C%203.6889763779527587%5D%2C%20%5B12.9252241%2C%2077.6367015%2C%203.6861431870669703%5D%2C%20%5B12.988721250000001%2C%2077.58516877601824%2C%203.6832653061224487%5D%2C%20%5B13.0358698%2C%2077.6323597%2C%203.6767676767676756%5D%2C%20%5B12.2655944%2C%2076.6465404%2C%203.6753057658707022%5D%2C%20%5B18.1475%2C%2041.538889%2C%203.672164437840516%5D%2C%20%5B12.9417261%2C%2077.5755021%2C%203.6710924369747864%5D%2C%20%5B13.0093455%2C%2077.6377094%2C%203.6674650698602806%5D%2C%20%5B12.3872141%2C%2076.6669626%2C%203.658823529411766%5D%2C%20%5B23.769728%2C%2090.3893881%2C%203.6541899441340804%5D%2C%20%5B15.8876779%2C%2075.7046777%2C%203.6498655913978517%5D%2C%20%5B12.9932236%2C%2077.5391579%2C%203.646715328467154%5D%2C%20%5B13.1006982%2C%2077.5963454%2C%203.6399999999999997%5D%2C%20%5B13.0621474%2C%2077.58006135480495%2C%203.6333333333333333%5D%2C%20%5B12.9900235%2C%2077.572073%2C%203.6250000000000004%5D%2C%20%5B44.3730577%2C%20-71.6118577%2C%203.6216182048040446%5D%2C%20%5B12.9882338%2C%2077.554883%2C%203.6154013015184363%5D%2C%20%5B12.996845%2C%2077.6130165%2C%203.614912280701751%5D%2C%20%5B23.1883478%2C%2079.9092722%2C%203.604687500000001%5D%2C%20%5B13.0382184%2C%2077.5919%2C%203.6%5D%2C%20%5B33.5935063%2C%20-79.0345627%2C%203.5976146788990837%5D%2C%20%5B12.9678074%2C%2077.6568367%2C%203.580079681274901%5D%2C%20%5B12.967576%2C%2077.7150877%2C%203.5756410256410263%5D%2C%20%5B45.95485055%2C%20-112.49659530324134%2C%203.573740458015275%5D%2C%20%5B12.9414662%2C%2077.7470942%2C%203.5674418604651152%5D%2C%20%5B51.5209606%2C%20-0.0751003%2C%203.558888888888888%5D%2C%20%5B12.9624669%2C%2077.6381958%2C%203.55110024449878%5D%2C%20%5B12.9552572%2C%2077.6984163%2C%203.5419265419265433%5D%2C%20%5B13.007516%2C%2077.695935%2C%203.54%5D%2C%20%5B12.973936%2C%2077.6509982%2C%203.5375939849624065%5D%2C%20%5B39.76880625%2C%20-86.15345077251979%2C%203.5368421052631582%5D%2C%20%5B12.9489339%2C%2077.5968273%2C%203.536363636363633%5D%2C%20%5B12.93577245%2C%2077.66676103753434%2C%203.525691699604741%5D%2C%20%5B17.5223139%2C%2078.5804307%2C%203.5222826086956553%5D%2C%20%5B12.9846713%2C%2077.6790908%2C%203.5122222222222224%5D%2C%20%5B12.9055682%2C%2077.5455438%2C%203.511111111111111%5D%2C%20%5B12.9114375%2C%2077.5999754%2C%203.5074493927125534%5D%2C%20%5B13.2227%2C%2078.5541977%2C%203.5031847133757963%5D%2C%20%5B13.02383%2C%2077.5529215%2C%203.5026785714285693%5D%2C%20%5B1.2847055%2C%20103.84320655721689%2C%203.501801801801799%5D%2C%20%5B23.1485712%2C%2081.6048241%2C%203.5000000000000004%5D%2C%20%5B18.5322493%2C%2073.8499601124847%2C%203.498916967509032%5D%2C%20%5B13.0646907%2C%2077.49626895712257%2C%203.496629213483147%5D%2C%20%5B13.0141618%2C%2077.6518539%2C%203.4960416666666694%5D%2C%20%5B13.0258087%2C%2077.6305067%2C%203.4939655172413784%5D%2C%20%5B32.2934563%2C%20-64.78236307254568%2C%203.4909523809523826%5D%2C%20%5B13.6285774%2C%2077.4642026%2C%203.4869565217391307%5D%2C%20%5B12.5442176%2C%2077.4213833%2C%203.478947368421052%5D%2C%20%5B17.2510682%2C%2080.1651978%2C%203.4786885245901638%5D%2C%20%5B12.945245%2C%2077.6269144%2C%203.477692307692308%5D%2C%20%5B13.0215466%2C%2077.7640586%2C%203.474999999999999%5D%2C%20%5B12.9081487%2C%2077.5553179%2C%203.4645962732919258%5D%2C%20%5B13.0227204%2C%2077.595715%2C%203.439344262295081%5D%2C%20%5B12.945048%2C%2077.263004%2C%203.4375000000000004%5D%2C%20%5B12.9546741%2C%2077.5121724%2C%203.4%5D%2C%20%5B12.8759384%2C%2077.5960999%2C%203.3666666666666667%5D%2C%20%5B13.0217151%2C%2077.7660547%2C%203.3400000000000007%5D%2C%20%5B13.0329419%2C%2077.5273253%2C%203.2%5D%2C%20%5B12.9089453%2C%2077.6239038%2C%203.190972222222224%5D%2C%20%5B13.0774728%2C%2077.8010327%2C%203.1818181818181825%5D%5D%3B%0A%20%20%20%20%20%20%20%20%20%20%20%20%20%20%20%20var%20cluster%20%3D%20L.markerClusterGroup%28%7B%22maxZoom%22%3A%2020%7D%29%3B%0A%0A%20%20%20%20%20%20%20%20%20%20%20%20%20%20%20%20for%20%28var%20i%20%3D%200%3B%20i%20%3C%20data.length%3B%20i%2B%2B%29%20%7B%0A%20%20%20%20%20%20%20%20%20%20%20%20%20%20%20%20%20%20%20%20var%20row%20%3D%20data%5Bi%5D%3B%0A%20%20%20%20%20%20%20%20%20%20%20%20%20%20%20%20%20%20%20%20var%20marker%20%3D%20callback%28row%29%3B%0A%20%20%20%20%20%20%20%20%20%20%20%20%20%20%20%20%20%20%20%20marker.addTo%28cluster%29%3B%0A%20%20%20%20%20%20%20%20%20%20%20%20%20%20%20%20%7D%0A%0A%20%20%20%20%20%20%20%20%20%20%20%20%20%20%20%20cluster.addTo%28map_c274f5f7e6614c69ac89f7f4b1aada0d%29%3B%0A%20%20%20%20%20%20%20%20%20%20%20%20%20%20%20%20return%20cluster%3B%0A%20%20%20%20%20%20%20%20%20%20%20%20%7D%29%28%29%3B%0A%20%20%20%20%20%20%20%20%0A%20%20%20%20%0A%20%20%20%20%20%20%20%20%20%20%20%20var%20heat_map_1bdd4ca1849f48eeb784e367b85de538%20%3D%20L.heatLayer%28%0A%20%20%20%20%20%20%20%20%20%20%20%20%20%20%20%20%5B%5B40.7652844%2C%20-76.373824%2C%204.142505133470229%5D%2C%20%5B12.9271867%2C%2077.6266252%2C%204.020418848167542%5D%2C%20%5B51.5230784%2C%20-0.7374421%2C%204.0172011661807625%5D%2C%20%5B12.9343774%2C%2077.628415%2C%204.005821474773605%5D%2C%20%5B51.373656%2C%20-0.1042366%2C%203.9921245421245417%5D%2C%20%5B38.7801076%2C%20-121.5056438%2C%203.9653846153846155%5D%2C%20%5B12.93433385%2C%2077.63040639553275%2C%203.918668252080863%5D%2C%20%5B31.89376%2C%20-88.066644%2C%203.901052631578944%5D%2C%20%5B-28.5477541%2C%2029.788093%2C%203.863636363636363%5D%2C%20%5B17.1452094%2C%2079.6218777%2C%203.855856966707763%5D%2C%20%5B12.9302645%2C%2077.6332585%2C%203.850377358490572%5D%2C%20%5B12.9274413%2C%2077.5155224%2C%203.85%5D%2C%20%5B15.8782951%2C%2074.5084834%2C%203.839655172413795%5D%2C%20%5B12.9732913%2C%2077.6404672%2C%203.8281537628586864%5D%2C%20%5B50.7721586%2C%200.09772783661369303%2C%203.820588235294112%5D%2C%20%5B12.957998%2C%2077.6037312%2C%203.8074074074074087%5D%2C%20%5B-34.0048654%2C%2022.4414125%2C%203.796428571428575%5D%2C%20%5B12.7405867%2C%2077.8200481%2C%203.7902777777777765%5D%2C%20%5B22.3083138%2C%2073.1615488%2C%203.7822222222222215%5D%2C%20%5B13.0221416%2C%2077.6403368%2C%203.7819484240687675%5D%2C%20%5B27.64392675%2C%2083.05280519687284%2C%203.7802799756542913%5D%2C%20%5B12.9400321%2C%2077.6203272%2C%203.778087279480038%5D%2C%20%5B13.0027353%2C%2077.5703253%2C%203.7596573208722703%5D%2C%20%5B12.9778793%2C%2077.6246697%2C%203.758303886925801%5D%2C%20%5B12.9243509%2C%2077.6255562%2C%203.7494252873563205%5D%2C%20%5B12.9417812%2C%2077.6160146%2C%203.731896551724133%5D%2C%20%5B13.2923988%2C%2077.7519261%2C%203.7266666666666675%5D%2C%20%5B12.9176571%2C%2077.4837568%2C%203.7222222222222223%5D%2C%20%5B44.621621%2C%20-84.790422%2C%203.705228136882133%5D%2C%20%5B12.9931876%2C%2077.5753419%2C%203.7049295774647875%5D%2C%20%5B14.5395813%2C%20121.070371%2C%203.6968309859154895%5D%2C%20%5B13.0170347%2C%2077.5726006%2C%203.6889763779527587%5D%2C%20%5B12.9252241%2C%2077.6367015%2C%203.6861431870669703%5D%2C%20%5B12.988721250000001%2C%2077.58516877601824%2C%203.6832653061224487%5D%2C%20%5B13.0358698%2C%2077.6323597%2C%203.6767676767676756%5D%2C%20%5B12.2655944%2C%2076.6465404%2C%203.6753057658707022%5D%2C%20%5B18.1475%2C%2041.538889%2C%203.672164437840516%5D%2C%20%5B12.9417261%2C%2077.5755021%2C%203.6710924369747864%5D%2C%20%5B13.0093455%2C%2077.6377094%2C%203.6674650698602806%5D%2C%20%5B12.3872141%2C%2076.6669626%2C%203.658823529411766%5D%2C%20%5B23.769728%2C%2090.3893881%2C%203.6541899441340804%5D%2C%20%5B15.8876779%2C%2075.7046777%2C%203.6498655913978517%5D%2C%20%5B12.9932236%2C%2077.5391579%2C%203.646715328467154%5D%2C%20%5B13.1006982%2C%2077.5963454%2C%203.6399999999999997%5D%2C%20%5B13.0621474%2C%2077.58006135480495%2C%203.6333333333333333%5D%2C%20%5B12.9900235%2C%2077.572073%2C%203.6250000000000004%5D%2C%20%5B44.3730577%2C%20-71.6118577%2C%203.6216182048040446%5D%2C%20%5B12.9882338%2C%2077.554883%2C%203.6154013015184363%5D%2C%20%5B12.996845%2C%2077.6130165%2C%203.614912280701751%5D%2C%20%5B23.1883478%2C%2079.9092722%2C%203.604687500000001%5D%2C%20%5B13.0382184%2C%2077.5919%2C%203.6%5D%2C%20%5B33.5935063%2C%20-79.0345627%2C%203.5976146788990837%5D%2C%20%5B12.9678074%2C%2077.6568367%2C%203.580079681274901%5D%2C%20%5B12.967576%2C%2077.7150877%2C%203.5756410256410263%5D%2C%20%5B45.95485055%2C%20-112.49659530324134%2C%203.573740458015275%5D%2C%20%5B12.9414662%2C%2077.7470942%2C%203.5674418604651152%5D%2C%20%5B51.5209606%2C%20-0.0751003%2C%203.558888888888888%5D%2C%20%5B12.9624669%2C%2077.6381958%2C%203.55110024449878%5D%2C%20%5B12.9552572%2C%2077.6984163%2C%203.5419265419265433%5D%2C%20%5B13.007516%2C%2077.695935%2C%203.54%5D%2C%20%5B12.973936%2C%2077.6509982%2C%203.5375939849624065%5D%2C%20%5B39.76880625%2C%20-86.15345077251979%2C%203.5368421052631582%5D%2C%20%5B12.9489339%2C%2077.5968273%2C%203.536363636363633%5D%2C%20%5B12.93577245%2C%2077.66676103753434%2C%203.525691699604741%5D%2C%20%5B17.5223139%2C%2078.5804307%2C%203.5222826086956553%5D%2C%20%5B12.9846713%2C%2077.6790908%2C%203.5122222222222224%5D%2C%20%5B12.9055682%2C%2077.5455438%2C%203.511111111111111%5D%2C%20%5B12.9114375%2C%2077.5999754%2C%203.5074493927125534%5D%2C%20%5B13.2227%2C%2078.5541977%2C%203.5031847133757963%5D%2C%20%5B13.02383%2C%2077.5529215%2C%203.5026785714285693%5D%2C%20%5B1.2847055%2C%20103.84320655721689%2C%203.501801801801799%5D%2C%20%5B23.1485712%2C%2081.6048241%2C%203.5000000000000004%5D%2C%20%5B18.5322493%2C%2073.8499601124847%2C%203.498916967509032%5D%2C%20%5B13.0646907%2C%2077.49626895712257%2C%203.496629213483147%5D%2C%20%5B13.0141618%2C%2077.6518539%2C%203.4960416666666694%5D%2C%20%5B13.0258087%2C%2077.6305067%2C%203.4939655172413784%5D%2C%20%5B32.2934563%2C%20-64.78236307254568%2C%203.4909523809523826%5D%2C%20%5B13.6285774%2C%2077.4642026%2C%203.4869565217391307%5D%2C%20%5B12.5442176%2C%2077.4213833%2C%203.478947368421052%5D%2C%20%5B17.2510682%2C%2080.1651978%2C%203.4786885245901638%5D%2C%20%5B12.945245%2C%2077.6269144%2C%203.477692307692308%5D%2C%20%5B13.0215466%2C%2077.7640586%2C%203.474999999999999%5D%2C%20%5B12.9081487%2C%2077.5553179%2C%203.4645962732919258%5D%2C%20%5B13.0227204%2C%2077.595715%2C%203.439344262295081%5D%2C%20%5B12.945048%2C%2077.263004%2C%203.4375000000000004%5D%2C%20%5B12.9546741%2C%2077.5121724%2C%203.4%5D%2C%20%5B12.8759384%2C%2077.5960999%2C%203.3666666666666667%5D%2C%20%5B13.0217151%2C%2077.7660547%2C%203.3400000000000007%5D%2C%20%5B13.0329419%2C%2077.5273253%2C%203.2%5D%2C%20%5B12.9089453%2C%2077.6239038%2C%203.190972222222224%5D%2C%20%5B13.0774728%2C%2077.8010327%2C%203.1818181818181825%5D%5D%2C%0A%20%20%20%20%20%20%20%20%20%20%20%20%20%20%20%20%7B%22blur%22%3A%2015%2C%20%22max%22%3A%201.0%2C%20%22maxZoom%22%3A%2020%2C%20%22minOpacity%22%3A%200.5%2C%20%22radius%22%3A%2025%7D%0A%20%20%20%20%20%20%20%20%20%20%20%20%29.addTo%28map_c274f5f7e6614c69ac89f7f4b1aada0d%29%3B%0A%20%20%20%20%20%20%20%20%0A%3C/script%3E onload=\"this.contentDocument.open();this.contentDocument.write(    decodeURIComponent(this.getAttribute('data-html')));this.contentDocument.close();\" allowfullscreen webkitallowfullscreen mozallowfullscreen></iframe></div></div>"
            ],
            "text/plain": [
              "<folium.folium.Map at 0x7ff9d8469dd0>"
            ]
          },
          "metadata": {
            "tags": []
          },
          "execution_count": 141
        }
      ]
    },
    {
      "cell_type": "code",
      "metadata": {
        "colab": {
          "base_uri": "https://localhost:8080/",
          "height": 593
        },
        "id": "9xPDdMj8JSBO",
        "outputId": "a69e398e-f5c0-4c6f-bb70-6078b54e0029"
      },
      "source": [
        "df.head()"
      ],
      "execution_count": 142,
      "outputs": [
        {
          "output_type": "execute_result",
          "data": {
            "text/html": [
              "<div>\n",
              "<style scoped>\n",
              "    .dataframe tbody tr th:only-of-type {\n",
              "        vertical-align: middle;\n",
              "    }\n",
              "\n",
              "    .dataframe tbody tr th {\n",
              "        vertical-align: top;\n",
              "    }\n",
              "\n",
              "    .dataframe thead th {\n",
              "        text-align: right;\n",
              "    }\n",
              "</style>\n",
              "<table border=\"1\" class=\"dataframe\">\n",
              "  <thead>\n",
              "    <tr style=\"text-align: right;\">\n",
              "      <th></th>\n",
              "      <th>url</th>\n",
              "      <th>address</th>\n",
              "      <th>name</th>\n",
              "      <th>online_order</th>\n",
              "      <th>book_table</th>\n",
              "      <th>rate</th>\n",
              "      <th>votes</th>\n",
              "      <th>phone</th>\n",
              "      <th>location</th>\n",
              "      <th>rest_type</th>\n",
              "      <th>dish_liked</th>\n",
              "      <th>cuisines</th>\n",
              "      <th>approx_cost(for two people)</th>\n",
              "      <th>reviews_list</th>\n",
              "      <th>menu_item</th>\n",
              "      <th>listed_in(type)</th>\n",
              "      <th>listed_in(city)</th>\n",
              "      <th>ratings</th>\n",
              "    </tr>\n",
              "  </thead>\n",
              "  <tbody>\n",
              "    <tr>\n",
              "      <th>0</th>\n",
              "      <td>https://www.zomato.com/bangalore/jalsa-banasha...</td>\n",
              "      <td>942, 21st Main Road, 2nd Stage, Banashankari, ...</td>\n",
              "      <td>Jalsa</td>\n",
              "      <td>Yes</td>\n",
              "      <td>Yes</td>\n",
              "      <td>4.1/5</td>\n",
              "      <td>775</td>\n",
              "      <td>080 42297555\\r\\n+91 9743772233</td>\n",
              "      <td>Banashankari</td>\n",
              "      <td>Casual Dining</td>\n",
              "      <td>Pasta, Lunch Buffet, Masala Papad, Paneer Laja...</td>\n",
              "      <td>North Indian, Mughlai, Chinese</td>\n",
              "      <td>800</td>\n",
              "      <td>[('Rated 4.0', 'RATED\\n  A beautiful place to ...</td>\n",
              "      <td>[]</td>\n",
              "      <td>Buffet</td>\n",
              "      <td>Banashankari</td>\n",
              "      <td>4.1</td>\n",
              "    </tr>\n",
              "    <tr>\n",
              "      <th>1</th>\n",
              "      <td>https://www.zomato.com/bangalore/spice-elephan...</td>\n",
              "      <td>2nd Floor, 80 Feet Road, Near Big Bazaar, 6th ...</td>\n",
              "      <td>Spice Elephant</td>\n",
              "      <td>Yes</td>\n",
              "      <td>No</td>\n",
              "      <td>4.1/5</td>\n",
              "      <td>787</td>\n",
              "      <td>080 41714161</td>\n",
              "      <td>Banashankari</td>\n",
              "      <td>Casual Dining</td>\n",
              "      <td>Momos, Lunch Buffet, Chocolate Nirvana, Thai G...</td>\n",
              "      <td>Chinese, North Indian, Thai</td>\n",
              "      <td>800</td>\n",
              "      <td>[('Rated 4.0', 'RATED\\n  Had been here for din...</td>\n",
              "      <td>[]</td>\n",
              "      <td>Buffet</td>\n",
              "      <td>Banashankari</td>\n",
              "      <td>4.1</td>\n",
              "    </tr>\n",
              "    <tr>\n",
              "      <th>2</th>\n",
              "      <td>https://www.zomato.com/SanchurroBangalore?cont...</td>\n",
              "      <td>1112, Next to KIMS Medical College, 17th Cross...</td>\n",
              "      <td>San Churro Cafe</td>\n",
              "      <td>Yes</td>\n",
              "      <td>No</td>\n",
              "      <td>3.8/5</td>\n",
              "      <td>918</td>\n",
              "      <td>+91 9663487993</td>\n",
              "      <td>Banashankari</td>\n",
              "      <td>Cafe, Casual Dining</td>\n",
              "      <td>Churros, Cannelloni, Minestrone Soup, Hot Choc...</td>\n",
              "      <td>Cafe, Mexican, Italian</td>\n",
              "      <td>800</td>\n",
              "      <td>[('Rated 3.0', \"RATED\\n  Ambience is not that ...</td>\n",
              "      <td>[]</td>\n",
              "      <td>Buffet</td>\n",
              "      <td>Banashankari</td>\n",
              "      <td>3.8</td>\n",
              "    </tr>\n",
              "    <tr>\n",
              "      <th>3</th>\n",
              "      <td>https://www.zomato.com/bangalore/addhuri-udupi...</td>\n",
              "      <td>1st Floor, Annakuteera, 3rd Stage, Banashankar...</td>\n",
              "      <td>Addhuri Udupi Bhojana</td>\n",
              "      <td>No</td>\n",
              "      <td>No</td>\n",
              "      <td>3.7/5</td>\n",
              "      <td>88</td>\n",
              "      <td>+91 9620009302</td>\n",
              "      <td>Banashankari</td>\n",
              "      <td>Quick Bites</td>\n",
              "      <td>Masala Dosa</td>\n",
              "      <td>South Indian, North Indian</td>\n",
              "      <td>300</td>\n",
              "      <td>[('Rated 4.0', \"RATED\\n  Great food and proper...</td>\n",
              "      <td>[]</td>\n",
              "      <td>Buffet</td>\n",
              "      <td>Banashankari</td>\n",
              "      <td>3.7</td>\n",
              "    </tr>\n",
              "    <tr>\n",
              "      <th>4</th>\n",
              "      <td>https://www.zomato.com/bangalore/grand-village...</td>\n",
              "      <td>10, 3rd Floor, Lakshmi Associates, Gandhi Baza...</td>\n",
              "      <td>Grand Village</td>\n",
              "      <td>No</td>\n",
              "      <td>No</td>\n",
              "      <td>3.8/5</td>\n",
              "      <td>166</td>\n",
              "      <td>+91 8026612447\\r\\n+91 9901210005</td>\n",
              "      <td>Basavanagudi</td>\n",
              "      <td>Casual Dining</td>\n",
              "      <td>Panipuri, Gol Gappe</td>\n",
              "      <td>North Indian, Rajasthani</td>\n",
              "      <td>600</td>\n",
              "      <td>[('Rated 4.0', 'RATED\\n  Very good restaurant ...</td>\n",
              "      <td>[]</td>\n",
              "      <td>Buffet</td>\n",
              "      <td>Banashankari</td>\n",
              "      <td>3.8</td>\n",
              "    </tr>\n",
              "  </tbody>\n",
              "</table>\n",
              "</div>"
            ],
            "text/plain": [
              "                                                 url  ... ratings\n",
              "0  https://www.zomato.com/bangalore/jalsa-banasha...  ...     4.1\n",
              "1  https://www.zomato.com/bangalore/spice-elephan...  ...     4.1\n",
              "2  https://www.zomato.com/SanchurroBangalore?cont...  ...     3.8\n",
              "3  https://www.zomato.com/bangalore/addhuri-udupi...  ...     3.7\n",
              "4  https://www.zomato.com/bangalore/grand-village...  ...     3.8\n",
              "\n",
              "[5 rows x 18 columns]"
            ]
          },
          "metadata": {
            "tags": []
          },
          "execution_count": 142
        }
      ]
    },
    {
      "cell_type": "code",
      "metadata": {
        "id": "t3oQdfjIJSRB"
      },
      "source": [
        "df_north=df[df['cuisines']=='North Indian']"
      ],
      "execution_count": 144,
      "outputs": []
    },
    {
      "cell_type": "code",
      "metadata": {
        "colab": {
          "base_uri": "https://localhost:8080/"
        },
        "id": "Pg7GBIGQJSUU",
        "outputId": "24f35071-1b24-4acb-dc6c-144c61b31437"
      },
      "source": [
        "df_north.groupby('location')['url'].count()"
      ],
      "execution_count": 145,
      "outputs": [
        {
          "output_type": "execute_result",
          "data": {
            "text/plain": [
              "location\n",
              "BTM                              253\n",
              "Banashankari                      27\n",
              "Banaswadi                          9\n",
              "Bannerghatta Road                 57\n",
              "Basavanagudi                      16\n",
              "                                ... \n",
              "Varthur Main Road, Whitefield      3\n",
              "Vasanth Nagar                     12\n",
              "Whitefield                       137\n",
              "Wilson Garden                     36\n",
              "Yeshwantpur                        3\n",
              "Name: url, Length: 63, dtype: int64"
            ]
          },
          "metadata": {
            "tags": []
          },
          "execution_count": 145
        }
      ]
    },
    {
      "cell_type": "code",
      "metadata": {
        "id": "xQfu4KU0JSXy"
      },
      "source": [
        "def heatmapper(zone):\n",
        "  filter=df['cuisines']==zone\n",
        "  df2=df[filter]\n",
        "  zonal=df2.groupby('location')['url'].count().reset_index()\n",
        "  zonal.columns=['names','count_regional']  \n",
        "  zonal=zonal.merge(merged_df,on='names').dropna()\n",
        "  heated1=zonal[['lat','lon','count_regional']]\n",
        "  HeatMap(heated1,max_zoom=20).add_to(base)\n",
        "  return base\n"
      ],
      "execution_count": 158,
      "outputs": []
    },
    {
      "cell_type": "code",
      "metadata": {
        "colab": {
          "base_uri": "https://localhost:8080/",
          "height": 866
        },
        "id": "siJACwbFJSa-",
        "outputId": "23e65ed9-628e-4706-ab43-7ee9888a3fdb"
      },
      "source": [
        "heatmapper('Chinese')"
      ],
      "execution_count": 160,
      "outputs": [
        {
          "output_type": "execute_result",
          "data": {
            "text/html": [
              "<div style=\"width:100%;\"><div style=\"position:relative;width:100%;height:0;padding-bottom:60%;\"><span style=\"color:#565656\">Make this Notebook Trusted to load map: File -> Trust Notebook</span><iframe src=\"about:blank\" style=\"position:absolute;width:100%;height:100%;left:0;top:0;border:none !important;\" data-html=%3C%21DOCTYPE%20html%3E%0A%3Chead%3E%20%20%20%20%0A%20%20%20%20%3Cmeta%20http-equiv%3D%22content-type%22%20content%3D%22text/html%3B%20charset%3DUTF-8%22%20/%3E%0A%20%20%20%20%0A%20%20%20%20%20%20%20%20%3Cscript%3E%0A%20%20%20%20%20%20%20%20%20%20%20%20L_NO_TOUCH%20%3D%20false%3B%0A%20%20%20%20%20%20%20%20%20%20%20%20L_DISABLE_3D%20%3D%20false%3B%0A%20%20%20%20%20%20%20%20%3C/script%3E%0A%20%20%20%20%0A%20%20%20%20%3Cscript%20src%3D%22https%3A//cdn.jsdelivr.net/npm/leaflet%401.5.1/dist/leaflet.js%22%3E%3C/script%3E%0A%20%20%20%20%3Cscript%20src%3D%22https%3A//code.jquery.com/jquery-1.12.4.min.js%22%3E%3C/script%3E%0A%20%20%20%20%3Cscript%20src%3D%22https%3A//maxcdn.bootstrapcdn.com/bootstrap/3.2.0/js/bootstrap.min.js%22%3E%3C/script%3E%0A%20%20%20%20%3Cscript%20src%3D%22https%3A//cdnjs.cloudflare.com/ajax/libs/Leaflet.awesome-markers/2.0.2/leaflet.awesome-markers.js%22%3E%3C/script%3E%0A%20%20%20%20%3Clink%20rel%3D%22stylesheet%22%20href%3D%22https%3A//cdn.jsdelivr.net/npm/leaflet%401.5.1/dist/leaflet.css%22/%3E%0A%20%20%20%20%3Clink%20rel%3D%22stylesheet%22%20href%3D%22https%3A//maxcdn.bootstrapcdn.com/bootstrap/3.2.0/css/bootstrap.min.css%22/%3E%0A%20%20%20%20%3Clink%20rel%3D%22stylesheet%22%20href%3D%22https%3A//maxcdn.bootstrapcdn.com/bootstrap/3.2.0/css/bootstrap-theme.min.css%22/%3E%0A%20%20%20%20%3Clink%20rel%3D%22stylesheet%22%20href%3D%22https%3A//maxcdn.bootstrapcdn.com/font-awesome/4.6.3/css/font-awesome.min.css%22/%3E%0A%20%20%20%20%3Clink%20rel%3D%22stylesheet%22%20href%3D%22https%3A//cdnjs.cloudflare.com/ajax/libs/Leaflet.awesome-markers/2.0.2/leaflet.awesome-markers.css%22/%3E%0A%20%20%20%20%3Clink%20rel%3D%22stylesheet%22%20href%3D%22https%3A//rawcdn.githack.com/python-visualization/folium/master/folium/templates/leaflet.awesome.rotate.css%22/%3E%0A%20%20%20%20%3Cstyle%3Ehtml%2C%20body%20%7Bwidth%3A%20100%25%3Bheight%3A%20100%25%3Bmargin%3A%200%3Bpadding%3A%200%3B%7D%3C/style%3E%0A%20%20%20%20%3Cstyle%3E%23map%20%7Bposition%3Aabsolute%3Btop%3A0%3Bbottom%3A0%3Bright%3A0%3Bleft%3A0%3B%7D%3C/style%3E%0A%20%20%20%20%0A%20%20%20%20%20%20%20%20%20%20%20%20%3Cmeta%20name%3D%22viewport%22%20content%3D%22width%3Ddevice-width%2C%0A%20%20%20%20%20%20%20%20%20%20%20%20%20%20%20%20initial-scale%3D1.0%2C%20maximum-scale%3D1.0%2C%20user-scalable%3Dno%22%20/%3E%0A%20%20%20%20%20%20%20%20%20%20%20%20%3Cstyle%3E%0A%20%20%20%20%20%20%20%20%20%20%20%20%20%20%20%20%23map_c274f5f7e6614c69ac89f7f4b1aada0d%20%7B%0A%20%20%20%20%20%20%20%20%20%20%20%20%20%20%20%20%20%20%20%20position%3A%20relative%3B%0A%20%20%20%20%20%20%20%20%20%20%20%20%20%20%20%20%20%20%20%20width%3A%20100.0%25%3B%0A%20%20%20%20%20%20%20%20%20%20%20%20%20%20%20%20%20%20%20%20height%3A%20100.0%25%3B%0A%20%20%20%20%20%20%20%20%20%20%20%20%20%20%20%20%20%20%20%20left%3A%200.0%25%3B%0A%20%20%20%20%20%20%20%20%20%20%20%20%20%20%20%20%20%20%20%20top%3A%200.0%25%3B%0A%20%20%20%20%20%20%20%20%20%20%20%20%20%20%20%20%7D%0A%20%20%20%20%20%20%20%20%20%20%20%20%3C/style%3E%0A%20%20%20%20%20%20%20%20%0A%20%20%20%20%3Cscript%20src%3D%22https%3A//leaflet.github.io/Leaflet.heat/dist/leaflet-heat.js%22%3E%3C/script%3E%0A%20%20%20%20%3Cscript%20src%3D%22https%3A//cdnjs.cloudflare.com/ajax/libs/leaflet.markercluster/1.1.0/leaflet.markercluster.js%22%3E%3C/script%3E%0A%20%20%20%20%3Clink%20rel%3D%22stylesheet%22%20href%3D%22https%3A//cdnjs.cloudflare.com/ajax/libs/leaflet.markercluster/1.1.0/MarkerCluster.css%22/%3E%0A%20%20%20%20%3Clink%20rel%3D%22stylesheet%22%20href%3D%22https%3A//cdnjs.cloudflare.com/ajax/libs/leaflet.markercluster/1.1.0/MarkerCluster.Default.css%22/%3E%0A%3C/head%3E%0A%3Cbody%3E%20%20%20%20%0A%20%20%20%20%0A%20%20%20%20%20%20%20%20%20%20%20%20%3Cdiv%20class%3D%22folium-map%22%20id%3D%22map_c274f5f7e6614c69ac89f7f4b1aada0d%22%20%3E%3C/div%3E%0A%20%20%20%20%20%20%20%20%0A%3C/body%3E%0A%3Cscript%3E%20%20%20%20%0A%20%20%20%20%0A%20%20%20%20%20%20%20%20%20%20%20%20var%20map_c274f5f7e6614c69ac89f7f4b1aada0d%20%3D%20L.map%28%0A%20%20%20%20%20%20%20%20%20%20%20%20%20%20%20%20%22map_c274f5f7e6614c69ac89f7f4b1aada0d%22%2C%0A%20%20%20%20%20%20%20%20%20%20%20%20%20%20%20%20%7B%0A%20%20%20%20%20%20%20%20%20%20%20%20%20%20%20%20%20%20%20%20center%3A%20%5B12.97%2C%2077.59%5D%2C%0A%20%20%20%20%20%20%20%20%20%20%20%20%20%20%20%20%20%20%20%20crs%3A%20L.CRS.EPSG3857%2C%0A%20%20%20%20%20%20%20%20%20%20%20%20%20%20%20%20%20%20%20%20zoom%3A%2012%2C%0A%20%20%20%20%20%20%20%20%20%20%20%20%20%20%20%20%20%20%20%20zoomControl%3A%20true%2C%0A%20%20%20%20%20%20%20%20%20%20%20%20%20%20%20%20%20%20%20%20preferCanvas%3A%20false%2C%0A%20%20%20%20%20%20%20%20%20%20%20%20%20%20%20%20%7D%0A%20%20%20%20%20%20%20%20%20%20%20%20%29%3B%0A%0A%20%20%20%20%20%20%20%20%20%20%20%20%0A%0A%20%20%20%20%20%20%20%20%0A%20%20%20%20%0A%20%20%20%20%20%20%20%20%20%20%20%20var%20tile_layer_311e40cb37ee4ba3adfd5877a9c2d1d6%20%3D%20L.tileLayer%28%0A%20%20%20%20%20%20%20%20%20%20%20%20%20%20%20%20%22https%3A//%7Bs%7D.tile.openstreetmap.org/%7Bz%7D/%7Bx%7D/%7By%7D.png%22%2C%0A%20%20%20%20%20%20%20%20%20%20%20%20%20%20%20%20%7B%22attribution%22%3A%20%22Data%20by%20%5Cu0026copy%3B%20%5Cu003ca%20href%3D%5C%22http%3A//openstreetmap.org%5C%22%5Cu003eOpenStreetMap%5Cu003c/a%5Cu003e%2C%20under%20%5Cu003ca%20href%3D%5C%22http%3A//www.openstreetmap.org/copyright%5C%22%5Cu003eODbL%5Cu003c/a%5Cu003e.%22%2C%20%22detectRetina%22%3A%20false%2C%20%22maxNativeZoom%22%3A%2018%2C%20%22maxZoom%22%3A%2018%2C%20%22minZoom%22%3A%200%2C%20%22noWrap%22%3A%20false%2C%20%22opacity%22%3A%201%2C%20%22subdomains%22%3A%20%22abc%22%2C%20%22tms%22%3A%20false%7D%0A%20%20%20%20%20%20%20%20%20%20%20%20%29.addTo%28map_c274f5f7e6614c69ac89f7f4b1aada0d%29%3B%0A%20%20%20%20%20%20%20%20%0A%20%20%20%20%0A%20%20%20%20%20%20%20%20%20%20%20%20var%20heat_map_d62b8465ebbd4eadbe4a717645461631%20%3D%20L.heatLayer%28%0A%20%20%20%20%20%20%20%20%20%20%20%20%20%20%20%20%5B%5B45.95485055%2C%20-112.49659530324134%2C%205124.0%5D%2C%20%5B18.1475%2C%2041.538889%2C%202523.0%5D%2C%20%5B12.9343774%2C%2077.628415%2C%202504.0%5D%2C%20%5B12.2655944%2C%2076.6465404%2C%202235.0%5D%2C%20%5B44.3730577%2C%20-71.6118577%2C%202144.0%5D%2C%20%5B12.9732913%2C%2077.6404672%2C%202083.0%5D%2C%20%5B27.64392675%2C%2083.05280519687284%2C%201926.0%5D%2C%20%5B12.9552572%2C%2077.6984163%2C%201846.0%5D%2C%20%5B12.9114375%2C%2077.5999754%2C%201630.0%5D%2C%20%5B12.93577245%2C%2077.66676103753434%2C%201286.0%5D%2C%20%5B32.2934563%2C%20-64.78236307254568%2C%201258.0%5D%2C%20%5B14.5395813%2C%20121.070371%2C%201238.0%5D%2C%20%5B44.621621%2C%20-84.790422%2C%201218.0%5D%2C%20%5B12.9302645%2C%2077.6332585%2C%201181.0%5D%2C%20%5B12.9400321%2C%2077.6203272%2C%201156.0%5D%2C%20%5B12.9252241%2C%2077.6367015%2C%201065.0%5D%2C%20%5B12.9778793%2C%2077.6246697%2C%201023.0%5D%2C%20%5B12.93433385%2C%2077.63040639553275%2C%201017.0%5D%2C%20%5B17.1452094%2C%2079.6218777%2C%20918.0%5D%2C%20%5B15.8876779%2C%2075.7046777%2C%20906.0%5D%2C%20%5B13.0221416%2C%2077.6403368%2C%20853.0%5D%2C%20%5B50.7721586%2C%200.09772783661369303%2C%20812.0%5D%2C%20%5B12.996845%2C%2077.6130165%2C%20727.0%5D%2C%20%5B13.0027353%2C%2077.5703253%2C%20725.0%5D%2C%20%5B12.9417261%2C%2077.5755021%2C%20684.0%5D%2C%20%5B-28.5477541%2C%2029.788093%2C%20675.0%5D%2C%20%5B13.0141618%2C%2077.6518539%2C%20664.0%5D%2C%20%5B33.5935063%2C%20-79.0345627%2C%20658.0%5D%2C%20%5B13.0170347%2C%2077.5726006%2C%20649.0%5D%2C%20%5B13.0093455%2C%2077.6377094%2C%20648.0%5D%2C%20%5B12.9882338%2C%2077.554883%2C%20591.0%5D%2C%20%5B51.373656%2C%20-0.1042366%2C%20569.0%5D%2C%20%5B40.7652844%2C%20-76.373824%2C%20529.0%5D%2C%20%5B17.5223139%2C%2078.5804307%2C%20511.0%5D%2C%20%5B18.5322493%2C%2073.8499601124847%2C%20499.0%5D%2C%20%5B12.9624669%2C%2077.6381958%2C%20496.0%5D%2C%20%5B31.89376%2C%20-88.066644%2C%20491.0%5D%2C%20%5B23.769728%2C%2090.3893881%2C%20446.0%5D%2C%20%5B12.945245%2C%2077.6269144%2C%20439.0%5D%2C%20%5B51.5209606%2C%20-0.0751003%2C%20370.0%5D%2C%20%5B51.5230784%2C%20-0.7374421%2C%20352.0%5D%2C%20%5B12.9417812%2C%2077.6160146%2C%20320.0%5D%2C%20%5B12.988721250000001%2C%2077.58516877601824%2C%20295.0%5D%2C%20%5B12.9678074%2C%2077.6568367%2C%20272.0%5D%2C%20%5B12.9489339%2C%2077.5968273%2C%20246.0%5D%2C%20%5B12.9089453%2C%2077.6239038%2C%20238.0%5D%2C%20%5B12.9271867%2C%2077.6266252%2C%20216.0%5D%2C%20%5B12.9081487%2C%2077.5553179%2C%20195.0%5D%2C%20%5B12.973936%2C%2077.6509982%2C%20194.0%5D%2C%20%5B12.9932236%2C%2077.5391579%2C%20191.0%5D%2C%20%5B13.2227%2C%2078.5541977%2C%20187.0%5D%2C%20%5B12.9931876%2C%2077.5753419%2C%20165.0%5D%2C%20%5B13.0258087%2C%2077.6305067%2C%20161.0%5D%2C%20%5B1.2847055%2C%20103.84320655721689%2C%20155.0%5D%2C%20%5B13.0358698%2C%2077.6323597%2C%20153.0%5D%2C%20%5B-34.0048654%2C%2022.4414125%2C%20151.0%5D%2C%20%5B22.3083138%2C%2073.1615488%2C%20139.0%5D%2C%20%5B39.76880625%2C%20-86.15345077251979%2C%20126.0%5D%2C%20%5B13.02383%2C%2077.5529215%2C%20119.0%5D%2C%20%5B12.9414662%2C%2077.7470942%2C%20117.0%5D%2C%20%5B12.967576%2C%2077.7150877%2C%20113.0%5D%2C%20%5B13.0646907%2C%2077.49626895712257%2C%20107.0%5D%2C%20%5B12.9243509%2C%2077.6255562%2C%20102.0%5D%2C%20%5B12.7405867%2C%2077.8200481%2C%20102.0%5D%2C%20%5B12.9846713%2C%2077.6790908%2C%20101.0%5D%2C%20%5B17.2510682%2C%2080.1651978%2C%2090.0%5D%2C%20%5B23.1883478%2C%2079.9092722%2C%2080.0%5D%2C%20%5B13.0227204%2C%2077.595715%2C%2080.0%5D%2C%20%5B23.1485712%2C%2081.6048241%2C%2076.0%5D%2C%20%5B15.8782951%2C%2074.5084834%2C%2063.0%5D%2C%20%5B13.0621474%2C%2077.58006135480495%2C%2053.0%5D%2C%20%5B13.2923988%2C%2077.7519261%2C%2048.0%5D%2C%20%5B13.0215466%2C%2077.7640586%2C%2044.0%5D%2C%20%5B13.6285774%2C%2077.4642026%2C%2038.0%5D%2C%20%5B12.945048%2C%2077.263004%2C%2034.0%5D%2C%20%5B12.957998%2C%2077.6037312%2C%2027.0%5D%2C%20%5B38.7801076%2C%20-121.5056438%2C%2027.0%5D%2C%20%5B13.0774728%2C%2077.8010327%2C%2022.0%5D%2C%20%5B12.3872141%2C%2076.6669626%2C%2022.0%5D%2C%20%5B12.5442176%2C%2077.4213833%2C%2019.0%5D%2C%20%5B13.007516%2C%2077.695935%2C%2018.0%5D%2C%20%5B12.9055682%2C%2077.5455438%2C%2017.0%5D%2C%20%5B13.0382184%2C%2077.5919%2C%2014.0%5D%2C%20%5B13.0217151%2C%2077.7660547%2C%2014.0%5D%2C%20%5B12.9176571%2C%2077.4837568%2C%209.0%5D%2C%20%5B12.9546741%2C%2077.5121724%2C%209.0%5D%2C%20%5B12.9900235%2C%2077.572073%2C%208.0%5D%2C%20%5B12.8759384%2C%2077.5960999%2C%206.0%5D%2C%20%5B13.1006982%2C%2077.5963454%2C%206.0%5D%2C%20%5B13.0784743%2C%2077.6068938%2C%203.0%5D%2C%20%5B12.9274413%2C%2077.5155224%2C%202.0%5D%2C%20%5B13.0329419%2C%2077.5273253%2C%201.0%5D%5D%2C%0A%20%20%20%20%20%20%20%20%20%20%20%20%20%20%20%20%7B%22blur%22%3A%2015%2C%20%22max%22%3A%201.0%2C%20%22maxZoom%22%3A%2020%2C%20%22minOpacity%22%3A%200.5%2C%20%22radius%22%3A%2025%7D%0A%20%20%20%20%20%20%20%20%20%20%20%20%29.addTo%28map_c274f5f7e6614c69ac89f7f4b1aada0d%29%3B%0A%20%20%20%20%20%20%20%20%0A%20%20%20%20%0A%20%20%20%20%20%20%20%20%20%20%20%20var%20fast_marker_cluster_a97eabbac7044ce8b4a47ef7df01bb81%20%3D%20%28function%28%29%7B%0A%20%20%20%20%20%20%20%20%20%20%20%20%20%20%20%20%0A%20%20%20%20%20%20%20%20%20%20%20%20%20%20%20%20var%20callback%20%3D%20function%20%28row%29%20%7B%0A%20%20%20%20%20%20%20%20%20%20%20%20%20%20%20%20%20%20%20%20var%20icon%20%3D%20L.AwesomeMarkers.icon%28%29%3B%0A%20%20%20%20%20%20%20%20%20%20%20%20%20%20%20%20%20%20%20%20var%20marker%20%3D%20L.marker%28new%20L.LatLng%28row%5B0%5D%2C%20row%5B1%5D%29%29%3B%0A%20%20%20%20%20%20%20%20%20%20%20%20%20%20%20%20%20%20%20%20marker.setIcon%28icon%29%3B%0A%20%20%20%20%20%20%20%20%20%20%20%20%20%20%20%20%20%20%20%20return%20marker%3B%0A%20%20%20%20%20%20%20%20%20%20%20%20%20%20%20%20%7D%3B%0A%0A%20%20%20%20%20%20%20%20%20%20%20%20%20%20%20%20var%20data%20%3D%20%5B%5B45.95485055%2C%20-112.49659530324134%2C%205124.0%5D%2C%20%5B18.1475%2C%2041.538889%2C%202523.0%5D%2C%20%5B12.9343774%2C%2077.628415%2C%202504.0%5D%2C%20%5B12.2655944%2C%2076.6465404%2C%202235.0%5D%2C%20%5B44.3730577%2C%20-71.6118577%2C%202144.0%5D%2C%20%5B12.9732913%2C%2077.6404672%2C%202083.0%5D%2C%20%5B27.64392675%2C%2083.05280519687284%2C%201926.0%5D%2C%20%5B12.9552572%2C%2077.6984163%2C%201846.0%5D%2C%20%5B12.9114375%2C%2077.5999754%2C%201630.0%5D%2C%20%5B12.93577245%2C%2077.66676103753434%2C%201286.0%5D%2C%20%5B32.2934563%2C%20-64.78236307254568%2C%201258.0%5D%2C%20%5B14.5395813%2C%20121.070371%2C%201238.0%5D%2C%20%5B44.621621%2C%20-84.790422%2C%201218.0%5D%2C%20%5B12.9302645%2C%2077.6332585%2C%201181.0%5D%2C%20%5B12.9400321%2C%2077.6203272%2C%201156.0%5D%2C%20%5B12.9252241%2C%2077.6367015%2C%201065.0%5D%2C%20%5B12.9778793%2C%2077.6246697%2C%201023.0%5D%2C%20%5B12.93433385%2C%2077.63040639553275%2C%201017.0%5D%2C%20%5B17.1452094%2C%2079.6218777%2C%20918.0%5D%2C%20%5B15.8876779%2C%2075.7046777%2C%20906.0%5D%2C%20%5B13.0221416%2C%2077.6403368%2C%20853.0%5D%2C%20%5B50.7721586%2C%200.09772783661369303%2C%20812.0%5D%2C%20%5B12.996845%2C%2077.6130165%2C%20727.0%5D%2C%20%5B13.0027353%2C%2077.5703253%2C%20725.0%5D%2C%20%5B12.9417261%2C%2077.5755021%2C%20684.0%5D%2C%20%5B-28.5477541%2C%2029.788093%2C%20675.0%5D%2C%20%5B13.0141618%2C%2077.6518539%2C%20664.0%5D%2C%20%5B33.5935063%2C%20-79.0345627%2C%20658.0%5D%2C%20%5B13.0170347%2C%2077.5726006%2C%20649.0%5D%2C%20%5B13.0093455%2C%2077.6377094%2C%20648.0%5D%2C%20%5B12.9882338%2C%2077.554883%2C%20591.0%5D%2C%20%5B51.373656%2C%20-0.1042366%2C%20569.0%5D%2C%20%5B40.7652844%2C%20-76.373824%2C%20529.0%5D%2C%20%5B17.5223139%2C%2078.5804307%2C%20511.0%5D%2C%20%5B18.5322493%2C%2073.8499601124847%2C%20499.0%5D%2C%20%5B12.9624669%2C%2077.6381958%2C%20496.0%5D%2C%20%5B31.89376%2C%20-88.066644%2C%20491.0%5D%2C%20%5B23.769728%2C%2090.3893881%2C%20446.0%5D%2C%20%5B12.945245%2C%2077.6269144%2C%20439.0%5D%2C%20%5B51.5209606%2C%20-0.0751003%2C%20370.0%5D%2C%20%5B51.5230784%2C%20-0.7374421%2C%20352.0%5D%2C%20%5B12.9417812%2C%2077.6160146%2C%20320.0%5D%2C%20%5B12.988721250000001%2C%2077.58516877601824%2C%20295.0%5D%2C%20%5B12.9678074%2C%2077.6568367%2C%20272.0%5D%2C%20%5B12.9489339%2C%2077.5968273%2C%20246.0%5D%2C%20%5B12.9089453%2C%2077.6239038%2C%20238.0%5D%2C%20%5B12.9271867%2C%2077.6266252%2C%20216.0%5D%2C%20%5B12.9081487%2C%2077.5553179%2C%20195.0%5D%2C%20%5B12.973936%2C%2077.6509982%2C%20194.0%5D%2C%20%5B12.9932236%2C%2077.5391579%2C%20191.0%5D%2C%20%5B13.2227%2C%2078.5541977%2C%20187.0%5D%2C%20%5B12.9931876%2C%2077.5753419%2C%20165.0%5D%2C%20%5B13.0258087%2C%2077.6305067%2C%20161.0%5D%2C%20%5B1.2847055%2C%20103.84320655721689%2C%20155.0%5D%2C%20%5B13.0358698%2C%2077.6323597%2C%20153.0%5D%2C%20%5B-34.0048654%2C%2022.4414125%2C%20151.0%5D%2C%20%5B22.3083138%2C%2073.1615488%2C%20139.0%5D%2C%20%5B39.76880625%2C%20-86.15345077251979%2C%20126.0%5D%2C%20%5B13.02383%2C%2077.5529215%2C%20119.0%5D%2C%20%5B12.9414662%2C%2077.7470942%2C%20117.0%5D%2C%20%5B12.967576%2C%2077.7150877%2C%20113.0%5D%2C%20%5B13.0646907%2C%2077.49626895712257%2C%20107.0%5D%2C%20%5B12.9243509%2C%2077.6255562%2C%20102.0%5D%2C%20%5B12.7405867%2C%2077.8200481%2C%20102.0%5D%2C%20%5B12.9846713%2C%2077.6790908%2C%20101.0%5D%2C%20%5B17.2510682%2C%2080.1651978%2C%2090.0%5D%2C%20%5B23.1883478%2C%2079.9092722%2C%2080.0%5D%2C%20%5B13.0227204%2C%2077.595715%2C%2080.0%5D%2C%20%5B23.1485712%2C%2081.6048241%2C%2076.0%5D%2C%20%5B15.8782951%2C%2074.5084834%2C%2063.0%5D%2C%20%5B13.0621474%2C%2077.58006135480495%2C%2053.0%5D%2C%20%5B13.2923988%2C%2077.7519261%2C%2048.0%5D%2C%20%5B13.0215466%2C%2077.7640586%2C%2044.0%5D%2C%20%5B13.6285774%2C%2077.4642026%2C%2038.0%5D%2C%20%5B12.945048%2C%2077.263004%2C%2034.0%5D%2C%20%5B12.957998%2C%2077.6037312%2C%2027.0%5D%2C%20%5B38.7801076%2C%20-121.5056438%2C%2027.0%5D%2C%20%5B13.0774728%2C%2077.8010327%2C%2022.0%5D%2C%20%5B12.3872141%2C%2076.6669626%2C%2022.0%5D%2C%20%5B12.5442176%2C%2077.4213833%2C%2019.0%5D%2C%20%5B13.007516%2C%2077.695935%2C%2018.0%5D%2C%20%5B12.9055682%2C%2077.5455438%2C%2017.0%5D%2C%20%5B13.0382184%2C%2077.5919%2C%2014.0%5D%2C%20%5B13.0217151%2C%2077.7660547%2C%2014.0%5D%2C%20%5B12.9176571%2C%2077.4837568%2C%209.0%5D%2C%20%5B12.9546741%2C%2077.5121724%2C%209.0%5D%2C%20%5B12.9900235%2C%2077.572073%2C%208.0%5D%2C%20%5B12.8759384%2C%2077.5960999%2C%206.0%5D%2C%20%5B13.1006982%2C%2077.5963454%2C%206.0%5D%2C%20%5B13.0784743%2C%2077.6068938%2C%203.0%5D%2C%20%5B12.9274413%2C%2077.5155224%2C%202.0%5D%2C%20%5B13.0329419%2C%2077.5273253%2C%201.0%5D%5D%3B%0A%20%20%20%20%20%20%20%20%20%20%20%20%20%20%20%20var%20cluster%20%3D%20L.markerClusterGroup%28%7B%22maxZoom%22%3A%2020%7D%29%3B%0A%0A%20%20%20%20%20%20%20%20%20%20%20%20%20%20%20%20for%20%28var%20i%20%3D%200%3B%20i%20%3C%20data.length%3B%20i%2B%2B%29%20%7B%0A%20%20%20%20%20%20%20%20%20%20%20%20%20%20%20%20%20%20%20%20var%20row%20%3D%20data%5Bi%5D%3B%0A%20%20%20%20%20%20%20%20%20%20%20%20%20%20%20%20%20%20%20%20var%20marker%20%3D%20callback%28row%29%3B%0A%20%20%20%20%20%20%20%20%20%20%20%20%20%20%20%20%20%20%20%20marker.addTo%28cluster%29%3B%0A%20%20%20%20%20%20%20%20%20%20%20%20%20%20%20%20%7D%0A%0A%20%20%20%20%20%20%20%20%20%20%20%20%20%20%20%20cluster.addTo%28map_c274f5f7e6614c69ac89f7f4b1aada0d%29%3B%0A%20%20%20%20%20%20%20%20%20%20%20%20%20%20%20%20return%20cluster%3B%0A%20%20%20%20%20%20%20%20%20%20%20%20%7D%29%28%29%3B%0A%20%20%20%20%20%20%20%20%0A%20%20%20%20%0A%20%20%20%20%20%20%20%20%20%20%20%20var%20fast_marker_cluster_3f3c613426ae436aa429a8a478520560%20%3D%20%28function%28%29%7B%0A%20%20%20%20%20%20%20%20%20%20%20%20%20%20%20%20%0A%20%20%20%20%20%20%20%20%20%20%20%20%20%20%20%20var%20callback%20%3D%20function%20%28row%29%20%7B%0A%20%20%20%20%20%20%20%20%20%20%20%20%20%20%20%20%20%20%20%20var%20icon%20%3D%20L.AwesomeMarkers.icon%28%29%3B%0A%20%20%20%20%20%20%20%20%20%20%20%20%20%20%20%20%20%20%20%20var%20marker%20%3D%20L.marker%28new%20L.LatLng%28row%5B0%5D%2C%20row%5B1%5D%29%29%3B%0A%20%20%20%20%20%20%20%20%20%20%20%20%20%20%20%20%20%20%20%20marker.setIcon%28icon%29%3B%0A%20%20%20%20%20%20%20%20%20%20%20%20%20%20%20%20%20%20%20%20return%20marker%3B%0A%20%20%20%20%20%20%20%20%20%20%20%20%20%20%20%20%7D%3B%0A%0A%20%20%20%20%20%20%20%20%20%20%20%20%20%20%20%20var%20data%20%3D%20%5B%5B40.7652844%2C%20-76.373824%2C%204.142505133470229%5D%2C%20%5B12.9271867%2C%2077.6266252%2C%204.020418848167542%5D%2C%20%5B51.5230784%2C%20-0.7374421%2C%204.0172011661807625%5D%2C%20%5B12.9343774%2C%2077.628415%2C%204.005821474773605%5D%2C%20%5B51.373656%2C%20-0.1042366%2C%203.9921245421245417%5D%2C%20%5B38.7801076%2C%20-121.5056438%2C%203.9653846153846155%5D%2C%20%5B12.93433385%2C%2077.63040639553275%2C%203.918668252080863%5D%2C%20%5B31.89376%2C%20-88.066644%2C%203.901052631578944%5D%2C%20%5B-28.5477541%2C%2029.788093%2C%203.863636363636363%5D%2C%20%5B17.1452094%2C%2079.6218777%2C%203.855856966707763%5D%2C%20%5B12.9302645%2C%2077.6332585%2C%203.850377358490572%5D%2C%20%5B12.9274413%2C%2077.5155224%2C%203.85%5D%2C%20%5B15.8782951%2C%2074.5084834%2C%203.839655172413795%5D%2C%20%5B12.9732913%2C%2077.6404672%2C%203.8281537628586864%5D%2C%20%5B50.7721586%2C%200.09772783661369303%2C%203.820588235294112%5D%2C%20%5B12.957998%2C%2077.6037312%2C%203.8074074074074087%5D%2C%20%5B-34.0048654%2C%2022.4414125%2C%203.796428571428575%5D%2C%20%5B12.7405867%2C%2077.8200481%2C%203.7902777777777765%5D%2C%20%5B22.3083138%2C%2073.1615488%2C%203.7822222222222215%5D%2C%20%5B13.0221416%2C%2077.6403368%2C%203.7819484240687675%5D%2C%20%5B27.64392675%2C%2083.05280519687284%2C%203.7802799756542913%5D%2C%20%5B12.9400321%2C%2077.6203272%2C%203.778087279480038%5D%2C%20%5B13.0027353%2C%2077.5703253%2C%203.7596573208722703%5D%2C%20%5B12.9778793%2C%2077.6246697%2C%203.758303886925801%5D%2C%20%5B12.9243509%2C%2077.6255562%2C%203.7494252873563205%5D%2C%20%5B12.9417812%2C%2077.6160146%2C%203.731896551724133%5D%2C%20%5B13.2923988%2C%2077.7519261%2C%203.7266666666666675%5D%2C%20%5B12.9176571%2C%2077.4837568%2C%203.7222222222222223%5D%2C%20%5B44.621621%2C%20-84.790422%2C%203.705228136882133%5D%2C%20%5B12.9931876%2C%2077.5753419%2C%203.7049295774647875%5D%2C%20%5B14.5395813%2C%20121.070371%2C%203.6968309859154895%5D%2C%20%5B13.0170347%2C%2077.5726006%2C%203.6889763779527587%5D%2C%20%5B12.9252241%2C%2077.6367015%2C%203.6861431870669703%5D%2C%20%5B12.988721250000001%2C%2077.58516877601824%2C%203.6832653061224487%5D%2C%20%5B13.0358698%2C%2077.6323597%2C%203.6767676767676756%5D%2C%20%5B12.2655944%2C%2076.6465404%2C%203.6753057658707022%5D%2C%20%5B18.1475%2C%2041.538889%2C%203.672164437840516%5D%2C%20%5B12.9417261%2C%2077.5755021%2C%203.6710924369747864%5D%2C%20%5B13.0093455%2C%2077.6377094%2C%203.6674650698602806%5D%2C%20%5B12.3872141%2C%2076.6669626%2C%203.658823529411766%5D%2C%20%5B23.769728%2C%2090.3893881%2C%203.6541899441340804%5D%2C%20%5B15.8876779%2C%2075.7046777%2C%203.6498655913978517%5D%2C%20%5B12.9932236%2C%2077.5391579%2C%203.646715328467154%5D%2C%20%5B13.1006982%2C%2077.5963454%2C%203.6399999999999997%5D%2C%20%5B13.0621474%2C%2077.58006135480495%2C%203.6333333333333333%5D%2C%20%5B12.9900235%2C%2077.572073%2C%203.6250000000000004%5D%2C%20%5B44.3730577%2C%20-71.6118577%2C%203.6216182048040446%5D%2C%20%5B12.9882338%2C%2077.554883%2C%203.6154013015184363%5D%2C%20%5B12.996845%2C%2077.6130165%2C%203.614912280701751%5D%2C%20%5B23.1883478%2C%2079.9092722%2C%203.604687500000001%5D%2C%20%5B13.0382184%2C%2077.5919%2C%203.6%5D%2C%20%5B33.5935063%2C%20-79.0345627%2C%203.5976146788990837%5D%2C%20%5B12.9678074%2C%2077.6568367%2C%203.580079681274901%5D%2C%20%5B12.967576%2C%2077.7150877%2C%203.5756410256410263%5D%2C%20%5B45.95485055%2C%20-112.49659530324134%2C%203.573740458015275%5D%2C%20%5B12.9414662%2C%2077.7470942%2C%203.5674418604651152%5D%2C%20%5B51.5209606%2C%20-0.0751003%2C%203.558888888888888%5D%2C%20%5B12.9624669%2C%2077.6381958%2C%203.55110024449878%5D%2C%20%5B12.9552572%2C%2077.6984163%2C%203.5419265419265433%5D%2C%20%5B13.007516%2C%2077.695935%2C%203.54%5D%2C%20%5B12.973936%2C%2077.6509982%2C%203.5375939849624065%5D%2C%20%5B39.76880625%2C%20-86.15345077251979%2C%203.5368421052631582%5D%2C%20%5B12.9489339%2C%2077.5968273%2C%203.536363636363633%5D%2C%20%5B12.93577245%2C%2077.66676103753434%2C%203.525691699604741%5D%2C%20%5B17.5223139%2C%2078.5804307%2C%203.5222826086956553%5D%2C%20%5B12.9846713%2C%2077.6790908%2C%203.5122222222222224%5D%2C%20%5B12.9055682%2C%2077.5455438%2C%203.511111111111111%5D%2C%20%5B12.9114375%2C%2077.5999754%2C%203.5074493927125534%5D%2C%20%5B13.2227%2C%2078.5541977%2C%203.5031847133757963%5D%2C%20%5B13.02383%2C%2077.5529215%2C%203.5026785714285693%5D%2C%20%5B1.2847055%2C%20103.84320655721689%2C%203.501801801801799%5D%2C%20%5B23.1485712%2C%2081.6048241%2C%203.5000000000000004%5D%2C%20%5B18.5322493%2C%2073.8499601124847%2C%203.498916967509032%5D%2C%20%5B13.0646907%2C%2077.49626895712257%2C%203.496629213483147%5D%2C%20%5B13.0141618%2C%2077.6518539%2C%203.4960416666666694%5D%2C%20%5B13.0258087%2C%2077.6305067%2C%203.4939655172413784%5D%2C%20%5B32.2934563%2C%20-64.78236307254568%2C%203.4909523809523826%5D%2C%20%5B13.6285774%2C%2077.4642026%2C%203.4869565217391307%5D%2C%20%5B12.5442176%2C%2077.4213833%2C%203.478947368421052%5D%2C%20%5B17.2510682%2C%2080.1651978%2C%203.4786885245901638%5D%2C%20%5B12.945245%2C%2077.6269144%2C%203.477692307692308%5D%2C%20%5B13.0215466%2C%2077.7640586%2C%203.474999999999999%5D%2C%20%5B12.9081487%2C%2077.5553179%2C%203.4645962732919258%5D%2C%20%5B13.0227204%2C%2077.595715%2C%203.439344262295081%5D%2C%20%5B12.945048%2C%2077.263004%2C%203.4375000000000004%5D%2C%20%5B12.9546741%2C%2077.5121724%2C%203.4%5D%2C%20%5B12.8759384%2C%2077.5960999%2C%203.3666666666666667%5D%2C%20%5B13.0217151%2C%2077.7660547%2C%203.3400000000000007%5D%2C%20%5B13.0329419%2C%2077.5273253%2C%203.2%5D%2C%20%5B12.9089453%2C%2077.6239038%2C%203.190972222222224%5D%2C%20%5B13.0774728%2C%2077.8010327%2C%203.1818181818181825%5D%5D%3B%0A%20%20%20%20%20%20%20%20%20%20%20%20%20%20%20%20var%20cluster%20%3D%20L.markerClusterGroup%28%7B%22maxZoom%22%3A%2020%7D%29%3B%0A%0A%20%20%20%20%20%20%20%20%20%20%20%20%20%20%20%20for%20%28var%20i%20%3D%200%3B%20i%20%3C%20data.length%3B%20i%2B%2B%29%20%7B%0A%20%20%20%20%20%20%20%20%20%20%20%20%20%20%20%20%20%20%20%20var%20row%20%3D%20data%5Bi%5D%3B%0A%20%20%20%20%20%20%20%20%20%20%20%20%20%20%20%20%20%20%20%20var%20marker%20%3D%20callback%28row%29%3B%0A%20%20%20%20%20%20%20%20%20%20%20%20%20%20%20%20%20%20%20%20marker.addTo%28cluster%29%3B%0A%20%20%20%20%20%20%20%20%20%20%20%20%20%20%20%20%7D%0A%0A%20%20%20%20%20%20%20%20%20%20%20%20%20%20%20%20cluster.addTo%28map_c274f5f7e6614c69ac89f7f4b1aada0d%29%3B%0A%20%20%20%20%20%20%20%20%20%20%20%20%20%20%20%20return%20cluster%3B%0A%20%20%20%20%20%20%20%20%20%20%20%20%7D%29%28%29%3B%0A%20%20%20%20%20%20%20%20%0A%20%20%20%20%0A%20%20%20%20%20%20%20%20%20%20%20%20var%20heat_map_1bdd4ca1849f48eeb784e367b85de538%20%3D%20L.heatLayer%28%0A%20%20%20%20%20%20%20%20%20%20%20%20%20%20%20%20%5B%5B40.7652844%2C%20-76.373824%2C%204.142505133470229%5D%2C%20%5B12.9271867%2C%2077.6266252%2C%204.020418848167542%5D%2C%20%5B51.5230784%2C%20-0.7374421%2C%204.0172011661807625%5D%2C%20%5B12.9343774%2C%2077.628415%2C%204.005821474773605%5D%2C%20%5B51.373656%2C%20-0.1042366%2C%203.9921245421245417%5D%2C%20%5B38.7801076%2C%20-121.5056438%2C%203.9653846153846155%5D%2C%20%5B12.93433385%2C%2077.63040639553275%2C%203.918668252080863%5D%2C%20%5B31.89376%2C%20-88.066644%2C%203.901052631578944%5D%2C%20%5B-28.5477541%2C%2029.788093%2C%203.863636363636363%5D%2C%20%5B17.1452094%2C%2079.6218777%2C%203.855856966707763%5D%2C%20%5B12.9302645%2C%2077.6332585%2C%203.850377358490572%5D%2C%20%5B12.9274413%2C%2077.5155224%2C%203.85%5D%2C%20%5B15.8782951%2C%2074.5084834%2C%203.839655172413795%5D%2C%20%5B12.9732913%2C%2077.6404672%2C%203.8281537628586864%5D%2C%20%5B50.7721586%2C%200.09772783661369303%2C%203.820588235294112%5D%2C%20%5B12.957998%2C%2077.6037312%2C%203.8074074074074087%5D%2C%20%5B-34.0048654%2C%2022.4414125%2C%203.796428571428575%5D%2C%20%5B12.7405867%2C%2077.8200481%2C%203.7902777777777765%5D%2C%20%5B22.3083138%2C%2073.1615488%2C%203.7822222222222215%5D%2C%20%5B13.0221416%2C%2077.6403368%2C%203.7819484240687675%5D%2C%20%5B27.64392675%2C%2083.05280519687284%2C%203.7802799756542913%5D%2C%20%5B12.9400321%2C%2077.6203272%2C%203.778087279480038%5D%2C%20%5B13.0027353%2C%2077.5703253%2C%203.7596573208722703%5D%2C%20%5B12.9778793%2C%2077.6246697%2C%203.758303886925801%5D%2C%20%5B12.9243509%2C%2077.6255562%2C%203.7494252873563205%5D%2C%20%5B12.9417812%2C%2077.6160146%2C%203.731896551724133%5D%2C%20%5B13.2923988%2C%2077.7519261%2C%203.7266666666666675%5D%2C%20%5B12.9176571%2C%2077.4837568%2C%203.7222222222222223%5D%2C%20%5B44.621621%2C%20-84.790422%2C%203.705228136882133%5D%2C%20%5B12.9931876%2C%2077.5753419%2C%203.7049295774647875%5D%2C%20%5B14.5395813%2C%20121.070371%2C%203.6968309859154895%5D%2C%20%5B13.0170347%2C%2077.5726006%2C%203.6889763779527587%5D%2C%20%5B12.9252241%2C%2077.6367015%2C%203.6861431870669703%5D%2C%20%5B12.988721250000001%2C%2077.58516877601824%2C%203.6832653061224487%5D%2C%20%5B13.0358698%2C%2077.6323597%2C%203.6767676767676756%5D%2C%20%5B12.2655944%2C%2076.6465404%2C%203.6753057658707022%5D%2C%20%5B18.1475%2C%2041.538889%2C%203.672164437840516%5D%2C%20%5B12.9417261%2C%2077.5755021%2C%203.6710924369747864%5D%2C%20%5B13.0093455%2C%2077.6377094%2C%203.6674650698602806%5D%2C%20%5B12.3872141%2C%2076.6669626%2C%203.658823529411766%5D%2C%20%5B23.769728%2C%2090.3893881%2C%203.6541899441340804%5D%2C%20%5B15.8876779%2C%2075.7046777%2C%203.6498655913978517%5D%2C%20%5B12.9932236%2C%2077.5391579%2C%203.646715328467154%5D%2C%20%5B13.1006982%2C%2077.5963454%2C%203.6399999999999997%5D%2C%20%5B13.0621474%2C%2077.58006135480495%2C%203.6333333333333333%5D%2C%20%5B12.9900235%2C%2077.572073%2C%203.6250000000000004%5D%2C%20%5B44.3730577%2C%20-71.6118577%2C%203.6216182048040446%5D%2C%20%5B12.9882338%2C%2077.554883%2C%203.6154013015184363%5D%2C%20%5B12.996845%2C%2077.6130165%2C%203.614912280701751%5D%2C%20%5B23.1883478%2C%2079.9092722%2C%203.604687500000001%5D%2C%20%5B13.0382184%2C%2077.5919%2C%203.6%5D%2C%20%5B33.5935063%2C%20-79.0345627%2C%203.5976146788990837%5D%2C%20%5B12.9678074%2C%2077.6568367%2C%203.580079681274901%5D%2C%20%5B12.967576%2C%2077.7150877%2C%203.5756410256410263%5D%2C%20%5B45.95485055%2C%20-112.49659530324134%2C%203.573740458015275%5D%2C%20%5B12.9414662%2C%2077.7470942%2C%203.5674418604651152%5D%2C%20%5B51.5209606%2C%20-0.0751003%2C%203.558888888888888%5D%2C%20%5B12.9624669%2C%2077.6381958%2C%203.55110024449878%5D%2C%20%5B12.9552572%2C%2077.6984163%2C%203.5419265419265433%5D%2C%20%5B13.007516%2C%2077.695935%2C%203.54%5D%2C%20%5B12.973936%2C%2077.6509982%2C%203.5375939849624065%5D%2C%20%5B39.76880625%2C%20-86.15345077251979%2C%203.5368421052631582%5D%2C%20%5B12.9489339%2C%2077.5968273%2C%203.536363636363633%5D%2C%20%5B12.93577245%2C%2077.66676103753434%2C%203.525691699604741%5D%2C%20%5B17.5223139%2C%2078.5804307%2C%203.5222826086956553%5D%2C%20%5B12.9846713%2C%2077.6790908%2C%203.5122222222222224%5D%2C%20%5B12.9055682%2C%2077.5455438%2C%203.511111111111111%5D%2C%20%5B12.9114375%2C%2077.5999754%2C%203.5074493927125534%5D%2C%20%5B13.2227%2C%2078.5541977%2C%203.5031847133757963%5D%2C%20%5B13.02383%2C%2077.5529215%2C%203.5026785714285693%5D%2C%20%5B1.2847055%2C%20103.84320655721689%2C%203.501801801801799%5D%2C%20%5B23.1485712%2C%2081.6048241%2C%203.5000000000000004%5D%2C%20%5B18.5322493%2C%2073.8499601124847%2C%203.498916967509032%5D%2C%20%5B13.0646907%2C%2077.49626895712257%2C%203.496629213483147%5D%2C%20%5B13.0141618%2C%2077.6518539%2C%203.4960416666666694%5D%2C%20%5B13.0258087%2C%2077.6305067%2C%203.4939655172413784%5D%2C%20%5B32.2934563%2C%20-64.78236307254568%2C%203.4909523809523826%5D%2C%20%5B13.6285774%2C%2077.4642026%2C%203.4869565217391307%5D%2C%20%5B12.5442176%2C%2077.4213833%2C%203.478947368421052%5D%2C%20%5B17.2510682%2C%2080.1651978%2C%203.4786885245901638%5D%2C%20%5B12.945245%2C%2077.6269144%2C%203.477692307692308%5D%2C%20%5B13.0215466%2C%2077.7640586%2C%203.474999999999999%5D%2C%20%5B12.9081487%2C%2077.5553179%2C%203.4645962732919258%5D%2C%20%5B13.0227204%2C%2077.595715%2C%203.439344262295081%5D%2C%20%5B12.945048%2C%2077.263004%2C%203.4375000000000004%5D%2C%20%5B12.9546741%2C%2077.5121724%2C%203.4%5D%2C%20%5B12.8759384%2C%2077.5960999%2C%203.3666666666666667%5D%2C%20%5B13.0217151%2C%2077.7660547%2C%203.3400000000000007%5D%2C%20%5B13.0329419%2C%2077.5273253%2C%203.2%5D%2C%20%5B12.9089453%2C%2077.6239038%2C%203.190972222222224%5D%2C%20%5B13.0774728%2C%2077.8010327%2C%203.1818181818181825%5D%5D%2C%0A%20%20%20%20%20%20%20%20%20%20%20%20%20%20%20%20%7B%22blur%22%3A%2015%2C%20%22max%22%3A%201.0%2C%20%22maxZoom%22%3A%2020%2C%20%22minOpacity%22%3A%200.5%2C%20%22radius%22%3A%2025%7D%0A%20%20%20%20%20%20%20%20%20%20%20%20%29.addTo%28map_c274f5f7e6614c69ac89f7f4b1aada0d%29%3B%0A%20%20%20%20%20%20%20%20%0A%20%20%20%20%0A%20%20%20%20%20%20%20%20%20%20%20%20var%20heat_map_dc5c7c6407474a6985249771d4f9414f%20%3D%20L.heatLayer%28%0A%20%20%20%20%20%20%20%20%20%20%20%20%20%20%20%20%5B%5B45.95485055%2C%20-112.49659530324134%2C%2059.0%5D%2C%20%5B15.8876779%2C%2075.7046777%2C%2055.0%5D%2C%20%5B13.0141618%2C%2077.6518539%2C%2027.0%5D%2C%20%5B12.9114375%2C%2077.5999754%2C%2020.0%5D%2C%20%5B12.9417261%2C%2077.5755021%2C%2084.0%5D%2C%20%5B12.9932236%2C%2077.5391579%2C%206.0%5D%2C%20%5B12.93577245%2C%2077.66676103753434%2C%2020.0%5D%2C%20%5B12.9089453%2C%2077.6239038%2C%201.0%5D%2C%20%5B44.621621%2C%20-84.790422%2C%2012.0%5D%2C%20%5B33.5935063%2C%20-79.0345627%2C%2024.0%5D%2C%20%5B17.2510682%2C%2080.1651978%2C%202.0%5D%2C%20%5B51.373656%2C%20-0.1042366%2C%205.0%5D%2C%20%5B39.76880625%2C%20-86.15345077251979%2C%2011.0%5D%2C%20%5B51.5209606%2C%20-0.0751003%2C%2024.0%5D%2C%20%5B12.9624669%2C%2077.6381958%2C%2011.0%5D%2C%20%5B12.945245%2C%2077.6269144%2C%208.0%5D%2C%20%5B32.2934563%2C%20-64.78236307254568%2C%2021.0%5D%2C%20%5B12.996845%2C%2077.6130165%2C%2037.0%5D%2C%20%5B18.1475%2C%2041.538889%2C%2056.0%5D%2C%20%5B13.0258087%2C%2077.6305067%2C%202.0%5D%2C%20%5B12.967576%2C%2077.7150877%2C%206.0%5D%2C%20%5B12.9732913%2C%2077.6404672%2C%2041.0%5D%2C%20%5B12.2655944%2C%2076.6465404%2C%2046.0%5D%2C%20%5B13.6285774%2C%2077.4642026%2C%201.0%5D%2C%20%5B27.64392675%2C%2083.05280519687284%2C%2086.0%5D%2C%20%5B12.9678074%2C%2077.6568367%2C%2010.0%5D%2C%20%5B12.9846713%2C%2077.6790908%2C%206.0%5D%2C%20%5B13.0221416%2C%2077.6403368%2C%2011.0%5D%2C%20%5B13.0093455%2C%2077.6377094%2C%2016.0%5D%2C%20%5B12.5442176%2C%2077.4213833%2C%201.0%5D%2C%20%5B14.5395813%2C%20121.070371%2C%203.0%5D%2C%20%5B12.9243509%2C%2077.6255562%2C%2010.0%5D%2C%20%5B12.93433385%2C%2077.63040639553275%2C%204.0%5D%2C%20%5B12.9343774%2C%2077.628415%2C%2015.0%5D%2C%20%5B12.9400321%2C%2077.6203272%2C%2041.0%5D%2C%20%5B12.9302645%2C%2077.6332585%2C%2011.0%5D%2C%20%5B12.9081487%2C%2077.5553179%2C%204.0%5D%2C%20%5B17.1452094%2C%2079.6218777%2C%2015.0%5D%2C%20%5B12.945048%2C%2077.263004%2C%202.0%5D%2C%20%5B1.2847055%2C%20103.84320655721689%2C%2019.0%5D%2C%20%5B13.0027353%2C%2077.5703253%2C%2054.0%5D%2C%20%5B12.9552572%2C%2077.6984163%2C%2028.0%5D%2C%20%5B12.3872141%2C%2076.6669626%2C%206.0%5D%2C%20%5B13.2227%2C%2078.5541977%2C%207.0%5D%2C%20%5B13.0170347%2C%2077.5726006%2C%2012.0%5D%2C%20%5B23.769728%2C%2090.3893881%2C%202.0%5D%2C%20%5B13.0227204%2C%2077.595715%2C%201.0%5D%2C%20%5B22.3083138%2C%2073.1615488%2C%209.0%5D%2C%20%5B12.9882338%2C%2077.554883%2C%2041.0%5D%2C%20%5B50.7721586%2C%200.09772783661369303%2C%2019.0%5D%2C%20%5B15.8782951%2C%2074.5084834%2C%204.0%5D%2C%20%5B13.0621474%2C%2077.58006135480495%2C%204.0%5D%2C%20%5B23.1485712%2C%2081.6048241%2C%205.0%5D%2C%20%5B38.7801076%2C%20-121.5056438%2C%201.0%5D%2C%20%5B12.9252241%2C%2077.6367015%2C%2018.0%5D%2C%20%5B12.9931876%2C%2077.5753419%2C%203.0%5D%2C%20%5B17.5223139%2C%2078.5804307%2C%2029.0%5D%2C%20%5B18.5322493%2C%2073.8499601124847%2C%2054.0%5D%2C%20%5B51.5230784%2C%20-0.7374421%2C%205.0%5D%2C%20%5B12.973936%2C%2077.6509982%2C%204.0%5D%2C%20%5B12.9778793%2C%2077.6246697%2C%2019.0%5D%2C%20%5B12.9414662%2C%2077.7470942%2C%208.0%5D%2C%20%5B12.988721250000001%2C%2077.58516877601824%2C%206.0%5D%2C%20%5B23.1883478%2C%2079.9092722%2C%208.0%5D%2C%20%5B44.3730577%2C%20-71.6118577%2C%2035.0%5D%2C%20%5B12.9489339%2C%2077.5968273%2C%2015.0%5D%2C%20%5B13.02383%2C%2077.5529215%2C%202.0%5D%5D%2C%0A%20%20%20%20%20%20%20%20%20%20%20%20%20%20%20%20%7B%22blur%22%3A%2015%2C%20%22max%22%3A%201.0%2C%20%22maxZoom%22%3A%2020%2C%20%22minOpacity%22%3A%200.5%2C%20%22radius%22%3A%2025%7D%0A%20%20%20%20%20%20%20%20%20%20%20%20%29.addTo%28map_c274f5f7e6614c69ac89f7f4b1aada0d%29%3B%0A%20%20%20%20%20%20%20%20%0A%20%20%20%20%0A%20%20%20%20%20%20%20%20%20%20%20%20var%20heat_map_e76395a35fac4b63a6950f8fe1685a6d%20%3D%20L.heatLayer%28%0A%20%20%20%20%20%20%20%20%20%20%20%20%20%20%20%20%5B%5B45.95485055%2C%20-112.49659530324134%2C%2027.0%5D%2C%20%5B13.0141618%2C%2077.6518539%2C%2011.0%5D%2C%20%5B12.9114375%2C%2077.5999754%2C%2014.0%5D%2C%20%5B12.9417261%2C%2077.5755021%2C%2012.0%5D%2C%20%5B12.93577245%2C%2077.66676103753434%2C%207.0%5D%2C%20%5B44.621621%2C%20-84.790422%2C%205.0%5D%2C%20%5B51.373656%2C%20-0.1042366%2C%2021.0%5D%2C%20%5B31.89376%2C%20-88.066644%2C%204.0%5D%2C%20%5B12.945245%2C%2077.6269144%2C%204.0%5D%2C%20%5B32.2934563%2C%20-64.78236307254568%2C%208.0%5D%2C%20%5B12.996845%2C%2077.6130165%2C%206.0%5D%2C%20%5B13.0358698%2C%2077.6323597%2C%208.0%5D%2C%20%5B18.1475%2C%2041.538889%2C%2016.0%5D%2C%20%5B12.9732913%2C%2077.6404672%2C%2023.0%5D%2C%20%5B12.2655944%2C%2076.6465404%2C%2010.0%5D%2C%20%5B27.64392675%2C%2083.05280519687284%2C%206.0%5D%2C%20%5B13.0221416%2C%2077.6403368%2C%209.0%5D%2C%20%5B13.0093455%2C%2077.6377094%2C%206.0%5D%2C%20%5B14.5395813%2C%20121.070371%2C%2010.0%5D%2C%20%5B12.93433385%2C%2077.63040639553275%2C%2019.0%5D%2C%20%5B12.9343774%2C%2077.628415%2C%2016.0%5D%2C%20%5B12.9400321%2C%2077.6203272%2C%2025.0%5D%2C%20%5B12.9302645%2C%2077.6332585%2C%209.0%5D%2C%20%5B12.9417812%2C%2077.6160146%2C%204.0%5D%2C%20%5B17.1452094%2C%2079.6218777%2C%206.0%5D%2C%20%5B13.0027353%2C%2077.5703253%2C%2012.0%5D%2C%20%5B12.9552572%2C%2077.6984163%2C%2012.0%5D%2C%20%5B13.2227%2C%2078.5541977%2C%202.0%5D%2C%20%5B13.0170347%2C%2077.5726006%2C%202.0%5D%2C%20%5B23.769728%2C%2090.3893881%2C%204.0%5D%2C%20%5B12.9882338%2C%2077.554883%2C%204.0%5D%2C%20%5B-28.5477541%2C%2029.788093%2C%2019.0%5D%2C%20%5B50.7721586%2C%200.09772783661369303%2C%2025.0%5D%2C%20%5B12.9252241%2C%2077.6367015%2C%202.0%5D%2C%20%5B13.0646907%2C%2077.49626895712257%2C%206.0%5D%2C%20%5B12.973936%2C%2077.6509982%2C%201.0%5D%2C%20%5B12.9778793%2C%2077.6246697%2C%2018.0%5D%2C%20%5B44.3730577%2C%20-71.6118577%2C%2017.0%5D%5D%2C%0A%20%20%20%20%20%20%20%20%20%20%20%20%20%20%20%20%7B%22blur%22%3A%2015%2C%20%22max%22%3A%201.0%2C%20%22maxZoom%22%3A%2020%2C%20%22minOpacity%22%3A%200.5%2C%20%22radius%22%3A%2025%7D%0A%20%20%20%20%20%20%20%20%20%20%20%20%29.addTo%28map_c274f5f7e6614c69ac89f7f4b1aada0d%29%3B%0A%20%20%20%20%20%20%20%20%0A%3C/script%3E onload=\"this.contentDocument.open();this.contentDocument.write(    decodeURIComponent(this.getAttribute('data-html')));this.contentDocument.close();\" allowfullscreen webkitallowfullscreen mozallowfullscreen></iframe></div></div>"
            ],
            "text/plain": [
              "<folium.folium.Map at 0x7ff9d8469dd0>"
            ]
          },
          "metadata": {
            "tags": []
          },
          "execution_count": 160
        }
      ]
    },
    {
      "cell_type": "code",
      "metadata": {
        "id": "KsxZ2eiLJSef"
      },
      "source": [
        ""
      ],
      "execution_count": null,
      "outputs": []
    }
  ]
}